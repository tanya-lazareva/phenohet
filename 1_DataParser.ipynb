{
 "cells": [
  {
   "cell_type": "markdown",
   "id": "e9b7bf2b",
   "metadata": {},
   "source": [
    "# Library"
   ]
  },
  {
   "cell_type": "markdown",
   "id": "db930e1f",
   "metadata": {},
   "source": [
    "## Tools:\n",
    "#### - BCFtools\n",
    "#### - Genome Analysis Toolkit (GATK) framework\n",
    "\n",
    "##### could be installed via conda"
   ]
  },
  {
   "cell_type": "markdown",
   "id": "c9e0957d",
   "metadata": {},
   "source": [
    "## Python libraries"
   ]
  },
  {
   "cell_type": "code",
   "execution_count": 5,
   "id": "825535d4",
   "metadata": {},
   "outputs": [],
   "source": [
    "import pandas as pd\n",
    "import numpy as np"
   ]
  },
  {
   "cell_type": "markdown",
   "id": "d0aa288e",
   "metadata": {},
   "source": [
    "# ClinVar"
   ]
  },
  {
   "cell_type": "markdown",
   "id": "0eef4b09",
   "metadata": {},
   "source": [
    "##### get information about P/LP variants and annotated diseases from NCBI ClinVar database"
   ]
  },
  {
   "cell_type": "code",
   "execution_count": 1,
   "id": "b1a3e197",
   "metadata": {},
   "outputs": [],
   "source": [
    "! mkdir data"
   ]
  },
  {
   "cell_type": "markdown",
   "id": "e986a9ed",
   "metadata": {},
   "source": [
    "## 1.1. data download"
   ]
  },
  {
   "cell_type": "code",
   "execution_count": 36,
   "id": "6d1de689",
   "metadata": {},
   "outputs": [
    {
     "name": "stdout",
     "output_type": "stream",
     "text": [
      "--2023-04-02 08:33:07--  https://ftp.ncbi.nlm.nih.gov/pub/clinvar/vcf_GRCh38/clinvar_20230326.vcf.gz\n",
      "Распознаётся ftp.ncbi.nlm.nih.gov (ftp.ncbi.nlm.nih.gov)… 130.14.250.7, 165.112.9.230, 2607:f220:41e:250::10, ...\n",
      "Подключение к ftp.ncbi.nlm.nih.gov (ftp.ncbi.nlm.nih.gov)|130.14.250.7|:443... соединение установлено.\n",
      "HTTP-запрос отправлен. Ожидание ответа… 200 OK\n",
      "Длина: 77919370 (74M) [application/x-gzip]\n",
      "Сохранение в: «STDOUT»\n",
      "\n",
      "-                   100%[===================>]  74,31M  1,13MB/s    за 46s     \n",
      "\n",
      "/2023-04-02 08:33:54 (1,61 MB/s) - записан в stdout [77919370/77919370]\n",
      "\n"
     ]
    }
   ],
   "source": [
    "! wget -O - https://ftp.ncbi.nlm.nih.gov/pub/clinvar/vcf_GRCh38/clinvar_20230326.vcf.gz | gzip -d > ./data/clinvar_grch38_20230326.vcf"
   ]
  },
  {
   "cell_type": "markdown",
   "id": "5e2a96ea",
   "metadata": {},
   "source": [
    "## 1.2. select variants for further analysis"
   ]
  },
  {
   "cell_type": "code",
   "execution_count": 37,
   "id": "088a81bf",
   "metadata": {},
   "outputs": [
    {
     "name": "stdout",
     "output_type": "stream",
     "text": [
      "[W::vcf_parse] Contig '1' is not defined in the header. (Quick workaround: index the file with tabix.)\n",
      "[W::vcf_parse] Contig '2' is not defined in the header. (Quick workaround: index the file with tabix.)\n",
      "[W::vcf_parse] Contig '3' is not defined in the header. (Quick workaround: index the file with tabix.)\n",
      "[W::vcf_parse] Contig '4' is not defined in the header. (Quick workaround: index the file with tabix.)\n",
      "[W::vcf_parse] Contig '5' is not defined in the header. (Quick workaround: index the file with tabix.)\n",
      "[W::vcf_parse] Contig '6' is not defined in the header. (Quick workaround: index the file with tabix.)\n",
      "[W::vcf_parse] Contig '7' is not defined in the header. (Quick workaround: index the file with tabix.)\n",
      "[W::vcf_parse] Contig '8' is not defined in the header. (Quick workaround: index the file with tabix.)\n",
      "[W::vcf_parse] Contig '9' is not defined in the header. (Quick workaround: index the file with tabix.)\n",
      "[W::vcf_parse] Contig '10' is not defined in the header. (Quick workaround: index the file with tabix.)\n",
      "[W::vcf_parse] Contig '11' is not defined in the header. (Quick workaround: index the file with tabix.)\n",
      "[W::vcf_parse] Contig '12' is not defined in the header. (Quick workaround: index the file with tabix.)\n",
      "[W::vcf_parse] Contig '13' is not defined in the header. (Quick workaround: index the file with tabix.)\n",
      "[W::vcf_parse] Contig '14' is not defined in the header. (Quick workaround: index the file with tabix.)\n",
      "[W::vcf_parse] Contig '15' is not defined in the header. (Quick workaround: index the file with tabix.)\n",
      "[W::vcf_parse] Contig '16' is not defined in the header. (Quick workaround: index the file with tabix.)\n",
      "[W::vcf_parse] Contig '17' is not defined in the header. (Quick workaround: index the file with tabix.)\n",
      "[W::vcf_parse] Contig '18' is not defined in the header. (Quick workaround: index the file with tabix.)\n",
      "[W::vcf_parse] Contig '19' is not defined in the header. (Quick workaround: index the file with tabix.)\n",
      "[W::vcf_parse] Contig '20' is not defined in the header. (Quick workaround: index the file with tabix.)\n",
      "[W::vcf_parse] Contig '21' is not defined in the header. (Quick workaround: index the file with tabix.)\n",
      "[W::vcf_parse] Contig '22' is not defined in the header. (Quick workaround: index the file with tabix.)\n",
      "[W::vcf_parse] Contig 'X' is not defined in the header. (Quick workaround: index the file with tabix.)\n",
      "[W::vcf_parse] Contig 'Y' is not defined in the header. (Quick workaround: index the file with tabix.)\n",
      "[W::vcf_parse] Contig 'MT' is not defined in the header. (Quick workaround: index the file with tabix.)\n",
      "[W::vcf_parse] Contig 'NW_009646201.1' is not defined in the header. (Quick workaround: index the file with tabix.)\n"
     ]
    }
   ],
   "source": [
    "# select only pathogenic and likely pathogenic variants\n",
    "! bcftools view -i 'INFO/CLNSIG ~ \"Pathogenic\"' ./data/clinvar_grch38_20230326.vcf > ./data/clinvar_grch38_20230326_flt.vcf"
   ]
  },
  {
   "cell_type": "code",
   "execution_count": 38,
   "id": "9e204c4f",
   "metadata": {},
   "outputs": [],
   "source": [
    "! awk '{print \"chr\"$0}' ./data/clinvar_grch38_20230326_flt.vcf >  ./data/clinvar_grch38_20230326_PLP.vcf\n",
    "! sed -i 's/chr#/#/g' ./data/clinvar_grch38_20230326_PLP.vcf\n",
    "! rm ./data/clinvar_grch38_20230326_flt.vcf"
   ]
  },
  {
   "cell_type": "markdown",
   "id": "3385ec26",
   "metadata": {},
   "source": [
    "## 1.3. parse .vcf"
   ]
  },
  {
   "cell_type": "code",
   "execution_count": 3,
   "id": "c3b6a1c3",
   "metadata": {},
   "outputs": [],
   "source": [
    "# extract basic fields + INFO(Gene symbol, associated diseases, identifiers of disease in databases) .vcf \n",
    "! gatk VariantsToTable -V ./data/clinvar_grch38_20230326_PLP.vcf -F CHROM -F POS -F ID -F REF -F ALT -F QUAL -F FILTER -F GENEINFO -F CLNSIG -F MC -F CLNDISDB -F CLNDN -O ./cvtable_grch38_20230326_PLP.txt"
   ]
  },
  {
   "cell_type": "code",
   "execution_count": 40,
   "id": "d22a9f30",
   "metadata": {},
   "outputs": [],
   "source": [
    "# save only gene symbols\n",
    "! awk '{sub (/:/, OFS)} 1' OFS=\"\\t\" ./cvtable_grch38_20230326_PLP.txt > ./cvtable.txt\n",
    "\n",
    "\n",
    "! cat cvtable.txt | cut -f1,2,3,4,5,6,7,8,10,11,12,12 | sed '1d' > cvtable_cut.txt\n",
    "! echo -e \"CHROM\\tPOS\\tID\\tREF\\tALT\\tQUAL\\tFILTER\\tGENE\\tCLNSIG\\tMC\\tCLNDISDB\" | cat - cvtable_cut.txt >  cvtable_PLP.txt\n",
    "\n",
    "! rm cvtable.txt cvtable_cut.txt"
   ]
  },
  {
   "cell_type": "code",
   "execution_count": 41,
   "id": "78148ef8",
   "metadata": {},
   "outputs": [],
   "source": [
    "# save lines which include OMIM identifier of associated diseases\n",
    "! grep OMIM cvtable_PLP.txt > cv_dis.txt\n",
    "\n",
    "# save header\n",
    "! grep CHROM cvtable_PLP.txt > header.txt\n",
    "\n",
    "# merge header and lines\n",
    "! cat header.txt cv_dis.txt > cv_ids.txt\n",
    "\n",
    "\n",
    "! rm header.txt  cv_dis.txt cvtable_PLP.txt"
   ]
  },
  {
   "cell_type": "code",
   "execution_count": 42,
   "id": "d5a5388e",
   "metadata": {},
   "outputs": [],
   "source": [
    "# rm all identifiers of diseases except OMIM\n",
    "\n",
    "! sed -i 's/SO:[0-9]*|//g' cv_ids.txt\n",
    "! sed -i 's/MONDO:MONDO:[0-9]*\\,//g' cv_ids.txt\n",
    "! sed -i 's/MONDO:MONDO:[0-9]*//g' cv_ids.txt\n",
    "! sed -i 's/MedGen:[A-Z]*[0-9]*\\,//g' cv_ids.txt\n",
    "! sed -i 's/MedGen:[A-Z]*[0-9]*//g' cv_ids.txt\n",
    "! sed -i 's/SO:[0-9]*|//g' cv_ids.txt\n",
    "! sed -i 's/MeSH:[A-Z]*[0-9]*\\,//g' cv_ids.txt\n",
    "! sed -i 's/MeSH:[A-Z]*[0-9]*//g' cv_ids.txt\n",
    "! sed -i 's/SNOMED_CT:[0-9]*\\,//g' cv_ids.txt\n",
    "! sed -i 's/SNOMED_CT:[0-9]*//g' cv_ids.txt\n",
    "! sed -i 's/\\,Orphanet:ORPHA[0-9]*\\,//g' cv_ids.txt\n",
    "! sed -i 's/Orphanet:ORPHA[0-9]*\\,//g' cv_ids.txt\n",
    "! sed -i 's/\\,Orphanet:ORPHA[0-9]*//g' cv_ids.txt\n",
    "! sed -i 's/Orphanet:ORPHA[0-9]*//g' cv_ids.txt\n",
    "! sed -i 's/Human_Phenotype_Ontology:HP:[0-9]*\\,//g' cv_ids.txt\n",
    "! sed -i 's/Human_Phenotype_Ontology:HP:[0-9]*//g' cv_ids.txt\n",
    "! sed -i 's/|OMIM:PS[0-9]*//g' cv_ids.txt\n",
    "! sed -i 's/OMIM:PS[0-9]*//g' cv_ids.txt"
   ]
  },
  {
   "cell_type": "code",
   "execution_count": 43,
   "id": "f989ca09",
   "metadata": {},
   "outputs": [
    {
     "name": "stdout",
     "output_type": "stream",
     "text": [
      "5935 cvtable_MIM.txt\r\n"
     ]
    }
   ],
   "source": [
    "! cat cv_ids.txt | cut -f1,2,3,4,5,6,7,8,9,10,11 > cvtable.txt\n",
    "\n",
    "! rm cv_ids.txt\n",
    "\n",
    "! cat cvtable.txt | cut -f11 | sed 's/|/\\n/g' | sed 's/\\,/\\n/g' | grep OMIM | sort | uniq > cvtable_MIM.txt\n",
    "! wc -l cvtable_MIM.txt\n",
    "\n",
    "! echo -e \"OMIM\" | cat - cvtable_MIM.txt> cvtable_mims.txt\n",
    "\n",
    "! rm cvtable_MIM.txt"
   ]
  },
  {
   "cell_type": "code",
   "execution_count": 44,
   "id": "fec9c3a0",
   "metadata": {},
   "outputs": [],
   "source": [
    "# for every OMIM identifier save line with annotated variant\n",
    "\n",
    "MIM = pd.read_csv('./cvtable_mims.txt', sep='\\t')\n",
    "cvtable = pd.read_csv('./cvtable.txt', sep='\\t')\n",
    "\n",
    "MIM['OMIM'] = MIM['OMIM'].astype('str')\n",
    "cvtable['CLNDISDB'] = cvtable['CLNDISDB'].astype('str')\n",
    "\n",
    "cvtable[\"OMIM\"] = cvtable[\"CLNDISDB\"].apply(lambda x: [y for y in MIM[\"OMIM\"] if y in x])\n",
    "cvtable= cvtable.explode(\"OMIM\")\n",
    "output = cvtable.merge(MIM)\n",
    "\n",
    "output = output.drop(columns=['CLNDISDB'])\n",
    "\n",
    "output.to_csv('ClinVarTable_grch38_20230326_PLP_OMIM.txt', sep='\\t', index=False)\n",
    "\n",
    "#print(output.shape)\n",
    "#print(output.head(2))"
   ]
  },
  {
   "cell_type": "code",
   "execution_count": 45,
   "id": "02b80716",
   "metadata": {},
   "outputs": [],
   "source": [
    "! rm cvtable_mims.txt cvtable.txt cvtable_grch38_20230326_PLP.txt"
   ]
  },
  {
   "cell_type": "markdown",
   "id": "4a263c1d",
   "metadata": {},
   "source": [
    "# Human Phenotype Ontology (HPO)"
   ]
  },
  {
   "cell_type": "markdown",
   "id": "22464dd0",
   "metadata": {},
   "source": [
    "#### get information about gene - monogenic disease(s) assosiations and inheritane pattern"
   ]
  },
  {
   "cell_type": "markdown",
   "id": "4bbe0618",
   "metadata": {},
   "source": [
    "## 2.1. Download annotation"
   ]
  },
  {
   "cell_type": "code",
   "execution_count": null,
   "id": "ae47f7fa",
   "metadata": {},
   "outputs": [],
   "source": [
    "! wget"
   ]
  },
  {
   "cell_type": "markdown",
   "id": "171edde2",
   "metadata": {},
   "source": [
    "## 2.2. Subset HPO annotation"
   ]
  },
  {
   "cell_type": "markdown",
   "id": "8ea845f7",
   "metadata": {},
   "source": [
    "#### remove provisional gene-disease associations and  diseases with non-monogenic inheritance pattern"
   ]
  },
  {
   "cell_type": "code",
   "execution_count": 1,
   "id": "4b5745c4",
   "metadata": {},
   "outputs": [],
   "source": [
    "# subset gene-MIM associations (rm provisional gene-disease associations)\n",
    "\n",
    "! cat ./data/genes_to_phenotype.txt | cut -f2,7,9 | grep OMIM | grep -v question | cut -f1,3 | sort | uniq > hpo_gene_mim.txt\n",
    "\n",
    "! echo -e \"GENE\\tOMIM\" | cat - hpo_gene_mim.txt > hpo_gene_omim.txt"
   ]
  },
  {
   "cell_type": "markdown",
   "id": "236d6a54",
   "metadata": {},
   "source": [
    " ***HPO terms related to inheritance:*** \n",
    "\n",
    "- HP:0000006  \n",
    "- HP:0000007  \n",
    "- HP:0010984  \n",
    "- HP:0010982  \n",
    "- HP:0001426  \n",
    "- HP:0001417  \n",
    "- HP:0001423  \n",
    "- HP:0001419  \n",
    "- HP:0001450  \n",
    "- HP:0001428  \n",
    "- HP:0001442  \n",
    "- HP:0034345  "
   ]
  },
  {
   "cell_type": "code",
   "execution_count": 2,
   "id": "31da0d11",
   "metadata": {},
   "outputs": [],
   "source": [
    "# collect inheritance info\n",
    "\n",
    "! for i in $(cat ./HP_InheritanceTerms.txt) ; do grep $i ./data/phenotype_to_genes.txt ; done > ./genes_mim_inh.txt\n",
    "! cat genes_mim_inh.txt | cut -f1,2,4,7 | grep OMIM  > genes_inh_mim.txt\n",
    "\n",
    "! echo -e  \"HPO-id\\tHPO label\\tGENE\\tOMIM\" | cat - genes_inh_mim.txt > hpo_genes_inh_mim.txt"
   ]
  },
  {
   "cell_type": "markdown",
   "id": "f63b8af2",
   "metadata": {},
   "source": [
    "***List of inheritance patterns to exclude (somatic and polygenic):***  \n",
    "\n",
    "- HP:0010984  \n",
    "- HP:0010982  \n",
    "- HP:0001426  \n",
    "- HP:0001428  \n",
    "- HP:0001442  "
   ]
  },
  {
   "cell_type": "code",
   "execution_count": 3,
   "id": "d708782d",
   "metadata": {},
   "outputs": [],
   "source": [
    "# collect genes with non-monogenic inheritance pattern\n",
    "\n",
    "! for i in $(cat ./rm_inh_patterns.txt) ; do grep $i ./data/phenotype_to_genes.txt ; done > ./rm.txt\n",
    "! cat rm.txt | cut -f4 | sort| uniq > genes_to_remove.txt\n",
    "\n",
    "! echo -e \"GENE\" | cat - genes_to_remove.txt > genes_to_rm.txt"
   ]
  },
  {
   "cell_type": "code",
   "execution_count": 6,
   "id": "d915fc8d",
   "metadata": {},
   "outputs": [
    {
     "data": {
      "text/plain": [
       "(5497, 2)"
      ]
     },
     "execution_count": 6,
     "metadata": {},
     "output_type": "execute_result"
    }
   ],
   "source": [
    "# rm genes with non-monogenic inheritance pattern\n",
    "\n",
    "gene_mims = pd.read_csv('./hpo_gene_omim.txt', sep='\\t')\n",
    "genes_to_remove = pd.read_csv('./genes_to_rm.txt', sep='\\t')\n",
    "\n",
    "gene_mims_flt = gene_mims.merge(genes_to_remove, on=['GENE'], how='left', indicator=True)\n",
    "gene_mims_flt = gene_mims_flt[gene_mims_flt['_merge'] == 'left_only']\n",
    "gene_mims_flt = gene_mims_flt.drop(columns=['_merge'], axis=1)\n",
    "gene_mims_flt.shape"
   ]
  },
  {
   "cell_type": "code",
   "execution_count": 7,
   "id": "31b47598",
   "metadata": {},
   "outputs": [],
   "source": [
    "gene_mims_flt.to_csv('./hpo_gene_mim_flt.txt', sep='\\t', index=False)"
   ]
  },
  {
   "cell_type": "code",
   "execution_count": 15,
   "id": "1c03f713",
   "metadata": {},
   "outputs": [
    {
     "data": {
      "text/html": [
       "<div>\n",
       "<style scoped>\n",
       "    .dataframe tbody tr th:only-of-type {\n",
       "        vertical-align: middle;\n",
       "    }\n",
       "\n",
       "    .dataframe tbody tr th {\n",
       "        vertical-align: top;\n",
       "    }\n",
       "\n",
       "    .dataframe thead th {\n",
       "        text-align: right;\n",
       "    }\n",
       "</style>\n",
       "<table border=\"1\" class=\"dataframe\">\n",
       "  <thead>\n",
       "    <tr style=\"text-align: right;\">\n",
       "      <th></th>\n",
       "      <th>HPO-id</th>\n",
       "      <th>HPO label</th>\n",
       "      <th>GENE</th>\n",
       "      <th>OMIM</th>\n",
       "    </tr>\n",
       "  </thead>\n",
       "  <tbody>\n",
       "    <tr>\n",
       "      <th>0</th>\n",
       "      <td>HP:0000006</td>\n",
       "      <td>Autosomal dominant inheritance</td>\n",
       "      <td>PRIMPOL</td>\n",
       "      <td>OMIM:615420</td>\n",
       "    </tr>\n",
       "    <tr>\n",
       "      <th>1</th>\n",
       "      <td>HP:0000006</td>\n",
       "      <td>Autosomal dominant inheritance</td>\n",
       "      <td>SPINK1</td>\n",
       "      <td>OMIM:608189</td>\n",
       "    </tr>\n",
       "  </tbody>\n",
       "</table>\n",
       "</div>"
      ],
      "text/plain": [
       "       HPO-id                       HPO label     GENE         OMIM\n",
       "0  HP:0000006  Autosomal dominant inheritance  PRIMPOL  OMIM:615420\n",
       "1  HP:0000006  Autosomal dominant inheritance   SPINK1  OMIM:608189"
      ]
     },
     "execution_count": 15,
     "metadata": {},
     "output_type": "execute_result"
    }
   ],
   "source": [
    "genes_mim_inh = pd.read_csv('./hpo_genes_inh_mim.txt', sep='\\t')\n",
    "genes_mim_inh.head(2)"
   ]
  },
  {
   "cell_type": "code",
   "execution_count": 16,
   "id": "6acb92ba",
   "metadata": {},
   "outputs": [
    {
     "data": {
      "text/html": [
       "<div>\n",
       "<style scoped>\n",
       "    .dataframe tbody tr th:only-of-type {\n",
       "        vertical-align: middle;\n",
       "    }\n",
       "\n",
       "    .dataframe tbody tr th {\n",
       "        vertical-align: top;\n",
       "    }\n",
       "\n",
       "    .dataframe thead th {\n",
       "        text-align: right;\n",
       "    }\n",
       "</style>\n",
       "<table border=\"1\" class=\"dataframe\">\n",
       "  <thead>\n",
       "    <tr style=\"text-align: right;\">\n",
       "      <th></th>\n",
       "      <th>GENE</th>\n",
       "      <th>OMIM</th>\n",
       "      <th>HPO-id</th>\n",
       "      <th>HPO label</th>\n",
       "    </tr>\n",
       "  </thead>\n",
       "  <tbody>\n",
       "    <tr>\n",
       "      <th>0</th>\n",
       "      <td>A4GALT</td>\n",
       "      <td>OMIM:111400</td>\n",
       "      <td>HP:0000006</td>\n",
       "      <td>Autosomal dominant inheritance</td>\n",
       "    </tr>\n",
       "    <tr>\n",
       "      <th>1</th>\n",
       "      <td>A4GALT</td>\n",
       "      <td>OMIM:111400</td>\n",
       "      <td>HP:0034345</td>\n",
       "      <td>Mendelian inheritance</td>\n",
       "    </tr>\n",
       "    <tr>\n",
       "      <th>2</th>\n",
       "      <td>AAAS</td>\n",
       "      <td>OMIM:231550</td>\n",
       "      <td>HP:0000007</td>\n",
       "      <td>Autosomal recessive inheritance</td>\n",
       "    </tr>\n",
       "    <tr>\n",
       "      <th>3</th>\n",
       "      <td>AAAS</td>\n",
       "      <td>OMIM:231550</td>\n",
       "      <td>HP:0034345</td>\n",
       "      <td>Mendelian inheritance</td>\n",
       "    </tr>\n",
       "    <tr>\n",
       "      <th>4</th>\n",
       "      <td>AAGAB</td>\n",
       "      <td>OMIM:148600</td>\n",
       "      <td>HP:0000006</td>\n",
       "      <td>Autosomal dominant inheritance</td>\n",
       "    </tr>\n",
       "    <tr>\n",
       "      <th>...</th>\n",
       "      <td>...</td>\n",
       "      <td>...</td>\n",
       "      <td>...</td>\n",
       "      <td>...</td>\n",
       "    </tr>\n",
       "    <tr>\n",
       "      <th>11254</th>\n",
       "      <td>ZSWIM6</td>\n",
       "      <td>OMIM:603671</td>\n",
       "      <td>HP:0034345</td>\n",
       "      <td>Mendelian inheritance</td>\n",
       "    </tr>\n",
       "    <tr>\n",
       "      <th>11255</th>\n",
       "      <td>ZSWIM6</td>\n",
       "      <td>OMIM:617865</td>\n",
       "      <td>HP:0000006</td>\n",
       "      <td>Autosomal dominant inheritance</td>\n",
       "    </tr>\n",
       "    <tr>\n",
       "      <th>11256</th>\n",
       "      <td>ZSWIM6</td>\n",
       "      <td>OMIM:617865</td>\n",
       "      <td>HP:0034345</td>\n",
       "      <td>Mendelian inheritance</td>\n",
       "    </tr>\n",
       "    <tr>\n",
       "      <th>11257</th>\n",
       "      <td>ZSWIM7</td>\n",
       "      <td>OMIM:619831</td>\n",
       "      <td>HP:0000007</td>\n",
       "      <td>Autosomal recessive inheritance</td>\n",
       "    </tr>\n",
       "    <tr>\n",
       "      <th>11258</th>\n",
       "      <td>ZSWIM7</td>\n",
       "      <td>OMIM:619831</td>\n",
       "      <td>HP:0034345</td>\n",
       "      <td>Mendelian inheritance</td>\n",
       "    </tr>\n",
       "  </tbody>\n",
       "</table>\n",
       "<p>11259 rows × 4 columns</p>\n",
       "</div>"
      ],
      "text/plain": [
       "         GENE         OMIM      HPO-id                        HPO label\n",
       "0      A4GALT  OMIM:111400  HP:0000006   Autosomal dominant inheritance\n",
       "1      A4GALT  OMIM:111400  HP:0034345            Mendelian inheritance\n",
       "2        AAAS  OMIM:231550  HP:0000007  Autosomal recessive inheritance\n",
       "3        AAAS  OMIM:231550  HP:0034345            Mendelian inheritance\n",
       "4       AAGAB  OMIM:148600  HP:0000006   Autosomal dominant inheritance\n",
       "...       ...          ...         ...                              ...\n",
       "11254  ZSWIM6  OMIM:603671  HP:0034345            Mendelian inheritance\n",
       "11255  ZSWIM6  OMIM:617865  HP:0000006   Autosomal dominant inheritance\n",
       "11256  ZSWIM6  OMIM:617865  HP:0034345            Mendelian inheritance\n",
       "11257  ZSWIM7  OMIM:619831  HP:0000007  Autosomal recessive inheritance\n",
       "11258  ZSWIM7  OMIM:619831  HP:0034345            Mendelian inheritance\n",
       "\n",
       "[11259 rows x 4 columns]"
      ]
     },
     "execution_count": 16,
     "metadata": {},
     "output_type": "execute_result"
    }
   ],
   "source": [
    "inh = pd.merge(gene_mims_flt, genes_mim_inh, on=['GENE', 'OMIM'], how='inner')\n",
    "inh"
   ]
  },
  {
   "cell_type": "code",
   "execution_count": 17,
   "id": "552de59d",
   "metadata": {},
   "outputs": [
    {
     "data": {
      "text/plain": [
       "(5803, 4)"
      ]
     },
     "execution_count": 17,
     "metadata": {},
     "output_type": "execute_result"
    }
   ],
   "source": [
    "inh = inh[inh['HPO-id'] != 'HP:0034345']\n",
    "inh = inh[inh['OMIM'] != 'OMIM:268000']\n",
    "inh.shape"
   ]
  },
  {
   "cell_type": "code",
   "execution_count": 18,
   "id": "9f74d843",
   "metadata": {},
   "outputs": [
    {
     "data": {
      "text/html": [
       "<div>\n",
       "<style scoped>\n",
       "    .dataframe tbody tr th:only-of-type {\n",
       "        vertical-align: middle;\n",
       "    }\n",
       "\n",
       "    .dataframe tbody tr th {\n",
       "        vertical-align: top;\n",
       "    }\n",
       "\n",
       "    .dataframe thead th {\n",
       "        text-align: right;\n",
       "    }\n",
       "</style>\n",
       "<table border=\"1\" class=\"dataframe\">\n",
       "  <thead>\n",
       "    <tr style=\"text-align: right;\">\n",
       "      <th></th>\n",
       "      <th>GENE</th>\n",
       "      <th>OMIM</th>\n",
       "      <th>HPO-id</th>\n",
       "      <th>HPO label</th>\n",
       "      <th>count_inhpattern</th>\n",
       "    </tr>\n",
       "  </thead>\n",
       "  <tbody>\n",
       "    <tr>\n",
       "      <th>0</th>\n",
       "      <td>A4GALT</td>\n",
       "      <td>OMIM:111400</td>\n",
       "      <td>HP:0000006</td>\n",
       "      <td>Autosomal dominant inheritance</td>\n",
       "      <td>1</td>\n",
       "    </tr>\n",
       "    <tr>\n",
       "      <th>1</th>\n",
       "      <td>AAAS</td>\n",
       "      <td>OMIM:231550</td>\n",
       "      <td>HP:0000007</td>\n",
       "      <td>Autosomal recessive inheritance</td>\n",
       "      <td>1</td>\n",
       "    </tr>\n",
       "    <tr>\n",
       "      <th>2</th>\n",
       "      <td>AAGAB</td>\n",
       "      <td>OMIM:148600</td>\n",
       "      <td>HP:0000006</td>\n",
       "      <td>Autosomal dominant inheritance</td>\n",
       "      <td>1</td>\n",
       "    </tr>\n",
       "    <tr>\n",
       "      <th>3</th>\n",
       "      <td>AARS1</td>\n",
       "      <td>OMIM:613287</td>\n",
       "      <td>HP:0000006</td>\n",
       "      <td>Autosomal dominant inheritance</td>\n",
       "      <td>1</td>\n",
       "    </tr>\n",
       "    <tr>\n",
       "      <th>4</th>\n",
       "      <td>AARS1</td>\n",
       "      <td>OMIM:616339</td>\n",
       "      <td>HP:0000007</td>\n",
       "      <td>Autosomal recessive inheritance</td>\n",
       "      <td>1</td>\n",
       "    </tr>\n",
       "  </tbody>\n",
       "</table>\n",
       "</div>"
      ],
      "text/plain": [
       "     GENE         OMIM      HPO-id                        HPO label  \\\n",
       "0  A4GALT  OMIM:111400  HP:0000006   Autosomal dominant inheritance   \n",
       "1    AAAS  OMIM:231550  HP:0000007  Autosomal recessive inheritance   \n",
       "2   AAGAB  OMIM:148600  HP:0000006   Autosomal dominant inheritance   \n",
       "3   AARS1  OMIM:613287  HP:0000006   Autosomal dominant inheritance   \n",
       "4   AARS1  OMIM:616339  HP:0000007  Autosomal recessive inheritance   \n",
       "\n",
       "   count_inhpattern  \n",
       "0                 1  \n",
       "1                 1  \n",
       "2                 1  \n",
       "3                 1  \n",
       "4                 1  "
      ]
     },
     "execution_count": 18,
     "metadata": {},
     "output_type": "execute_result"
    }
   ],
   "source": [
    "inh_count = inh.groupby(['GENE', 'OMIM']).size().reset_index(name='count_inhpattern')\n",
    "inh = inh.merge(inh_count, on=['GENE', 'OMIM'])\n",
    "inh.head()"
   ]
  },
  {
   "cell_type": "code",
   "execution_count": 19,
   "id": "589e4de0",
   "metadata": {},
   "outputs": [],
   "source": [
    "# define inhertance pattern for each gene-disease association\n",
    "def define_inheritance(df):\n",
    "    \n",
    "    if (df['count_inhpattern'] == 1) & (df['HPO-id'] == 'HP:0000006'):\n",
    "        return 'AD'\n",
    "    \n",
    "    elif (df['count_inhpattern'] == 1) & (df['HPO-id'] == 'HP:0000007'):\n",
    "        return 'AR'\n",
    "    \n",
    "    elif (df['HPO-id'] == 'HP:0001423') | (df['HPO-id'] == 'HP:0001419') | (df['HPO-id'] == 'HP:0001417'):\n",
    "        return 'XL'\n",
    "    \n",
    "    elif df['HPO-id'] == 'HP:0001450':\n",
    "        return 'YL'\n",
    "    \n",
    "    else:\n",
    "        return 'ADAR'\n"
   ]
  },
  {
   "cell_type": "code",
   "execution_count": 20,
   "id": "0acef9f5",
   "metadata": {},
   "outputs": [
    {
     "data": {
      "text/html": [
       "<div>\n",
       "<style scoped>\n",
       "    .dataframe tbody tr th:only-of-type {\n",
       "        vertical-align: middle;\n",
       "    }\n",
       "\n",
       "    .dataframe tbody tr th {\n",
       "        vertical-align: top;\n",
       "    }\n",
       "\n",
       "    .dataframe thead th {\n",
       "        text-align: right;\n",
       "    }\n",
       "</style>\n",
       "<table border=\"1\" class=\"dataframe\">\n",
       "  <thead>\n",
       "    <tr style=\"text-align: right;\">\n",
       "      <th></th>\n",
       "      <th>GENE</th>\n",
       "      <th>OMIM</th>\n",
       "      <th>HPO-id</th>\n",
       "      <th>HPO label</th>\n",
       "      <th>count_inhpattern</th>\n",
       "      <th>Inheritance</th>\n",
       "    </tr>\n",
       "  </thead>\n",
       "  <tbody>\n",
       "    <tr>\n",
       "      <th>5783</th>\n",
       "      <td>ZNF341</td>\n",
       "      <td>OMIM:618282</td>\n",
       "      <td>HP:0000007</td>\n",
       "      <td>Autosomal recessive inheritance</td>\n",
       "      <td>1</td>\n",
       "      <td>AR</td>\n",
       "    </tr>\n",
       "    <tr>\n",
       "      <th>5784</th>\n",
       "      <td>ZNF407</td>\n",
       "      <td>OMIM:619557</td>\n",
       "      <td>HP:0000007</td>\n",
       "      <td>Autosomal recessive inheritance</td>\n",
       "      <td>1</td>\n",
       "      <td>AR</td>\n",
       "    </tr>\n",
       "    <tr>\n",
       "      <th>5785</th>\n",
       "      <td>ZNF408</td>\n",
       "      <td>OMIM:616469</td>\n",
       "      <td>HP:0000007</td>\n",
       "      <td>Autosomal recessive inheritance</td>\n",
       "      <td>1</td>\n",
       "      <td>AR</td>\n",
       "    </tr>\n",
       "    <tr>\n",
       "      <th>5786</th>\n",
       "      <td>ZNF423</td>\n",
       "      <td>OMIM:614844</td>\n",
       "      <td>HP:0000006</td>\n",
       "      <td>Autosomal dominant inheritance</td>\n",
       "      <td>2</td>\n",
       "      <td>ADAR</td>\n",
       "    </tr>\n",
       "    <tr>\n",
       "      <th>5787</th>\n",
       "      <td>ZNF423</td>\n",
       "      <td>OMIM:614844</td>\n",
       "      <td>HP:0000007</td>\n",
       "      <td>Autosomal recessive inheritance</td>\n",
       "      <td>2</td>\n",
       "      <td>ADAR</td>\n",
       "    </tr>\n",
       "    <tr>\n",
       "      <th>5788</th>\n",
       "      <td>ZNF462</td>\n",
       "      <td>OMIM:618619</td>\n",
       "      <td>HP:0000006</td>\n",
       "      <td>Autosomal dominant inheritance</td>\n",
       "      <td>1</td>\n",
       "      <td>AD</td>\n",
       "    </tr>\n",
       "    <tr>\n",
       "      <th>5789</th>\n",
       "      <td>ZNF469</td>\n",
       "      <td>OMIM:229200</td>\n",
       "      <td>HP:0000007</td>\n",
       "      <td>Autosomal recessive inheritance</td>\n",
       "      <td>1</td>\n",
       "      <td>AR</td>\n",
       "    </tr>\n",
       "    <tr>\n",
       "      <th>5790</th>\n",
       "      <td>ZNF526</td>\n",
       "      <td>OMIM:619877</td>\n",
       "      <td>HP:0000007</td>\n",
       "      <td>Autosomal recessive inheritance</td>\n",
       "      <td>1</td>\n",
       "      <td>AR</td>\n",
       "    </tr>\n",
       "    <tr>\n",
       "      <th>5791</th>\n",
       "      <td>ZNF644</td>\n",
       "      <td>OMIM:614167</td>\n",
       "      <td>HP:0000006</td>\n",
       "      <td>Autosomal dominant inheritance</td>\n",
       "      <td>1</td>\n",
       "      <td>AD</td>\n",
       "    </tr>\n",
       "    <tr>\n",
       "      <th>5792</th>\n",
       "      <td>ZNF687</td>\n",
       "      <td>OMIM:616833</td>\n",
       "      <td>HP:0000006</td>\n",
       "      <td>Autosomal dominant inheritance</td>\n",
       "      <td>1</td>\n",
       "      <td>AD</td>\n",
       "    </tr>\n",
       "    <tr>\n",
       "      <th>5793</th>\n",
       "      <td>ZNF699</td>\n",
       "      <td>OMIM:619488</td>\n",
       "      <td>HP:0000007</td>\n",
       "      <td>Autosomal recessive inheritance</td>\n",
       "      <td>1</td>\n",
       "      <td>AR</td>\n",
       "    </tr>\n",
       "    <tr>\n",
       "      <th>5794</th>\n",
       "      <td>ZNF711</td>\n",
       "      <td>OMIM:300803</td>\n",
       "      <td>HP:0001417</td>\n",
       "      <td>X-linked inheritance</td>\n",
       "      <td>1</td>\n",
       "      <td>XL</td>\n",
       "    </tr>\n",
       "    <tr>\n",
       "      <th>5795</th>\n",
       "      <td>ZNFX1</td>\n",
       "      <td>OMIM:619644</td>\n",
       "      <td>HP:0000007</td>\n",
       "      <td>Autosomal recessive inheritance</td>\n",
       "      <td>1</td>\n",
       "      <td>AR</td>\n",
       "    </tr>\n",
       "    <tr>\n",
       "      <th>5796</th>\n",
       "      <td>ZNHIT3</td>\n",
       "      <td>OMIM:260565</td>\n",
       "      <td>HP:0000007</td>\n",
       "      <td>Autosomal recessive inheritance</td>\n",
       "      <td>1</td>\n",
       "      <td>AR</td>\n",
       "    </tr>\n",
       "    <tr>\n",
       "      <th>5797</th>\n",
       "      <td>ZP1</td>\n",
       "      <td>OMIM:615774</td>\n",
       "      <td>HP:0000007</td>\n",
       "      <td>Autosomal recessive inheritance</td>\n",
       "      <td>1</td>\n",
       "      <td>AR</td>\n",
       "    </tr>\n",
       "    <tr>\n",
       "      <th>5798</th>\n",
       "      <td>ZP2</td>\n",
       "      <td>OMIM:618353</td>\n",
       "      <td>HP:0000007</td>\n",
       "      <td>Autosomal recessive inheritance</td>\n",
       "      <td>1</td>\n",
       "      <td>AR</td>\n",
       "    </tr>\n",
       "    <tr>\n",
       "      <th>5799</th>\n",
       "      <td>ZP3</td>\n",
       "      <td>OMIM:617712</td>\n",
       "      <td>HP:0000006</td>\n",
       "      <td>Autosomal dominant inheritance</td>\n",
       "      <td>1</td>\n",
       "      <td>AD</td>\n",
       "    </tr>\n",
       "    <tr>\n",
       "      <th>5800</th>\n",
       "      <td>ZSWIM6</td>\n",
       "      <td>OMIM:603671</td>\n",
       "      <td>HP:0000006</td>\n",
       "      <td>Autosomal dominant inheritance</td>\n",
       "      <td>1</td>\n",
       "      <td>AD</td>\n",
       "    </tr>\n",
       "    <tr>\n",
       "      <th>5801</th>\n",
       "      <td>ZSWIM6</td>\n",
       "      <td>OMIM:617865</td>\n",
       "      <td>HP:0000006</td>\n",
       "      <td>Autosomal dominant inheritance</td>\n",
       "      <td>1</td>\n",
       "      <td>AD</td>\n",
       "    </tr>\n",
       "    <tr>\n",
       "      <th>5802</th>\n",
       "      <td>ZSWIM7</td>\n",
       "      <td>OMIM:619831</td>\n",
       "      <td>HP:0000007</td>\n",
       "      <td>Autosomal recessive inheritance</td>\n",
       "      <td>1</td>\n",
       "      <td>AR</td>\n",
       "    </tr>\n",
       "  </tbody>\n",
       "</table>\n",
       "</div>"
      ],
      "text/plain": [
       "        GENE         OMIM      HPO-id                        HPO label  \\\n",
       "5783  ZNF341  OMIM:618282  HP:0000007  Autosomal recessive inheritance   \n",
       "5784  ZNF407  OMIM:619557  HP:0000007  Autosomal recessive inheritance   \n",
       "5785  ZNF408  OMIM:616469  HP:0000007  Autosomal recessive inheritance   \n",
       "5786  ZNF423  OMIM:614844  HP:0000006   Autosomal dominant inheritance   \n",
       "5787  ZNF423  OMIM:614844  HP:0000007  Autosomal recessive inheritance   \n",
       "5788  ZNF462  OMIM:618619  HP:0000006   Autosomal dominant inheritance   \n",
       "5789  ZNF469  OMIM:229200  HP:0000007  Autosomal recessive inheritance   \n",
       "5790  ZNF526  OMIM:619877  HP:0000007  Autosomal recessive inheritance   \n",
       "5791  ZNF644  OMIM:614167  HP:0000006   Autosomal dominant inheritance   \n",
       "5792  ZNF687  OMIM:616833  HP:0000006   Autosomal dominant inheritance   \n",
       "5793  ZNF699  OMIM:619488  HP:0000007  Autosomal recessive inheritance   \n",
       "5794  ZNF711  OMIM:300803  HP:0001417             X-linked inheritance   \n",
       "5795   ZNFX1  OMIM:619644  HP:0000007  Autosomal recessive inheritance   \n",
       "5796  ZNHIT3  OMIM:260565  HP:0000007  Autosomal recessive inheritance   \n",
       "5797     ZP1  OMIM:615774  HP:0000007  Autosomal recessive inheritance   \n",
       "5798     ZP2  OMIM:618353  HP:0000007  Autosomal recessive inheritance   \n",
       "5799     ZP3  OMIM:617712  HP:0000006   Autosomal dominant inheritance   \n",
       "5800  ZSWIM6  OMIM:603671  HP:0000006   Autosomal dominant inheritance   \n",
       "5801  ZSWIM6  OMIM:617865  HP:0000006   Autosomal dominant inheritance   \n",
       "5802  ZSWIM7  OMIM:619831  HP:0000007  Autosomal recessive inheritance   \n",
       "\n",
       "      count_inhpattern Inheritance  \n",
       "5783                 1          AR  \n",
       "5784                 1          AR  \n",
       "5785                 1          AR  \n",
       "5786                 2        ADAR  \n",
       "5787                 2        ADAR  \n",
       "5788                 1          AD  \n",
       "5789                 1          AR  \n",
       "5790                 1          AR  \n",
       "5791                 1          AD  \n",
       "5792                 1          AD  \n",
       "5793                 1          AR  \n",
       "5794                 1          XL  \n",
       "5795                 1          AR  \n",
       "5796                 1          AR  \n",
       "5797                 1          AR  \n",
       "5798                 1          AR  \n",
       "5799                 1          AD  \n",
       "5800                 1          AD  \n",
       "5801                 1          AD  \n",
       "5802                 1          AR  "
      ]
     },
     "execution_count": 20,
     "metadata": {},
     "output_type": "execute_result"
    }
   ],
   "source": [
    "inh['Inheritance'] = inh.apply(define_inheritance, axis=1)\n",
    "inh.tail(20)"
   ]
  },
  {
   "cell_type": "code",
   "execution_count": 21,
   "id": "ed1cb1b4",
   "metadata": {},
   "outputs": [],
   "source": [
    "inh.to_csv('./check_inh.csv', sep='\\t', index=False)"
   ]
  },
  {
   "cell_type": "code",
   "execution_count": 14,
   "id": "9d84c8dc",
   "metadata": {},
   "outputs": [],
   "source": [
    "inh = inh.drop(columns=['HPO-id', 'HPO label', 'count_inhpattern'])"
   ]
  },
  {
   "cell_type": "code",
   "execution_count": 62,
   "id": "f173b69f",
   "metadata": {},
   "outputs": [
    {
     "data": {
      "text/plain": [
       "(5803, 3)"
      ]
     },
     "execution_count": 62,
     "metadata": {},
     "output_type": "execute_result"
    }
   ],
   "source": [
    "inh.shape"
   ]
  },
  {
   "cell_type": "code",
   "execution_count": 63,
   "id": "6594976b",
   "metadata": {},
   "outputs": [
    {
     "data": {
      "text/plain": [
       "(5371, 3)"
      ]
     },
     "execution_count": 63,
     "metadata": {},
     "output_type": "execute_result"
    }
   ],
   "source": [
    "inh = inh.drop_duplicates()\n",
    "inh.drop_duplicates().shape"
   ]
  },
  {
   "cell_type": "code",
   "execution_count": 2,
   "id": "07948f08",
   "metadata": {},
   "outputs": [],
   "source": [
    "# add ENSEMBL ids\n",
    "\n",
    "! wget https://www.omim.org/static/omim/data/mim2gene.txt \n",
    "! sed -e '1,4d' mim2gene.txt | cut -f4,5 | awk 'NF' > mimgenes.txt\n",
    "! sed -i 's/Ensembl Gene ID (Ensembl)/Ensembl/g' mimgenes.txt"
   ]
  },
  {
   "cell_type": "code",
   "execution_count": 65,
   "id": "274b0490",
   "metadata": {},
   "outputs": [],
   "source": [
    "ensembl_id = pd.read_csv('./mimgenes.txt', sep='\\t')\n",
    "hpo = inh.merge(ensembl_id, left_on=['GENE'], right_on=['Approved Gene Symbol (HGNC)'], how='inner')\n",
    "hpo = hpo.drop(columns=['Approved Gene Symbol (HGNC)'])"
   ]
  },
  {
   "cell_type": "code",
   "execution_count": 66,
   "id": "d3655de4",
   "metadata": {},
   "outputs": [
    {
     "data": {
      "text/html": [
       "<div>\n",
       "<style scoped>\n",
       "    .dataframe tbody tr th:only-of-type {\n",
       "        vertical-align: middle;\n",
       "    }\n",
       "\n",
       "    .dataframe tbody tr th {\n",
       "        vertical-align: top;\n",
       "    }\n",
       "\n",
       "    .dataframe thead th {\n",
       "        text-align: right;\n",
       "    }\n",
       "</style>\n",
       "<table border=\"1\" class=\"dataframe\">\n",
       "  <thead>\n",
       "    <tr style=\"text-align: right;\">\n",
       "      <th></th>\n",
       "      <th>GENE</th>\n",
       "      <th>OMIM</th>\n",
       "      <th>Inheritance</th>\n",
       "      <th>Ensembl</th>\n",
       "    </tr>\n",
       "  </thead>\n",
       "  <tbody>\n",
       "    <tr>\n",
       "      <th>0</th>\n",
       "      <td>A4GALT</td>\n",
       "      <td>OMIM:111400</td>\n",
       "      <td>AD</td>\n",
       "      <td>ENSG00000128274</td>\n",
       "    </tr>\n",
       "    <tr>\n",
       "      <th>1</th>\n",
       "      <td>AAAS</td>\n",
       "      <td>OMIM:231550</td>\n",
       "      <td>AR</td>\n",
       "      <td>ENSG00000094914</td>\n",
       "    </tr>\n",
       "    <tr>\n",
       "      <th>2</th>\n",
       "      <td>AAGAB</td>\n",
       "      <td>OMIM:148600</td>\n",
       "      <td>AD</td>\n",
       "      <td>ENSG00000103591</td>\n",
       "    </tr>\n",
       "    <tr>\n",
       "      <th>3</th>\n",
       "      <td>AARS1</td>\n",
       "      <td>OMIM:613287</td>\n",
       "      <td>AD</td>\n",
       "      <td>ENSG00000090861</td>\n",
       "    </tr>\n",
       "    <tr>\n",
       "      <th>4</th>\n",
       "      <td>AARS1</td>\n",
       "      <td>OMIM:616339</td>\n",
       "      <td>AR</td>\n",
       "      <td>ENSG00000090861</td>\n",
       "    </tr>\n",
       "    <tr>\n",
       "      <th>...</th>\n",
       "      <td>...</td>\n",
       "      <td>...</td>\n",
       "      <td>...</td>\n",
       "      <td>...</td>\n",
       "    </tr>\n",
       "    <tr>\n",
       "      <th>5353</th>\n",
       "      <td>ZP2</td>\n",
       "      <td>OMIM:618353</td>\n",
       "      <td>AR</td>\n",
       "      <td>ENSG00000103310</td>\n",
       "    </tr>\n",
       "    <tr>\n",
       "      <th>5354</th>\n",
       "      <td>ZP3</td>\n",
       "      <td>OMIM:617712</td>\n",
       "      <td>AD</td>\n",
       "      <td>ENSG00000188372</td>\n",
       "    </tr>\n",
       "    <tr>\n",
       "      <th>5355</th>\n",
       "      <td>ZSWIM6</td>\n",
       "      <td>OMIM:603671</td>\n",
       "      <td>AD</td>\n",
       "      <td>ENSG00000130449</td>\n",
       "    </tr>\n",
       "    <tr>\n",
       "      <th>5356</th>\n",
       "      <td>ZSWIM6</td>\n",
       "      <td>OMIM:617865</td>\n",
       "      <td>AD</td>\n",
       "      <td>ENSG00000130449</td>\n",
       "    </tr>\n",
       "    <tr>\n",
       "      <th>5357</th>\n",
       "      <td>ZSWIM7</td>\n",
       "      <td>OMIM:619831</td>\n",
       "      <td>AR</td>\n",
       "      <td>ENSG00000214941</td>\n",
       "    </tr>\n",
       "  </tbody>\n",
       "</table>\n",
       "<p>5358 rows × 4 columns</p>\n",
       "</div>"
      ],
      "text/plain": [
       "        GENE         OMIM Inheritance          Ensembl\n",
       "0     A4GALT  OMIM:111400          AD  ENSG00000128274\n",
       "1       AAAS  OMIM:231550          AR  ENSG00000094914\n",
       "2      AAGAB  OMIM:148600          AD  ENSG00000103591\n",
       "3      AARS1  OMIM:613287          AD  ENSG00000090861\n",
       "4      AARS1  OMIM:616339          AR  ENSG00000090861\n",
       "...      ...          ...         ...              ...\n",
       "5353     ZP2  OMIM:618353          AR  ENSG00000103310\n",
       "5354     ZP3  OMIM:617712          AD  ENSG00000188372\n",
       "5355  ZSWIM6  OMIM:603671          AD  ENSG00000130449\n",
       "5356  ZSWIM6  OMIM:617865          AD  ENSG00000130449\n",
       "5357  ZSWIM7  OMIM:619831          AR  ENSG00000214941\n",
       "\n",
       "[5358 rows x 4 columns]"
      ]
     },
     "execution_count": 66,
     "metadata": {},
     "output_type": "execute_result"
    }
   ],
   "source": [
    "hpo"
   ]
  },
  {
   "cell_type": "code",
   "execution_count": 67,
   "id": "5e98acf1",
   "metadata": {},
   "outputs": [],
   "source": [
    "hpo.to_csv('hpo_table.csv', sep='\\t', index=False)"
   ]
  },
  {
   "cell_type": "code",
   "execution_count": 68,
   "id": "69f8a911",
   "metadata": {},
   "outputs": [],
   "source": [
    "! rm genes_inh_mim.txt genes_mim_inh.txt genes_to_remove.txt genes_to_rm.txt hpo_gene_mim.txt hpo_gene_mim_flt.txt hpo_gene_omim.txt hpo_genes_inh_mim.txt mim2gene.txt mimgenes.txt"
   ]
  },
  {
   "cell_type": "markdown",
   "id": "a54d4382",
   "metadata": {},
   "source": [
    "# Merge ClinVar and HPO data"
   ]
  },
  {
   "cell_type": "code",
   "execution_count": 69,
   "id": "823f0141",
   "metadata": {},
   "outputs": [
    {
     "name": "stdout",
     "output_type": "stream",
     "text": [
      "  CHROM      POS       ID REF ALT  QUAL FILTER   GENE      CLNSIG  \\\n",
      "0  chr1  1013983  1028857   G   A -10.0   PASS  ISG15  Pathogenic   \n",
      "1  chr1  1014143   183381   C   T -10.0   PASS  ISG15  Pathogenic   \n",
      "\n",
      "                        MC         OMIM  \n",
      "0  splice_acceptor_variant  OMIM:616126  \n",
      "1                 nonsense  OMIM:616126  \n",
      "(120938, 11)\n"
     ]
    }
   ],
   "source": [
    "cv = pd.read_csv('ClinVarTable_grch38_20230326_PLP_OMIM.txt', sep='\\t')\n",
    "\n",
    "print(cv.head(2))\n",
    "print(cv.shape)"
   ]
  },
  {
   "cell_type": "code",
   "execution_count": 70,
   "id": "e8e60042",
   "metadata": {},
   "outputs": [
    {
     "name": "stdout",
     "output_type": "stream",
     "text": [
      "     GENE         OMIM Inheritance          Ensembl\n",
      "0  A4GALT  OMIM:111400          AD  ENSG00000128274\n",
      "1    AAAS  OMIM:231550          AR  ENSG00000094914\n",
      "(5358, 4)\n"
     ]
    }
   ],
   "source": [
    "hpo = pd.read_csv('hpo_table.csv', sep='\\t')\n",
    "\n",
    "print(hpo.head(2))\n",
    "print(hpo.shape)"
   ]
  },
  {
   "cell_type": "code",
   "execution_count": 71,
   "id": "f10129a7",
   "metadata": {},
   "outputs": [],
   "source": [
    "# final dataframe\n",
    "df = pd.merge(cv, hpo, on=['GENE', 'OMIM'], how='inner')"
   ]
  },
  {
   "cell_type": "code",
   "execution_count": 72,
   "id": "af62fb50",
   "metadata": {},
   "outputs": [
    {
     "name": "stdout",
     "output_type": "stream",
     "text": [
      "(87985, 13)\n",
      "N of variants: 74365\n",
      "N of genes: 3578\n",
      "N of gene-MIM associations: 4850\n"
     ]
    }
   ],
   "source": [
    "# Statistics\n",
    "\n",
    "print(df.shape)\n",
    "print('N of variants:', df['ID'].drop_duplicates().shape[0])\n",
    "print('N of genes:', df['GENE'].drop_duplicates().shape[0])\n",
    "print('N of gene-MIM associations:', df[['GENE', 'OMIM']].drop_duplicates(keep='first').shape[0])"
   ]
  }
 ],
 "metadata": {
  "kernelspec": {
   "display_name": "Python 3 (ipykernel)",
   "language": "python",
   "name": "python3"
  },
  "language_info": {
   "codemirror_mode": {
    "name": "ipython",
    "version": 3
   },
   "file_extension": ".py",
   "mimetype": "text/x-python",
   "name": "python",
   "nbconvert_exporter": "python",
   "pygments_lexer": "ipython3",
   "version": "3.9.13"
  }
 },
 "nbformat": 4,
 "nbformat_minor": 5
}
