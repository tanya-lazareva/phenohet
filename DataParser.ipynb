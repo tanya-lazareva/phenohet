{
 "cells": [
  {
   "cell_type": "markdown",
   "id": "476a2834",
   "metadata": {},
   "source": [
    "# Library"
   ]
  },
  {
   "cell_type": "markdown",
   "id": "55036bc4",
   "metadata": {},
   "source": [
    "Required tools for the analysis (could be installed via conda):\n",
    "\n",
    "- BCFTools\n",
    "- Genome Analysis Toolkit (GATK) framework"
   ]
  },
  {
   "cell_type": "code",
   "execution_count": null,
   "id": "f05764dd",
   "metadata": {},
   "outputs": [],
   "source": [
    "import pandas as pd\n",
    "import numpy as np\n",
    "import matplotlib\n",
    "import rpy2"
   ]
  },
  {
   "cell_type": "code",
   "execution_count": null,
   "id": "356b6cce",
   "metadata": {},
   "outputs": [],
   "source": [
    "%load_ext rpy2.ipython"
   ]
  },
  {
   "cell_type": "code",
   "execution_count": null,
   "id": "a42e1099",
   "metadata": {},
   "outputs": [],
   "source": [
    "%%R\n",
    "library(rlang)\n",
    "library(ggplot2)"
   ]
  },
  {
   "cell_type": "markdown",
   "id": "a88a31da",
   "metadata": {},
   "source": [
    "# Data Collection"
   ]
  },
  {
   "cell_type": "markdown",
   "id": "5b4380db",
   "metadata": {},
   "source": [
    "## 1. variant/gene - disease association"
   ]
  },
  {
   "cell_type": "code",
   "execution_count": null,
   "id": "83f86df7",
   "metadata": {},
   "outputs": [],
   "source": [
    "! wget -O - https://ftp.ncbi.nlm.nih.gov/pub/clinvar/vcf_GRCh38/clinvar_20230903.vcf.gz | gzip -d > clinvar_grch38_20230903.vcf"
   ]
  },
  {
   "cell_type": "code",
   "execution_count": null,
   "id": "762f887a",
   "metadata": {},
   "outputs": [],
   "source": [
    "# save P/LP variants only\n",
    "\n",
    "! bcftools view -i 'INFO/CLNSIG ~ \"Pathogenic\" |INFO/CLNSIG ~ \"Likely_pathogenic\"' clinvar_grch38_20230903.vcf \\\n",
    ">  clinvar_grch38_20230903_PLP.vcf\n",
    "! awk '{print \"chr\"$0}' clinvar_grch38_20230903_PLP.vcf >  clinvar_grch38_20230903_plp.vcf\n",
    "! sed -i 's/chr#/#/g' clinvar_grch38_20230903_plp.vcf\n",
    "! rm clinvar_grch38_20230903_PLP.vcf"
   ]
  },
  {
   "cell_type": "code",
   "execution_count": null,
   "id": "a99301b7",
   "metadata": {},
   "outputs": [],
   "source": [
    "gatk VariantsToTable -V clinvar_grch38_20230903_plp.vcf -F CHROM -F POS -F ID -F REF -F ALT -F QUAL -F FILTER -F AF_EXAC -F CLNDN -F CLNDISDB -F CLNREVSTAT -F CLNSIG -F CLNVC -F GENEINFO -O clinvar_grch38_20230903_plp.txt"
   ]
  },
  {
   "cell_type": "code",
   "execution_count": null,
   "id": "3b975791",
   "metadata": {},
   "outputs": [],
   "source": [
    "cv_plp = pd.read_csv(\"clinvar_grch38_20230903_plp.txt\", sep='\\t')"
   ]
  },
  {
   "cell_type": "code",
   "execution_count": null,
   "id": "2fda925c",
   "metadata": {},
   "outputs": [],
   "source": [
    "cv_plp = cv_plp[cv_plp['FILTER'] == \"PASS\"]\n",
    "print(\"N of PLP PASS variants in .vcf:\", cv_plp.shape[0])"
   ]
  },
  {
   "cell_type": "code",
   "execution_count": null,
   "id": "b2569a7a",
   "metadata": {},
   "outputs": [],
   "source": [
    "# save only gene symbol\n",
    "\n",
    "cv_plp[['GENEINFO']] = cv_plp[['GENEINFO']].replace(to_replace=':.*', regex=True, value='')"
   ]
  },
  {
   "cell_type": "code",
   "execution_count": null,
   "id": "14ca0964",
   "metadata": {},
   "outputs": [],
   "source": [
    "# rm ids except OMIM and ORPHA\n",
    "cv_plp[['CLNDISDB']] = cv_plp[['CLNDISDB']].replace(to_replace='MONDO:MONDO:[0-9]*\\,', regex=True, value='')\n",
    "cv_plp[['CLNDISDB']] = cv_plp[['CLNDISDB']].replace(to_replace='MONDO:MONDO:[0-9]*', regex=True, value='')\n",
    "\n",
    "cv_plp[['CLNDISDB']] = cv_plp[['CLNDISDB']].replace(to_replace='MedGen:[A-Z]*[0-9]*\\,', regex=True, value='')\n",
    "cv_plp[['CLNDISDB']] = cv_plp[['CLNDISDB']].replace(to_replace='MedGen:[A-Z]*[0-9]*', regex=True, value='')\n",
    "\n",
    "cv_plp[['CLNDISDB']] = cv_plp[['CLNDISDB']].replace(to_replace='MeSH:[A-Z]*[0-9]*\\,', regex=True, value='')\n",
    "cv_plp[['CLNDISDB']] = cv_plp[['CLNDISDB']].replace(to_replace='MeSH:[A-Z]*[0-9]*', regex=True, value='')\n",
    "\n",
    "cv_plp[['CLNDISDB']] = cv_plp[['CLNDISDB']].replace(to_replace='SNOMED_CT:[0-9]*\\,', regex=True, value='')\n",
    "cv_plp[['CLNDISDB']] = cv_plp[['CLNDISDB']].replace(to_replace='SNOMED_CT:[0-9]*', regex=True, value='')\n",
    "\n",
    "\n",
    "cv_plp[['CLNDISDB']] = cv_plp[['CLNDISDB']].replace(to_replace='SNOMED_CT:[0-9]*\\,', regex=True, value='')\n",
    "cv_plp[['CLNDISDB']] = cv_plp[['CLNDISDB']].replace(to_replace='SNOMED_CT:[0-9]*', regex=True, value='')\n",
    "\n",
    "cv_plp[['CLNDISDB']] = cv_plp[['CLNDISDB']].replace(to_replace='Human_Phenotype_Ontology:HP:[0-9]*\\,', regex=True, value='')\n",
    "cv_plp[['CLNDISDB']] = cv_plp[['CLNDISDB']].replace(to_replace='Human_Phenotype_Ontology:HP:[0-9]*', regex=True, value='')\n",
    "\n",
    "cv_plp[['CLNDISDB']] = cv_plp[['CLNDISDB']].replace(to_replace='\\.', regex=True, value='')"
   ]
  },
  {
   "cell_type": "code",
   "execution_count": null,
   "id": "0f9c615b",
   "metadata": {},
   "outputs": [],
   "source": [
    "cv_plp.to_csv('clinvar_plp_table.csv', sep='\\t')"
   ]
  },
  {
   "cell_type": "code",
   "execution_count": null,
   "id": "4a9d5273",
   "metadata": {},
   "outputs": [],
   "source": [
    "# create list of all MIMs\n",
    "! cat clinvar_plp_table.csv | cut -f11 | sed 's/|/\\n/g' | sed 's/\\,/\\n/g'| grep OMIM | sort | uniq > clinvar_plp_omim.txt\n",
    "! wc -l clinvar_plp_omim.txt"
   ]
  },
  {
   "cell_type": "code",
   "execution_count": null,
   "id": "2e785385",
   "metadata": {},
   "outputs": [],
   "source": [
    "disease_omim = pd.read_csv('clinvar_plp_omim.txt', sep='\\t', names=['OMIM'], header=None)"
   ]
  },
  {
   "cell_type": "code",
   "execution_count": null,
   "id": "631221d0",
   "metadata": {},
   "outputs": [],
   "source": [
    "# rm provisional OMIM gene-disease ids (ex, OMIM:PS000000)\n",
    "disease_omim = disease_omim[disease_omim.OMIM.str.contains('^OMIM:[0-9]{6,6}$', regex= True, na=False)]"
   ]
  },
  {
   "cell_type": "code",
   "execution_count": null,
   "id": "3d62ac20",
   "metadata": {},
   "outputs": [],
   "source": [
    "cv_plp[\"OMIM\"] = cv_plp[\"CLNDISDB\"].apply(lambda x: [y for y in disease_omim['OMIM'] if y in x])\n",
    "cv_plp= cv_plp.explode(\"OMIM\")"
   ]
  },
  {
   "cell_type": "code",
   "execution_count": null,
   "id": "bbd29e17",
   "metadata": {},
   "outputs": [],
   "source": [
    "# create list of all MIM - ORPHA links\n",
    "\n",
    "! cat clinvar_plp_table.csv | cut -f11 | sed 's/|/\\n/g' | sort | uniq | grep \"^OMIM\" | grep Orphanet > disease_mim_orpha.txt"
   ]
  },
  {
   "cell_type": "code",
   "execution_count": null,
   "id": "a8d1b8f5",
   "metadata": {},
   "outputs": [],
   "source": [
    "disease_mim_orpha = pd.read_csv('disease_mim_orpha.txt', sep=',', names=['OMIM', 'ORPHA1','ORPHA2',\n",
    "                                                                         'ORPHA3','ORPHA4','ORPHA5',\n",
    "                                                                         'ORPHA6','ORPHA7'])"
   ]
  },
  {
   "cell_type": "code",
   "execution_count": null,
   "id": "e3e01e9c",
   "metadata": {},
   "outputs": [],
   "source": [
    "disease_omim = disease_omim.merge(disease_mim_orpha, on='OMIM', how='left')"
   ]
  },
  {
   "cell_type": "code",
   "execution_count": null,
   "id": "85209868",
   "metadata": {},
   "outputs": [],
   "source": [
    "cv_plp_dis = cv_plp.merge(disease_omim, how='left', on = 'OMIM')"
   ]
  },
  {
   "cell_type": "code",
   "execution_count": null,
   "id": "469bea84",
   "metadata": {},
   "outputs": [],
   "source": [
    "cv_plp_dis = cv_plp_dis.drop(columns={\"CLNDN\", \"CLNDISDB\"})"
   ]
  },
  {
   "cell_type": "code",
   "execution_count": null,
   "id": "3e766349",
   "metadata": {},
   "outputs": [],
   "source": [
    "cv_plp_dis['ORPHA'] = cv_plp_dis[cv_plp_dis.columns[13:]].apply( lambda x: ','.join(x.dropna().astype(str)),axis=1)"
   ]
  },
  {
   "cell_type": "code",
   "execution_count": null,
   "id": "c86bbf8b",
   "metadata": {},
   "outputs": [],
   "source": [
    "cv_plp_dis = cv_plp_dis.drop(columns={'ORPHA1', 'ORPHA2','ORPHA3', 'ORPHA4','ORPHA5', 'ORPHA6','ORPHA7'})"
   ]
  },
  {
   "cell_type": "code",
   "execution_count": null,
   "id": "2dd6d30b",
   "metadata": {},
   "outputs": [],
   "source": [
    "cv_plp_dis.head()"
   ]
  },
  {
   "cell_type": "code",
   "execution_count": null,
   "id": "1f272291",
   "metadata": {},
   "outputs": [],
   "source": [
    "cv_plp_dis.to_csv(\"clinvar_plp_dis_ids.csv\", sep='\\t', index=False)   \n",
    "\n",
    "# all  PLP PASS variants with associated disease (if present)\n",
    "# NB! 1 line - variants - disease association"
   ]
  },
  {
   "cell_type": "code",
   "execution_count": null,
   "id": "0010e4a4",
   "metadata": {},
   "outputs": [],
   "source": [
    "# ClinVar data statistics\n",
    "\n",
    "print(cv_plp_dis.shape)\n",
    "print('N of genes:', cv_plp_dis['GENEINFO'].drop_duplicates().shape[0])\n",
    "print('N of gene-MIM associations:', cv_plp_dis[['GENEINFO', 'OMIM']].dropna().drop_duplicates(keep='first').shape[0])\n",
    "print('N of MIMs:', cv_plp_dis[['OMIM']].dropna().drop_duplicates(keep='first').shape[0])"
   ]
  },
  {
   "cell_type": "markdown",
   "id": "ad124855",
   "metadata": {},
   "source": [
    "## 2. Phenotype & Inheritance  data "
   ]
  },
  {
   "cell_type": "markdown",
   "id": "3cbc5f3f",
   "metadata": {},
   "source": [
    "Terms realted to inheritance\n",
    "--\n",
    "- HP:0034345\tMendelian inheritance\n",
    "- HP:0001426\tNon-Mendelian inheritance\n",
    "- HP:0000006\t**Autosomal dominant inheritance**\n",
    "- HP:0012275\tAutosomal dominant inheritance with maternal imprinting\n",
    "- HP:0000007\t**Autosomal recessive inheritance**\n",
    "- HP:0001417\t**X-linked inheritance**\n",
    "- HP:0001423\t**X-linked dominant inheritance**\n",
    "- HP:0001419\t**X-linked recessive inheritance**\n",
    "- HP:0001450\tY-linked inheritance\n",
    "- HP:0010984\tDigenic inheritance\n",
    "- HP:0010982\tPolygenic inheritance\n",
    "- HP:0001442\tTypified by somatic mosaicism"
   ]
  },
  {
   "cell_type": "code",
   "execution_count": null,
   "id": "f388712b",
   "metadata": {},
   "outputs": [],
   "source": [
    "hpo_phen_to_gen = pd.read_csv('phenotype_to_genes.txt', sep='\\t') # obtained from https://hpo.jax.org/app/\n",
    "hpo_phen_to_gen.head()"
   ]
  },
  {
   "cell_type": "code",
   "execution_count": null,
   "id": "4179d7bf",
   "metadata": {},
   "outputs": [],
   "source": [
    "# select phenotypic features execpt related to inheritance\n",
    "hpo_pheno = hpo_phen_to_gen.drop(hpo_phen_to_gen[(hpo_phen_to_gen['hpo_id'] == 'HP:0034345') | (hpo_phen_to_gen['hpo_id'] == 'HP:0001426')|\n",
    "                         (hpo_phen_to_gen['hpo_id'] == 'HP:0000006') | (hpo_phen_to_gen['hpo_id'] == 'HP:0012275') |\n",
    "                          (hpo_phen_to_gen['hpo_id'] == 'HP:0000007') | (hpo_phen_to_gen['hpo_id'] == 'HP:0001417')|\n",
    "                          (hpo_phen_to_gen['hpo_id'] == 'HP:0001423') | (hpo_phen_to_gen['hpo_id'] == 'HP:0001419')|\n",
    "                          (hpo_phen_to_gen['hpo_id'] == 'HP:0001450') | (hpo_phen_to_gen['hpo_id'] == 'HP:0010984')|\n",
    "                          (hpo_phen_to_gen['hpo_id'] == 'HP:0010982') | (hpo_phen_to_gen['hpo_id'] == 'HP:0001442')].index)"
   ]
  },
  {
   "cell_type": "code",
   "execution_count": null,
   "id": "a26f92bb",
   "metadata": {},
   "outputs": [],
   "source": [
    "# collect  terms related to Mendelian inheritance\n",
    "\n",
    "hpo_inh = hpo_phen_to_gen[(hpo_phen_to_gen['hpo_id'] == 'HP:0000006') | (hpo_phen_to_gen['hpo_id'] == 'HP:0000007') |\n",
    "                         (hpo_phen_to_gen['hpo_id'] == 'HP:0001417') | (hpo_phen_to_gen['hpo_id'] == 'HP:0001423') |\n",
    "                          (hpo_phen_to_gen['hpo_id'] == 'HP:0001419')]"
   ]
  },
  {
   "cell_type": "code",
   "execution_count": null,
   "id": "03c81abb",
   "metadata": {},
   "outputs": [],
   "source": [
    "inh_count = hpo_inh.groupby(['gene_symbol', 'disease_id']).size().reset_index(name='count_inhpattern')\n",
    "hpo_inh = hpo_inh.merge(inh_count, on=['gene_symbol', 'disease_id'])\n",
    "hpo_inh.head()"
   ]
  },
  {
   "cell_type": "code",
   "execution_count": null,
   "id": "37d42831",
   "metadata": {},
   "outputs": [],
   "source": [
    "hpo_inh = hpo_inh[hpo_inh['disease_id'] != 'OMIM:268000']  # errors in annotattion due to different causal genes\n",
    "\n",
    "hpo_inh = hpo_inh.loc[~((hpo_inh['hpo_id']== 'HP:0001417') & (hpo_inh['gene_symbol']== 'CRB1'))] "
   ]
  },
  {
   "cell_type": "code",
   "execution_count": null,
   "id": "16e972af",
   "metadata": {},
   "outputs": [],
   "source": [
    "# define inhertance pattern for each gene-disease association\n",
    "\n",
    "def define_inheritance(df):\n",
    "    \n",
    "    if (df['count_inhpattern'] == 1) & (df['hpo_id'] == 'HP:0000006'):\n",
    "        return 'AD'\n",
    "    \n",
    "    elif (df['count_inhpattern'] == 1) & (df['hpo_id'] == 'HP:0000007'):\n",
    "        return 'AR'\n",
    "    \n",
    "    elif (df['hpo_id'] == 'HP:0001423') | (df['hpo_id'] == 'HP:0001419') | (df['hpo_id'] == 'HP:0001417'):\n",
    "        return 'XL'\n",
    "    \n",
    "    elif df['hpo_id'] == 'HP:0001450':\n",
    "        return 'YL'\n",
    "    \n",
    "    else:\n",
    "        return 'ADAR'"
   ]
  },
  {
   "cell_type": "code",
   "execution_count": null,
   "id": "80d487da",
   "metadata": {},
   "outputs": [],
   "source": [
    "hpo_inh['Inheritance'] = hpo_inh.apply(define_inheritance, axis=1)"
   ]
  },
  {
   "cell_type": "code",
   "execution_count": null,
   "id": "9ce05d2e",
   "metadata": {},
   "outputs": [],
   "source": [
    "hpo_inh = hpo_inh.drop(columns=['hpo_id', 'hpo_name', 'count_inhpattern'])\n",
    "hpo_inh = hpo_inh.drop_duplicates()\n",
    "hpo_inh.drop_duplicates().shape"
   ]
  },
  {
   "cell_type": "code",
   "execution_count": null,
   "id": "2d7b396e",
   "metadata": {},
   "outputs": [],
   "source": [
    "hpo_inh.to_csv('hpo_inh_terms.csv', sep='\\t', index=False)"
   ]
  },
  {
   "cell_type": "code",
   "execution_count": null,
   "id": "d51f1da2",
   "metadata": {},
   "outputs": [],
   "source": [
    "df = cv_vars.merge(hpo_inh, how=\"inner\", left_on=['GENEINFO', 'OMIM'], right_on=['gene_symbol', 'disease_id'])"
   ]
  },
  {
   "cell_type": "code",
   "execution_count": null,
   "id": "607f1700",
   "metadata": {},
   "outputs": [],
   "source": [
    "df = df.drop(columns={'disease_id', 'gene_symbol'})\n",
    "df.head()"
   ]
  },
  {
   "cell_type": "code",
   "execution_count": null,
   "id": "0cf9f43f",
   "metadata": {},
   "outputs": [],
   "source": [
    "# add ENSEMBL ids\n",
    "\n",
    "! wget https://www.omim.org/static/omim/data/mim2gene.txt \n",
    "! sed -e '1,4d' mim2gene.txt | cut -f4,5 | awk 'NF' > mimgenes.txt\n",
    "! sed -i 's/Ensembl Gene ID (Ensembl)/Ensembl/g' mimgenes.txt\n",
    "! rm mim2gene.txt"
   ]
  },
  {
   "cell_type": "code",
   "execution_count": null,
   "id": "874ce49c",
   "metadata": {},
   "outputs": [],
   "source": [
    "ensembl_id = pd.read_csv('mimgenes.txt', sep='\\t')\n",
    "df = df.merge(ensembl_id, left_on=['GENEINFO'], right_on=['Approved Gene Symbol (HGNC)'], how='inner')"
   ]
  },
  {
   "cell_type": "code",
   "execution_count": null,
   "id": "28576090",
   "metadata": {},
   "outputs": [],
   "source": [
    "df = df.drop(columns=['Approved Gene Symbol (HGNC)'])\n",
    "df = df.dropna(subset={'OMIM'})"
   ]
  },
  {
   "cell_type": "code",
   "execution_count": null,
   "id": "b838e868",
   "metadata": {},
   "outputs": [],
   "source": [
    "# statistics\n",
    "print(df.shape)\n",
    "print('N of variants:', df['ID'].drop_duplicates(keep='first').shape[0])\n",
    "print('N of genes:', df['GENEINFO'].drop_duplicates().shape[0])\n",
    "print('N of gene-MIM associations:', df[['GENEINFO', 'OMIM']].drop_duplicates(keep='first').shape[0])\n",
    "print('N of MIMs:', df[['OMIM']].drop_duplicates(keep='first').shape[0])"
   ]
  },
  {
   "cell_type": "code",
   "execution_count": null,
   "id": "42dc9948",
   "metadata": {},
   "outputs": [],
   "source": [
    "# save merged dataframe\n",
    "df.to_csv('clinvar_hpo_merged_data.csv', sep='\\t', index=False)"
   ]
  }
 ],
 "metadata": {
  "kernelspec": {
   "display_name": "Python 3 (ipykernel)",
   "language": "python",
   "name": "python3"
  },
  "language_info": {
   "codemirror_mode": {
    "name": "ipython",
    "version": 3
   },
   "file_extension": ".py",
   "mimetype": "text/x-python",
   "name": "python",
   "nbconvert_exporter": "python",
   "pygments_lexer": "ipython3",
   "version": "3.11.5"
  }
 },
 "nbformat": 4,
 "nbformat_minor": 5
}
