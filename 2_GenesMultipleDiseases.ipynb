{
 "cells": [
  {
   "cell_type": "markdown",
   "id": "472d54fd",
   "metadata": {},
   "source": [
    "# II Features of genes linked to 2+ monogenic disorders"
   ]
  },
  {
   "cell_type": "markdown",
   "id": "8c54e40a",
   "metadata": {},
   "source": [
    "##### - Number of asscoiated monogenic disorders with each gene\n",
    "##### - Constraint metrics (pLI, LOEUF)\n",
    "##### - HPO terms per gene\n",
    "##### - Enrichment Analysis"
   ]
  },
  {
   "cell_type": "markdown",
   "id": "6e950a57",
   "metadata": {},
   "source": [
    "# Library"
   ]
  },
  {
   "cell_type": "markdown",
   "id": "53d9a35c",
   "metadata": {},
   "source": [
    "## Python libraries"
   ]
  },
  {
   "cell_type": "code",
   "execution_count": 1,
   "id": "df59d570",
   "metadata": {},
   "outputs": [],
   "source": [
    "import pandas as pd\n",
    "import numpy as np\n",
    "import seaborn as sns\n",
    "import matplotlib.pyplot as plt\n",
    "import rpy2"
   ]
  },
  {
   "cell_type": "markdown",
   "id": "873d2c8e",
   "metadata": {},
   "source": [
    "## R and R packages "
   ]
  },
  {
   "cell_type": "code",
   "execution_count": 2,
   "id": "d4579260",
   "metadata": {},
   "outputs": [
    {
     "name": "stderr",
     "output_type": "stream",
     "text": [
      "\n"
     ]
    }
   ],
   "source": [
    "%load_ext rpy2.ipython\n",
    "#%reload_ext rpy2.ipython"
   ]
  },
  {
   "cell_type": "code",
   "execution_count": 3,
   "id": "582b5c2c",
   "metadata": {},
   "outputs": [
    {
     "name": "stderr",
     "output_type": "stream",
     "text": [
      "R[write to console]: \n",
      "Присоединяю пакет: ‘dplyr’\n",
      "\n",
      "\n",
      "R[write to console]: Следующие объекты скрыты от ‘package:stats’:\n",
      "\n",
      "    filter, lag\n",
      "\n",
      "\n",
      "R[write to console]: Следующие объекты скрыты от ‘package:base’:\n",
      "\n",
      "    intersect, setdiff, setequal, union\n",
      "\n",
      "\n",
      "R[write to console]: \n",
      "\n",
      "R[write to console]: For example usage please run: vignette('qqman')\n",
      "\n",
      "R[write to console]: \n",
      "\n",
      "R[write to console]: Citation appreciated but not required:\n",
      "\n",
      "R[write to console]: Turner, (2018). qqman: an R package for visualizing GWAS results using Q-Q and manhattan plots. Journal of Open Source Software, 3(25), 731, https://doi.org/10.21105/joss.00731.\n",
      "\n",
      "R[write to console]: \n",
      "\n",
      "R[write to console]: Registered S3 method overwritten by 'enrichplot':\n",
      "  method               from\n",
      "  fortify.enrichResult DOSE\n",
      "\n",
      "R[write to console]: clusterProfiler v3.14.3  For help: https://guangchuangyu.github.io/software/clusterProfiler\n",
      "\n",
      "If you use clusterProfiler in published research, please cite:\n",
      "Guangchuang Yu, Li-Gen Wang, Yanyan Han, Qing-Yu He. clusterProfiler: an R package for comparing biological themes among gene clusters. OMICS: A Journal of Integrative Biology. 2012, 16(5):284-287.\n",
      "\n",
      "R[write to console]: \n",
      "Присоединяю пакет: ‘gridExtra’\n",
      "\n",
      "\n",
      "R[write to console]: Следующий объект скрыт от ‘package:dplyr’:\n",
      "\n",
      "    combine\n",
      "\n",
      "\n"
     ]
    }
   ],
   "source": [
    "%%R\n",
    "library(dplyr)\n",
    "library(tidyr)\n",
    "library(ggplot2)\n",
    "library(scales)\n",
    "library(qqman)\n",
    "library(hexbin)\n",
    "library(RColorBrewer)\n",
    "library(enrichplot)\n",
    "library(clusterProfiler)\n",
    "library(msigdbr)\n",
    "library(gridExtra)"
   ]
  },
  {
   "cell_type": "markdown",
   "id": "82988404",
   "metadata": {},
   "source": [
    "# Load data"
   ]
  },
  {
   "cell_type": "code",
   "execution_count": 4,
   "id": "e39b6486",
   "metadata": {},
   "outputs": [],
   "source": [
    "! mkdir interm"
   ]
  },
  {
   "cell_type": "code",
   "execution_count": 19,
   "id": "2c82cfee",
   "metadata": {},
   "outputs": [
    {
     "name": "stdout",
     "output_type": "stream",
     "text": [
      "     GENE         OMIM Inheritance          Ensembl\n",
      "0  A4GALT  OMIM:111400          AD  ENSG00000128274\n",
      "1    AAAS  OMIM:231550          AR  ENSG00000094914\n",
      "(5358, 4)\n"
     ]
    }
   ],
   "source": [
    "# HPOdata\n",
    "hpo = pd.read_csv('hpo_table.csv', sep='\\t')   # gene-diseases associations + inheritance paatern\n",
    "\n",
    "print(hpo.head(2))\n",
    "print(hpo.shape)"
   ]
  },
  {
   "cell_type": "code",
   "execution_count": null,
   "id": "53b99012",
   "metadata": {},
   "outputs": [],
   "source": [
    "# ClinVar data\n",
    "cv = pd.read_csv('ClinVarTable_grch38_20230326_PLP_OMIM.txt', sep='\\t')   # filtered .vcf: P/LP variants annotated to diseases\n",
    "\n",
    "print(cv.head(2))\n",
    "print(cv.shape)"
   ]
  },
  {
   "cell_type": "code",
   "execution_count": 73,
   "id": "a406d7e7",
   "metadata": {},
   "outputs": [],
   "source": [
    "# merge Clinvar and HPO dataframe\n",
    "df = pd.merge(cv, hpo, on=['GENE', 'OMIM'], how='inner')\n",
    "\n",
    "# statistics\n",
    "print(df.shape)\n",
    "print('N of variants:', df['ID'].drop_duplicates().shape[0])\n",
    "print('N of genes:', df['GENE'].drop_duplicates().shape[0])\n",
    "print('N of gene-MIM associations:', df[['GENE', 'OMIM']].drop_duplicates(keep='first').shape[0])"
   ]
  },
  {
   "cell_type": "code",
   "execution_count": 7,
   "id": "3184f630",
   "metadata": {},
   "outputs": [],
   "source": [
    "# save merged dataframe\n",
    "df.to_csv('Clinvar_grch38_20230326_PLP_HPO.csv', sep='\\t', index=False)"
   ]
  },
  {
   "cell_type": "markdown",
   "id": "60850d41",
   "metadata": {},
   "source": [
    "# Count number of associated diseases per gene"
   ]
  },
  {
   "cell_type": "code",
   "execution_count": 21,
   "id": "47c3abf2",
   "metadata": {},
   "outputs": [
    {
     "name": "stdout",
     "output_type": "stream",
     "text": [
      "(5358, 4)\n",
      "N of genes: 3904\n",
      "N of gene-MIM associations: 5352\n",
      "N of MIMs: 5041\n"
     ]
    }
   ],
   "source": [
    "#in hpo data only\n",
    "\n",
    "print(hpo.shape)\n",
    "print('N of genes:', hpo['GENE'].drop_duplicates().shape[0])\n",
    "print('N of gene-MIM associations:', hpo[['GENE', 'OMIM']].drop_duplicates(keep='first').shape[0])\n",
    "print('N of MIMs:', hpo[['OMIM']].drop_duplicates(keep='first').shape[0])"
   ]
  },
  {
   "cell_type": "code",
   "execution_count": 22,
   "id": "3bc10f38",
   "metadata": {},
   "outputs": [
    {
     "data": {
      "text/html": [
       "<div>\n",
       "<style scoped>\n",
       "    .dataframe tbody tr th:only-of-type {\n",
       "        vertical-align: middle;\n",
       "    }\n",
       "\n",
       "    .dataframe tbody tr th {\n",
       "        vertical-align: top;\n",
       "    }\n",
       "\n",
       "    .dataframe thead th {\n",
       "        text-align: right;\n",
       "    }\n",
       "</style>\n",
       "<table border=\"1\" class=\"dataframe\">\n",
       "  <thead>\n",
       "    <tr style=\"text-align: right;\">\n",
       "      <th></th>\n",
       "      <th>GENE</th>\n",
       "      <th>MIMs_per_Gene</th>\n",
       "    </tr>\n",
       "  </thead>\n",
       "  <tbody>\n",
       "    <tr>\n",
       "      <th>0</th>\n",
       "      <td>A4GALT</td>\n",
       "      <td>1</td>\n",
       "    </tr>\n",
       "    <tr>\n",
       "      <th>1</th>\n",
       "      <td>AAAS</td>\n",
       "      <td>1</td>\n",
       "    </tr>\n",
       "  </tbody>\n",
       "</table>\n",
       "</div>"
      ],
      "text/plain": [
       "     GENE  MIMs_per_Gene\n",
       "0  A4GALT              1\n",
       "1    AAAS              1"
      ]
     },
     "execution_count": 22,
     "metadata": {},
     "output_type": "execute_result"
    }
   ],
   "source": [
    "# count MIMs associated with each gene\n",
    "\n",
    "gene_mim = hpo[['GENE', 'OMIM']].drop_duplicates()\n",
    "gene_mim = gene_mim.groupby(['GENE']).size().reset_index(name='MIMs_per_Gene')\n",
    "gene_mim.head(2)"
   ]
  },
  {
   "cell_type": "code",
   "execution_count": 10,
   "id": "6e22e820",
   "metadata": {},
   "outputs": [
    {
     "name": "stdout",
     "output_type": "stream",
     "text": [
      "    GENE MIMs_per_Gene\n",
      "0 A4GALT             1\n",
      "1   AAAS             1\n",
      "2  AAGAB             1\n",
      "3  AARS1             3\n",
      "4  AARS2             2\n",
      "5   AASS             1\n"
     ]
    }
   ],
   "source": [
    "%%R -i gene_mim\n",
    "\n",
    "mim_per_gene <- gene_mim\n",
    "head(mim_per_gene)"
   ]
  },
  {
   "cell_type": "code",
   "execution_count": 11,
   "id": "aacdbf0a",
   "metadata": {},
   "outputs": [
    {
     "name": "stdout",
     "output_type": "stream",
     "text": [
      "  Var1 Freq\n",
      "1    1 2972\n",
      "2    2  625\n",
      "3    3  195\n",
      "4    4   63\n",
      "5    5   25\n",
      "6    6   10\n"
     ]
    }
   ],
   "source": [
    "%%R\n",
    "\n",
    "mim_per_gene_c <- as.data.frame(table(mim_per_gene$MIMs_per_Gene))\n",
    "head(mim_per_gene_c)"
   ]
  },
  {
   "cell_type": "code",
   "execution_count": 12,
   "id": "3e847d04",
   "metadata": {},
   "outputs": [
    {
     "data": {
      "image/png": "[encoded data removed]"
     },
     "metadata": {},
     "output_type": "display_data"
    }
   ],
   "source": [
    "%%R\n",
    "\n",
    "ggplot(mim_per_gene_c, aes(x=Var1, y=Freq)) + geom_bar(stat='identity', fill='blue', alpha=0.7) + \n",
    "xlab('Disease per gene') + ylab('Frequency') + theme_set(theme_gray(base_family = \"DejaVu\")) + theme_bw()"
   ]
  },
  {
   "cell_type": "code",
   "execution_count": 14,
   "id": "8715f808",
   "metadata": {},
   "outputs": [],
   "source": [
    "%%R\n",
    "\n",
    "write.csv(mim_per_gene_c, 'GeneMulPheno_hpo_data.csv', quote=FALSE, row.names=FALSE)"
   ]
  },
  {
   "cell_type": "markdown",
   "id": "7fd7f85d",
   "metadata": {},
   "source": [
    "#####  save N of diseases per gene to merged ClinVar-HPO dataframe"
   ]
  },
  {
   "cell_type": "code",
   "execution_count": 4,
   "id": "da515847",
   "metadata": {
    "scrolled": true
   },
   "outputs": [
    {
     "data": {
      "text/html": [
       "<div>\n",
       "<style scoped>\n",
       "    .dataframe tbody tr th:only-of-type {\n",
       "        vertical-align: middle;\n",
       "    }\n",
       "\n",
       "    .dataframe tbody tr th {\n",
       "        vertical-align: top;\n",
       "    }\n",
       "\n",
       "    .dataframe thead th {\n",
       "        text-align: right;\n",
       "    }\n",
       "</style>\n",
       "<table border=\"1\" class=\"dataframe\">\n",
       "  <thead>\n",
       "    <tr style=\"text-align: right;\">\n",
       "      <th></th>\n",
       "      <th>CHROM</th>\n",
       "      <th>POS</th>\n",
       "      <th>ID</th>\n",
       "      <th>REF</th>\n",
       "      <th>ALT</th>\n",
       "      <th>QUAL</th>\n",
       "      <th>FILTER</th>\n",
       "      <th>GENE</th>\n",
       "      <th>CLNSIG</th>\n",
       "      <th>MC</th>\n",
       "      <th>OMIM</th>\n",
       "      <th>Inheritance</th>\n",
       "      <th>Ensembl</th>\n",
       "    </tr>\n",
       "  </thead>\n",
       "  <tbody>\n",
       "    <tr>\n",
       "      <th>0</th>\n",
       "      <td>chr1</td>\n",
       "      <td>1013983</td>\n",
       "      <td>1028857</td>\n",
       "      <td>G</td>\n",
       "      <td>A</td>\n",
       "      <td>-10.0</td>\n",
       "      <td>PASS</td>\n",
       "      <td>ISG15</td>\n",
       "      <td>Pathogenic</td>\n",
       "      <td>splice_acceptor_variant</td>\n",
       "      <td>OMIM:616126</td>\n",
       "      <td>AR</td>\n",
       "      <td>ENSG00000187608</td>\n",
       "    </tr>\n",
       "    <tr>\n",
       "      <th>1</th>\n",
       "      <td>chr1</td>\n",
       "      <td>1014143</td>\n",
       "      <td>183381</td>\n",
       "      <td>C</td>\n",
       "      <td>T</td>\n",
       "      <td>-10.0</td>\n",
       "      <td>PASS</td>\n",
       "      <td>ISG15</td>\n",
       "      <td>Pathogenic</td>\n",
       "      <td>nonsense</td>\n",
       "      <td>OMIM:616126</td>\n",
       "      <td>AR</td>\n",
       "      <td>ENSG00000187608</td>\n",
       "    </tr>\n",
       "  </tbody>\n",
       "</table>\n",
       "</div>"
      ],
      "text/plain": [
       "  CHROM      POS       ID REF ALT  QUAL FILTER   GENE      CLNSIG  \\\n",
       "0  chr1  1013983  1028857   G   A -10.0   PASS  ISG15  Pathogenic   \n",
       "1  chr1  1014143   183381   C   T -10.0   PASS  ISG15  Pathogenic   \n",
       "\n",
       "                        MC         OMIM Inheritance          Ensembl  \n",
       "0  splice_acceptor_variant  OMIM:616126          AR  ENSG00000187608  \n",
       "1                 nonsense  OMIM:616126          AR  ENSG00000187608  "
      ]
     },
     "execution_count": 4,
     "metadata": {},
     "output_type": "execute_result"
    }
   ],
   "source": [
    "df = pd.read_csv('Clinvar_grch38_20230326_PLP_HPO.csv', sep='\\t')\n",
    "df.head(2)"
   ]
  },
  {
   "cell_type": "code",
   "execution_count": 5,
   "id": "1cac4cc5",
   "metadata": {},
   "outputs": [
    {
     "name": "stdout",
     "output_type": "stream",
     "text": [
      "(87985, 13)\n",
      "N of variants: 74365\n",
      "N of genes: 3578\n",
      "N of gene-MIM associations: 4850\n"
     ]
    }
   ],
   "source": [
    "print(df.shape)\n",
    "print('N of variants:', df['ID'].drop_duplicates().shape[0])\n",
    "print('N of genes:', df['GENE'].drop_duplicates().shape[0])\n",
    "print('N of gene-MIM associations:', df[['GENE', 'OMIM']].drop_duplicates(keep='first').shape[0])"
   ]
  },
  {
   "cell_type": "code",
   "execution_count": 6,
   "id": "a27b836f",
   "metadata": {},
   "outputs": [
    {
     "data": {
      "text/html": [
       "<div>\n",
       "<style scoped>\n",
       "    .dataframe tbody tr th:only-of-type {\n",
       "        vertical-align: middle;\n",
       "    }\n",
       "\n",
       "    .dataframe tbody tr th {\n",
       "        vertical-align: top;\n",
       "    }\n",
       "\n",
       "    .dataframe thead th {\n",
       "        text-align: right;\n",
       "    }\n",
       "</style>\n",
       "<table border=\"1\" class=\"dataframe\">\n",
       "  <thead>\n",
       "    <tr style=\"text-align: right;\">\n",
       "      <th></th>\n",
       "      <th>GENE</th>\n",
       "      <th>MIMs_per_Gene</th>\n",
       "    </tr>\n",
       "  </thead>\n",
       "  <tbody>\n",
       "    <tr>\n",
       "      <th>0</th>\n",
       "      <td>AAAS</td>\n",
       "      <td>1</td>\n",
       "    </tr>\n",
       "    <tr>\n",
       "      <th>1</th>\n",
       "      <td>AAGAB</td>\n",
       "      <td>1</td>\n",
       "    </tr>\n",
       "  </tbody>\n",
       "</table>\n",
       "</div>"
      ],
      "text/plain": [
       "    GENE  MIMs_per_Gene\n",
       "0   AAAS              1\n",
       "1  AAGAB              1"
      ]
     },
     "execution_count": 6,
     "metadata": {},
     "output_type": "execute_result"
    }
   ],
   "source": [
    "# count MIMs associated with each gene\n",
    "\n",
    "gene_mim = df[['GENE', 'OMIM']].drop_duplicates()\n",
    "gene_mim = gene_mim.groupby(['GENE']).size().reset_index(name='MIMs_per_Gene')\n",
    "gene_mim.head(2)"
   ]
  },
  {
   "cell_type": "code",
   "execution_count": 23,
   "id": "ed012c34",
   "metadata": {
    "scrolled": true
   },
   "outputs": [
    {
     "name": "stdout",
     "output_type": "stream",
     "text": [
      "N of genes: 3904\n",
      "N of genes with 2+ associated diseases: 932\n",
      "N of genes with 2 associated diseases: 625\n"
     ]
    }
   ],
   "source": [
    "print('N of genes:', gene_mim.drop_duplicates().shape[0])\n",
    "print('N of genes with 2+ associated diseases:', gene_mim[gene_mim['MIMs_per_Gene'] > 1].drop_duplicates().shape[0])\n",
    "print('N of genes with 2 associated diseases:', gene_mim[gene_mim['MIMs_per_Gene'] == 2].drop_duplicates().shape[0])"
   ]
  },
  {
   "cell_type": "code",
   "execution_count": 12,
   "id": "52c8d6c8",
   "metadata": {
    "scrolled": true
   },
   "outputs": [
    {
     "data": {
      "text/html": [
       "<div>\n",
       "<style scoped>\n",
       "    .dataframe tbody tr th:only-of-type {\n",
       "        vertical-align: middle;\n",
       "    }\n",
       "\n",
       "    .dataframe tbody tr th {\n",
       "        vertical-align: top;\n",
       "    }\n",
       "\n",
       "    .dataframe thead th {\n",
       "        text-align: right;\n",
       "    }\n",
       "</style>\n",
       "<table border=\"1\" class=\"dataframe\">\n",
       "  <thead>\n",
       "    <tr style=\"text-align: right;\">\n",
       "      <th></th>\n",
       "      <th>CHROM</th>\n",
       "      <th>POS</th>\n",
       "      <th>ID</th>\n",
       "      <th>REF</th>\n",
       "      <th>ALT</th>\n",
       "      <th>QUAL</th>\n",
       "      <th>FILTER</th>\n",
       "      <th>GENE</th>\n",
       "      <th>CLNSIG</th>\n",
       "      <th>MC</th>\n",
       "      <th>OMIM</th>\n",
       "      <th>Inheritance</th>\n",
       "      <th>Ensembl</th>\n",
       "      <th>MIMs_per_Gene</th>\n",
       "    </tr>\n",
       "  </thead>\n",
       "  <tbody>\n",
       "    <tr>\n",
       "      <th>0</th>\n",
       "      <td>chr1</td>\n",
       "      <td>1013983</td>\n",
       "      <td>1028857</td>\n",
       "      <td>G</td>\n",
       "      <td>A</td>\n",
       "      <td>-10.0</td>\n",
       "      <td>PASS</td>\n",
       "      <td>ISG15</td>\n",
       "      <td>Pathogenic</td>\n",
       "      <td>splice_acceptor_variant</td>\n",
       "      <td>OMIM:616126</td>\n",
       "      <td>AR</td>\n",
       "      <td>ENSG00000187608</td>\n",
       "      <td>1</td>\n",
       "    </tr>\n",
       "    <tr>\n",
       "      <th>1</th>\n",
       "      <td>chr1</td>\n",
       "      <td>1014143</td>\n",
       "      <td>183381</td>\n",
       "      <td>C</td>\n",
       "      <td>T</td>\n",
       "      <td>-10.0</td>\n",
       "      <td>PASS</td>\n",
       "      <td>ISG15</td>\n",
       "      <td>Pathogenic</td>\n",
       "      <td>nonsense</td>\n",
       "      <td>OMIM:616126</td>\n",
       "      <td>AR</td>\n",
       "      <td>ENSG00000187608</td>\n",
       "      <td>1</td>\n",
       "    </tr>\n",
       "    <tr>\n",
       "      <th>2</th>\n",
       "      <td>chr1</td>\n",
       "      <td>1014316</td>\n",
       "      <td>161455</td>\n",
       "      <td>C</td>\n",
       "      <td>CG</td>\n",
       "      <td>-10.0</td>\n",
       "      <td>PASS</td>\n",
       "      <td>ISG15</td>\n",
       "      <td>Pathogenic</td>\n",
       "      <td>frameshift_variant</td>\n",
       "      <td>OMIM:616126</td>\n",
       "      <td>AR</td>\n",
       "      <td>ENSG00000187608</td>\n",
       "      <td>1</td>\n",
       "    </tr>\n",
       "  </tbody>\n",
       "</table>\n",
       "</div>"
      ],
      "text/plain": [
       "  CHROM      POS       ID REF ALT  QUAL FILTER   GENE      CLNSIG  \\\n",
       "0  chr1  1013983  1028857   G   A -10.0   PASS  ISG15  Pathogenic   \n",
       "1  chr1  1014143   183381   C   T -10.0   PASS  ISG15  Pathogenic   \n",
       "2  chr1  1014316   161455   C  CG -10.0   PASS  ISG15  Pathogenic   \n",
       "\n",
       "                        MC         OMIM Inheritance          Ensembl  \\\n",
       "0  splice_acceptor_variant  OMIM:616126          AR  ENSG00000187608   \n",
       "1                 nonsense  OMIM:616126          AR  ENSG00000187608   \n",
       "2       frameshift_variant  OMIM:616126          AR  ENSG00000187608   \n",
       "\n",
       "   MIMs_per_Gene  \n",
       "0              1  \n",
       "1              1  \n",
       "2              1  "
      ]
     },
     "execution_count": 12,
     "metadata": {},
     "output_type": "execute_result"
    }
   ],
   "source": [
    "# add number of associated diseases to initial df\n",
    "\n",
    "df_m = df.merge(gene_mim, how='inner')\n",
    "df_m.head(3)"
   ]
  },
  {
   "cell_type": "code",
   "execution_count": 13,
   "id": "26ac6476",
   "metadata": {},
   "outputs": [],
   "source": [
    "df_m.to_csv('./Clinvar_grch38_20230326_PLP_HPO_MIMcount.csv', sep='\\t', index=False)"
   ]
  },
  {
   "cell_type": "markdown",
   "id": "8ed9e23f",
   "metadata": {},
   "source": [
    "## Constraint metrics"
   ]
  },
  {
   "cell_type": "markdown",
   "id": "c042c8b8",
   "metadata": {},
   "source": [
    "source: https://gnomad.broadinstitute.org/"
   ]
  },
  {
   "cell_type": "code",
   "execution_count": 44,
   "id": "502c82d2",
   "metadata": {},
   "outputs": [
    {
     "name": "stdout",
     "output_type": "stream",
     "text": [
      "--2023-04-05 10:04:23--  https://storage.googleapis.com/gcp-public-data--gnomad/release/2.1.1/constraint/gnomad.v2.1.1.lof_metrics.by_gene.txt.bgz\n",
      "Распознаётся storage.googleapis.com (storage.googleapis.com)… 142.250.74.144, 142.250.74.176, 216.58.207.240, ...\n",
      "Подключение к storage.googleapis.com (storage.googleapis.com)|142.250.74.144|:443... соединение установлено.\n",
      "HTTP-запрос отправлен. Ожидание ответа… 200 OK\n",
      "Длина: 4609488 (4,4M) [application/octet-stream]\n",
      "Сохранение в: «gnomad.v2.1.1.lof_metrics.by_gene.txt.bgz.1»\n",
      "\n",
      "gnomad.v2.1.1.lof_m 100%[===================>]   4,40M  5,12MB/s    за 0,9s    \n",
      "\n",
      "2023-04-05 10:04:25 (5,12 MB/s) - «gnomad.v2.1.1.lof_metrics.by_gene.txt.bgz.1» сохранён [4609488/4609488]\n",
      "\n"
     ]
    }
   ],
   "source": [
    "! wget https://storage.googleapis.com/gcp-public-data--gnomad/release/2.1.1/constraint/gnomad.v2.1.1.lof_metrics.by_gene.txt.bgz\n",
    "    \n",
    "! gunzip -c  gnomad.v2.1.1.lof_metrics.by_gene.txt.bgz  | cut -f1,21,30,36 > ./data/gnomad.v2.1.1.pli_loeuf.txt"
   ]
  },
  {
   "cell_type": "code",
   "execution_count": 24,
   "id": "1f067e70",
   "metadata": {},
   "outputs": [
    {
     "data": {
      "text/html": [
       "<div>\n",
       "<style scoped>\n",
       "    .dataframe tbody tr th:only-of-type {\n",
       "        vertical-align: middle;\n",
       "    }\n",
       "\n",
       "    .dataframe tbody tr th {\n",
       "        vertical-align: top;\n",
       "    }\n",
       "\n",
       "    .dataframe thead th {\n",
       "        text-align: right;\n",
       "    }\n",
       "</style>\n",
       "<table border=\"1\" class=\"dataframe\">\n",
       "  <thead>\n",
       "    <tr style=\"text-align: right;\">\n",
       "      <th></th>\n",
       "      <th>gene</th>\n",
       "      <th>pLI</th>\n",
       "      <th>oe_lof_upper</th>\n",
       "      <th>oe_lof_upper_bin</th>\n",
       "    </tr>\n",
       "  </thead>\n",
       "  <tbody>\n",
       "    <tr>\n",
       "      <th>0</th>\n",
       "      <td>MED13</td>\n",
       "      <td>1.0</td>\n",
       "      <td>0.030</td>\n",
       "      <td>0.0</td>\n",
       "    </tr>\n",
       "    <tr>\n",
       "      <th>1</th>\n",
       "      <td>NIPBL</td>\n",
       "      <td>1.0</td>\n",
       "      <td>0.032</td>\n",
       "      <td>0.0</td>\n",
       "    </tr>\n",
       "  </tbody>\n",
       "</table>\n",
       "</div>"
      ],
      "text/plain": [
       "    gene  pLI  oe_lof_upper  oe_lof_upper_bin\n",
       "0  MED13  1.0         0.030               0.0\n",
       "1  NIPBL  1.0         0.032               0.0"
      ]
     },
     "execution_count": 24,
     "metadata": {},
     "output_type": "execute_result"
    }
   ],
   "source": [
    "# pLI & loeuf data from gnomAD\n",
    "\n",
    "gnomad = pd.read_csv('./data/gnomad.v2.1.1.pli_loeuf.txt', sep='\\t')\n",
    "gnomad.head(2)"
   ]
  },
  {
   "cell_type": "code",
   "execution_count": 25,
   "id": "12cda913",
   "metadata": {},
   "outputs": [
    {
     "data": {
      "text/plain": [
       "(3904, 1)"
      ]
     },
     "execution_count": 25,
     "metadata": {},
     "output_type": "execute_result"
    }
   ],
   "source": [
    "# select genes that are in hpo df\n",
    "genes = hpo[['GENE']].drop_duplicates()\n",
    "genes.shape"
   ]
  },
  {
   "cell_type": "code",
   "execution_count": 26,
   "id": "0352914f",
   "metadata": {},
   "outputs": [
    {
     "data": {
      "text/plain": [
       "(3684, 5)"
      ]
     },
     "execution_count": 26,
     "metadata": {},
     "output_type": "execute_result"
    }
   ],
   "source": [
    "gnomad_flt = pd.merge(gnomad, genes, left_on=['gene'], right_on=['GENE'], how='inner')\n",
    "gnomad_flt.shape"
   ]
  },
  {
   "cell_type": "code",
   "execution_count": 27,
   "id": "eb2b9dac",
   "metadata": {},
   "outputs": [
    {
     "data": {
      "text/plain": [
       "(932, 1)"
      ]
     },
     "execution_count": 27,
     "metadata": {},
     "output_type": "execute_result"
    }
   ],
   "source": [
    "# select genes with 2+ pheno\n",
    "\n",
    "genesMulPh = gene_mim[gene_mim['MIMs_per_Gene'] > 1]\n",
    "genesMulPh = genesMulPh[['GENE']].drop_duplicates()\n",
    "genesMulPh.shape"
   ]
  },
  {
   "cell_type": "markdown",
   "id": "de3435ad",
   "metadata": {},
   "source": [
    "### pLI "
   ]
  },
  {
   "cell_type": "code",
   "execution_count": 28,
   "id": "eb203c5b",
   "metadata": {},
   "outputs": [],
   "source": [
    "# select pLI\n",
    "\n",
    "gn_pLI = gnomad_flt[['GENE', 'pLI']]"
   ]
  },
  {
   "cell_type": "code",
   "execution_count": 29,
   "id": "ccfe5f74",
   "metadata": {},
   "outputs": [
    {
     "data": {
      "text/plain": [
       "(3684, 3)"
      ]
     },
     "execution_count": 29,
     "metadata": {},
     "output_type": "execute_result"
    }
   ],
   "source": [
    "# mark genes with 1 and 2+ associated diseases\n",
    "\n",
    "pLI = pd.merge(gn_pLI, genesMulPh, on=['GENE'], how='left', indicator='Multiple_phenotypes')\n",
    "pLI['Multiple_phenotypes'] = np.where(pLI.Multiple_phenotypes == 'both', True, False)\n",
    "pLI.shape"
   ]
  },
  {
   "cell_type": "code",
   "execution_count": 22,
   "id": "75665431",
   "metadata": {},
   "outputs": [],
   "source": [
    "pLI.to_csv('pLI_dfgenes.csv', sep='\\t', index=False)"
   ]
  },
  {
   "cell_type": "code",
   "execution_count": 54,
   "id": "3126f647",
   "metadata": {},
   "outputs": [],
   "source": [
    "pLI = pd.read_csv('pLI_dfgenes.csv', sep='\\t')"
   ]
  },
  {
   "cell_type": "code",
   "execution_count": 30,
   "id": "5658669c",
   "metadata": {},
   "outputs": [
    {
     "name": "stdout",
     "output_type": "stream",
     "text": [
      "[1] 898\n",
      "[1] 2786\n"
     ]
    }
   ],
   "source": [
    "%%R -i pLI\n",
    "\n",
    "pLI$pLI <- as.character(pLI$pLI)\n",
    "pLI$pLI <- as.numeric(pLI$pLI)\n",
    "\n",
    "print(nrow(pLI[pLI$Multiple_phenotypes == 'TRUE', ]))\n",
    "print(nrow(pLI[pLI$Multiple_phenotypes == 'FALSE', ]))"
   ]
  },
  {
   "cell_type": "code",
   "execution_count": 46,
   "id": "df72a7b2",
   "metadata": {},
   "outputs": [
    {
     "name": "stdout",
     "output_type": "stream",
     "text": [
      "`summarise()` has grouped output by 'Multiple_phenotypes'. You can override\n",
      "using the `.groups` argument.\n"
     ]
    }
   ],
   "source": [
    "%%R\n",
    "\n",
    "# classify pLI value \n",
    "\n",
    "pLI <- pLI %>% \n",
    "  mutate(class = case_when(\n",
    "    pLI <= 0.1 ~ 'pLOF tolerant (pLI <=0.1)',\n",
    "    pLI >= 0.9 ~ 'pLOF intolerant (pLI >=0.9)',\n",
    "    pLI > 0.1 & pLI < 0.9 ~ 'intermediate tolerance'))\n",
    "\n",
    "# count\n",
    "stat_pli <- na.omit(pLI)%>%\n",
    "  group_by(Multiple_phenotypes, class) %>%\n",
    "  summarize(count = n()) %>%\n",
    "  mutate(prop = (count/sum(count)))\n",
    "\n",
    "\n",
    "stat_pli\n",
    "write.csv(stat_pli, './interm/pli_hpo.csv', sep='\\t', quote=FALSE)"
   ]
  },
  {
   "cell_type": "code",
   "execution_count": 26,
   "id": "db6b95f5",
   "metadata": {},
   "outputs": [
    {
     "data": {
      "image/png": "[encoded data removed]"
     },
     "metadata": {},
     "output_type": "display_data"
    }
   ],
   "source": [
    "%%R\n",
    "\n",
    "pli_bar <- ggplot(na.omit(stat_pli), aes(y=prop, x=Multiple_phenotypes, label=count,\n",
    "                               fill=factor(class, levels=c(\"pLOF intolerant (pLI >=0.9)\",\n",
    "                                                           \"intermediate tolerance\",\n",
    "                                                           \"pLOF tolerant (pLI <=0.1)\", 'NA')))) +\n",
    "    geom_bar(position=\"stack\", stat=\"identity\")+\n",
    "    theme_bw() + \n",
    "    theme(axis.text = element_text(size = 12), axis.title =  element_text(size=14), \n",
    "    legend.text=element_text(size=14)) + \n",
    "    xlab('Genes with multiple phenotypes') +  \n",
    "    ylab(NULL) + \n",
    "    scale_y_continuous(labels = percent_format()) + theme_set(theme_gray(base_family = \"DejaVu\")) + geom_text(size = 4, position = position_stack(vjust = 0.5), family='DejaVu')\n",
    "\n",
    "pli_bar <- pli_bar + guides(fill=guide_legend(title=NULL, nrow=2, byrow=TRUE)) + theme(legend.position=\"bottom\") + scale_fill_brewer(palette = \"RdBu\")\n",
    "pli_bar <- pli_bar + theme(aspect.ratio = 1/2)  + coord_flip() \n",
    "pli_bar\n"
   ]
  },
  {
   "cell_type": "markdown",
   "id": "052c56fc",
   "metadata": {},
   "source": [
    "### LOEUF "
   ]
  },
  {
   "cell_type": "code",
   "execution_count": 28,
   "id": "498cd443",
   "metadata": {},
   "outputs": [],
   "source": [
    "# select loeuf\n",
    "\n",
    "gn_loeuf = gnomad_flt[['GENE', 'oe_lof_upper', 'oe_lof_upper_bin']]"
   ]
  },
  {
   "cell_type": "code",
   "execution_count": 29,
   "id": "95916718",
   "metadata": {},
   "outputs": [
    {
     "data": {
      "text/plain": [
       "(3684, 4)"
      ]
     },
     "execution_count": 29,
     "metadata": {},
     "output_type": "execute_result"
    }
   ],
   "source": [
    "loeuf = pd.merge(gn_loeuf, genesMulPh, on=['GENE'], how='left', indicator='Multiple_phenotypes')\n",
    "loeuf['Multiple_phenotypes'] = np.where(loeuf.Multiple_phenotypes == 'both', True, False)\n",
    "loeuf.shape"
   ]
  },
  {
   "cell_type": "code",
   "execution_count": 30,
   "id": "f8ae18cd",
   "metadata": {},
   "outputs": [],
   "source": [
    "loeuf.to_csv('LOEUF_dfgenes_hpo.csv', sep='\\t', index=False)"
   ]
  },
  {
   "cell_type": "code",
   "execution_count": 61,
   "id": "b8fc4105",
   "metadata": {},
   "outputs": [],
   "source": [
    "loeuf = pd.read_csv('LOEUF_dfgenes.csv', sep='\\t')"
   ]
  },
  {
   "cell_type": "code",
   "execution_count": 31,
   "id": "dfd76519",
   "metadata": {},
   "outputs": [
    {
     "data": {
      "image/png": "[encoded data removed]"
     },
     "metadata": {},
     "output_type": "display_data"
    }
   ],
   "source": [
    "%%R -i loeuf\n",
    "\n",
    "loeuf_violin <- ggplot(na.omit(loeuf), aes(x=Multiple_phenotypes, y=oe_lof_upper)) + \n",
    "                geom_violin(fill='blue', alpha=0.25, trim=FALSE) + theme_bw() + \n",
    "                theme(axis.text = element_text(size = 10), axis.title =  element_text(size=14, face=\"bold\")) + \n",
    "                xlab('Genes associated with multiple phenotypes') + ylab('LOEUF') + theme_set(theme_gray(base_family = \"DejaVu\"))\n",
    "\n",
    "loeuf_violin <- loeuf_violin + geom_boxplot(width=0.1, outlier.shape = NA)\n",
    "\n",
    "loeuf_violin"
   ]
  },
  {
   "cell_type": "code",
   "execution_count": 34,
   "id": "2f22ef8b",
   "metadata": {},
   "outputs": [
    {
     "name": "stdout",
     "output_type": "stream",
     "text": [
      "`summarise()` has grouped output by 'Multiple_phenotypes'. You can override\n",
      "using the `.groups` argument.\n"
     ]
    }
   ],
   "source": [
    "%%R\n",
    "\n",
    "# count\n",
    "loeuf_dec <- na.omit(loeuf)%>%\n",
    "  group_by(Multiple_phenotypes, oe_lof_upper_bin) %>%\n",
    "  summarize(count = n()) %>%\n",
    "  mutate(prop = (count/sum(count)))\n",
    "\n",
    "head(loeuf_dec)\n",
    "#write.csv(loeuf_dec, './loeuf_dec_hpo.csv', sep='\\t', quote=FALSE)"
   ]
  },
  {
   "cell_type": "code",
   "execution_count": 35,
   "id": "1d61e064",
   "metadata": {},
   "outputs": [
    {
     "data": {
      "image/png": "[encoded data removed]"
     },
     "metadata": {},
     "output_type": "display_data"
    }
   ],
   "source": [
    "%%R\n",
    "\n",
    "loeuf_dec_pl <- ggplot(na.omit(loeuf_dec), aes(x=as.factor(oe_lof_upper_bin), y=prop)) + geom_bar(stat='identity')+\n",
    " geom_bar(position=\"stack\", stat=\"identity\", fill='blue', alpha=0.4)+\n",
    "    theme_bw() + \n",
    "    theme(axis.text = element_text(size = 12), axis.title =  element_text(size=14), \n",
    "    legend.text=element_text(size=10)) + \n",
    "    xlab('LOEUF decile') +  \n",
    "    ylab(NULL) + \n",
    "    scale_y_continuous(labels = percent_format()) + theme_set(theme_gray(base_family = \"DejaVu\"))\n",
    "\n",
    "genes.labs <- c(\"Genes with \\n 1 associated disease\", \"Genes with \\n 2+ associated diseases\")\n",
    "names(genes.labs) <- c(\"FALSE\", \"TRUE\")\n",
    "                      \n",
    "loeuf_dec_pl <- loeuf_dec_pl + facet_grid(. ~ Multiple_phenotypes, labeller = labeller(Multiple_phenotypes = genes.labs)) + \n",
    "                theme(strip.text.x = element_text(size = 12, face = \"bold\")) \n",
    "\n",
    "loeuf_dec_pl"
   ]
  },
  {
   "cell_type": "markdown",
   "id": "1fe8cf82",
   "metadata": {},
   "source": [
    "## Count number of HPO terms  per gene"
   ]
  },
  {
   "cell_type": "code",
   "execution_count": 37,
   "id": "ad047d25",
   "metadata": {},
   "outputs": [
    {
     "name": "stdout",
     "output_type": "stream",
     "text": [
      "       HPO-id                   HPO label  entrez-gene-id    GENE  \\\n",
      "0  HP:0000002  Abnormality of body height            1280  COL2A1   \n",
      "1  HP:0000002  Abnormality of body height          155382  VPS37D   \n",
      "2  HP:0000002  Abnormality of body height            8200    GDF5   \n",
      "\n",
      "  Additional Info from G-D source G-D source disease-ID for link  \n",
      "0                             NaN  orphadata        ORPHA:166011  \n",
      "1                             NaN  orphadata           ORPHA:904  \n",
      "2                        question   mim2gene         OMIM:201250  \n",
      "(1117566, 7)\n"
     ]
    }
   ],
   "source": [
    "ph_gene = pd.read_csv('./data/phenotype_to_genes_mod.txt', sep='\\t')\n",
    "\n",
    "print(ph_gene.head(3))\n",
    "print(ph_gene.shape)"
   ]
  },
  {
   "cell_type": "code",
   "execution_count": 38,
   "id": "7532dfee",
   "metadata": {},
   "outputs": [
    {
     "data": {
      "text/plain": [
       "['HPO-id',\n",
       " 'HPO label',\n",
       " 'entrez-gene-id',\n",
       " 'GENE',\n",
       " 'Additional Info from G-D source',\n",
       " 'G-D source',\n",
       " 'disease-ID for link']"
      ]
     },
     "execution_count": 38,
     "metadata": {},
     "output_type": "execute_result"
    }
   ],
   "source": [
    "list(ph_gene)"
   ]
  },
  {
   "cell_type": "code",
   "execution_count": 39,
   "id": "fec80350",
   "metadata": {},
   "outputs": [
    {
     "data": {
      "text/plain": [
       "(3904, 1)"
      ]
     },
     "execution_count": 39,
     "metadata": {},
     "output_type": "execute_result"
    }
   ],
   "source": [
    "# select genes that are in df (hpo data)\n",
    "genes = gene_mim[['GENE']].drop_duplicates()\n",
    "genes.shape"
   ]
  },
  {
   "cell_type": "code",
   "execution_count": 40,
   "id": "3a0f5c19",
   "metadata": {},
   "outputs": [
    {
     "data": {
      "text/plain": [
       "(924384, 7)"
      ]
     },
     "execution_count": 40,
     "metadata": {},
     "output_type": "execute_result"
    }
   ],
   "source": [
    "ph_gene_flt = pd.merge(ph_gene, genes, on=['GENE'], how='inner')\n",
    "ph_gene_flt.shape"
   ]
  },
  {
   "cell_type": "code",
   "execution_count": 41,
   "id": "6f933aa7",
   "metadata": {},
   "outputs": [
    {
     "data": {
      "text/plain": [
       "(913156, 7)"
      ]
     },
     "execution_count": 41,
     "metadata": {},
     "output_type": "execute_result"
    }
   ],
   "source": [
    "# exclude HPO terms related to inheritance\n",
    "\n",
    "rm = ph_gene_flt['HPO-id'].isin(['HP:0000006', 'HP:0000007', 'HP:0001419', 'HP:0001423', 'HP:0001427', 'HP:0010984', 'HP:0010982','HP:0001426', 'HP:0001428', 'HP:0001442', 'HP:0034345'])\n",
    "ph_gene_flt = ph_gene_flt[~rm]\n",
    "ph_gene_flt.shape"
   ]
  },
  {
   "cell_type": "code",
   "execution_count": 42,
   "id": "57013dab",
   "metadata": {},
   "outputs": [
    {
     "data": {
      "text/html": [
       "<div>\n",
       "<style scoped>\n",
       "    .dataframe tbody tr th:only-of-type {\n",
       "        vertical-align: middle;\n",
       "    }\n",
       "\n",
       "    .dataframe tbody tr th {\n",
       "        vertical-align: top;\n",
       "    }\n",
       "\n",
       "    .dataframe thead th {\n",
       "        text-align: right;\n",
       "    }\n",
       "</style>\n",
       "<table border=\"1\" class=\"dataframe\">\n",
       "  <thead>\n",
       "    <tr style=\"text-align: right;\">\n",
       "      <th></th>\n",
       "      <th>GENE</th>\n",
       "      <th>Sum_HPO</th>\n",
       "    </tr>\n",
       "  </thead>\n",
       "  <tbody>\n",
       "    <tr>\n",
       "      <th>0</th>\n",
       "      <td>A4GALT</td>\n",
       "      <td>3</td>\n",
       "    </tr>\n",
       "    <tr>\n",
       "      <th>1</th>\n",
       "      <td>AAAS</td>\n",
       "      <td>241</td>\n",
       "    </tr>\n",
       "    <tr>\n",
       "      <th>2</th>\n",
       "      <td>AAGAB</td>\n",
       "      <td>134</td>\n",
       "    </tr>\n",
       "    <tr>\n",
       "      <th>3</th>\n",
       "      <td>AARS1</td>\n",
       "      <td>474</td>\n",
       "    </tr>\n",
       "    <tr>\n",
       "      <th>4</th>\n",
       "      <td>AARS2</td>\n",
       "      <td>137</td>\n",
       "    </tr>\n",
       "  </tbody>\n",
       "</table>\n",
       "</div>"
      ],
      "text/plain": [
       "     GENE  Sum_HPO\n",
       "0  A4GALT        3\n",
       "1    AAAS      241\n",
       "2   AAGAB      134\n",
       "3   AARS1      474\n",
       "4   AARS2      137"
      ]
     },
     "execution_count": 42,
     "metadata": {},
     "output_type": "execute_result"
    }
   ],
   "source": [
    "count_terms = ph_gene_flt[['GENE', 'HPO-id']]\n",
    "count_terms = count_terms.groupby(['GENE']).size().reset_index(name='Sum_HPO')\n",
    "count_terms.head()"
   ]
  },
  {
   "cell_type": "code",
   "execution_count": 43,
   "id": "93777417",
   "metadata": {},
   "outputs": [
    {
     "data": {
      "text/plain": [
       "(932, 1)"
      ]
     },
     "execution_count": 43,
     "metadata": {},
     "output_type": "execute_result"
    }
   ],
   "source": [
    "# hpo data\n",
    "genesMulPh = gene_mim[gene_mim['MIMs_per_Gene'] > 1]\n",
    "genesMulPh = genesMulPh[['GENE']].drop_duplicates()\n",
    "genesMulPh.shape"
   ]
  },
  {
   "cell_type": "code",
   "execution_count": 44,
   "id": "c54c667a",
   "metadata": {},
   "outputs": [
    {
     "data": {
      "text/plain": [
       "(3903, 3)"
      ]
     },
     "execution_count": 44,
     "metadata": {},
     "output_type": "execute_result"
    }
   ],
   "source": [
    "count_terms = pd.merge(count_terms, genesMulPh, on=['GENE'], how='left', indicator='MultiplePheno')\n",
    "count_terms['MultiplePheno'] = np.where(count_terms.MultiplePheno == 'both', True, False)\n",
    "count_terms.shape"
   ]
  },
  {
   "cell_type": "code",
   "execution_count": 45,
   "id": "add15af9",
   "metadata": {},
   "outputs": [
    {
     "data": {
      "text/html": [
       "<div>\n",
       "<style scoped>\n",
       "    .dataframe tbody tr th:only-of-type {\n",
       "        vertical-align: middle;\n",
       "    }\n",
       "\n",
       "    .dataframe tbody tr th {\n",
       "        vertical-align: top;\n",
       "    }\n",
       "\n",
       "    .dataframe thead th {\n",
       "        text-align: right;\n",
       "    }\n",
       "</style>\n",
       "<table border=\"1\" class=\"dataframe\">\n",
       "  <thead>\n",
       "    <tr style=\"text-align: right;\">\n",
       "      <th></th>\n",
       "      <th>GENE</th>\n",
       "      <th>Sum_HPO</th>\n",
       "      <th>MultiplePheno</th>\n",
       "    </tr>\n",
       "  </thead>\n",
       "  <tbody>\n",
       "    <tr>\n",
       "      <th>3898</th>\n",
       "      <td>ZP1</td>\n",
       "      <td>11</td>\n",
       "      <td>False</td>\n",
       "    </tr>\n",
       "    <tr>\n",
       "      <th>3899</th>\n",
       "      <td>ZP2</td>\n",
       "      <td>12</td>\n",
       "      <td>False</td>\n",
       "    </tr>\n",
       "    <tr>\n",
       "      <th>3900</th>\n",
       "      <td>ZP3</td>\n",
       "      <td>11</td>\n",
       "      <td>False</td>\n",
       "    </tr>\n",
       "    <tr>\n",
       "      <th>3901</th>\n",
       "      <td>ZSWIM6</td>\n",
       "      <td>450</td>\n",
       "      <td>True</td>\n",
       "    </tr>\n",
       "    <tr>\n",
       "      <th>3902</th>\n",
       "      <td>ZSWIM7</td>\n",
       "      <td>176</td>\n",
       "      <td>False</td>\n",
       "    </tr>\n",
       "  </tbody>\n",
       "</table>\n",
       "</div>"
      ],
      "text/plain": [
       "        GENE  Sum_HPO  MultiplePheno\n",
       "3898     ZP1       11          False\n",
       "3899     ZP2       12          False\n",
       "3900     ZP3       11          False\n",
       "3901  ZSWIM6      450           True\n",
       "3902  ZSWIM7      176          False"
      ]
     },
     "execution_count": 45,
     "metadata": {},
     "output_type": "execute_result"
    }
   ],
   "source": [
    "count_terms.tail()"
   ]
  },
  {
   "cell_type": "code",
   "execution_count": 50,
   "id": "8cb6046c",
   "metadata": {},
   "outputs": [],
   "source": [
    "count_terms.to_csv('./interm/count_hpo_terms_hpo_data.csv', sep='\\t', index=False)"
   ]
  },
  {
   "cell_type": "code",
   "execution_count": 46,
   "id": "a62f76fa",
   "metadata": {},
   "outputs": [
    {
     "data": {
      "image/png": "[encoded data removed]"
     },
     "metadata": {},
     "output_type": "display_data"
    }
   ],
   "source": [
    "%%R -i count_terms\n",
    "\n",
    "\n",
    "terms_v <- ggplot(count_terms, aes(x=MultiplePheno, y=Sum_HPO)) + geom_violin(fill='blue', alpha=0.25, trim=FALSE) + theme_bw() + theme(axis.text = element_text(size = 10), axis.title =  element_text(size=14, face=\"bold\")) + xlab('Genes associated with multiple phenotypes') + ylab('Sum of HPO terms per gene')\n",
    "terms_v <- terms_v + geom_boxplot(width=0.1, outlier.shape = NA) + theme_set(theme_gray(base_family = \"DejaVu\"))\n",
    "terms_v"
   ]
  },
  {
   "cell_type": "code",
   "execution_count": 47,
   "id": "cf6f17c0",
   "metadata": {},
   "outputs": [
    {
     "name": "stdout",
     "output_type": "stream",
     "text": [
      "\n",
      "\tWilcoxon rank sum test with continuity correction\n",
      "\n",
      "data:  count_terms$Sum_HPO[count_terms$MultiplePheno == \"FALSE\"] and count_terms$Sum_HPO[count_terms$MultiplePheno == \"TRUE\"]\n",
      "W = 599704, p-value < 2.2e-16\n",
      "alternative hypothesis: true location shift is not equal to 0\n",
      "\n"
     ]
    }
   ],
   "source": [
    "%%R -i count_terms\n",
    "\n",
    "wilcox.test(count_terms$Sum_HPO[count_terms$MultiplePheno == 'FALSE'], count_terms$Sum_HPO[count_terms$MultiplePheno == 'TRUE'])"
   ]
  },
  {
   "cell_type": "code",
   "execution_count": 86,
   "id": "fba3d079",
   "metadata": {},
   "outputs": [
    {
     "name": "stdout",
     "output_type": "stream",
     "text": [
      "`stat_bin()` using `bins = 30`. Pick better value with `binwidth`.\n"
     ]
    },
    {
     "data": {
      "image/png": "[encoded data removed]"
     },
     "metadata": {},
     "output_type": "display_data"
    }
   ],
   "source": [
    "%%R \n",
    "\n",
    "hist_hpo <- ggplot(count_terms, aes(x=Sum_HPO, fill=MultiplePheno)) + geom_histogram(alpha=0.7, position=\"identity\") + theme_bw()+ theme(axis.text = element_text(size = 10), axis.title =  element_text(size=14, face=\"bold\")) + xlab('Sum of HPO terms per gene') + ylab('Genes')\n",
    "hist_hpo <- hist_hpo + theme(legend.position = c(0.8, 0.8), legend.title = element_text(colour=\"black\", size=16,face=\"bold\"),  legend.text = element_text(colour=\"black\", size=14)) + theme_set(theme_gray(base_family = \"DejaVu\"))\n",
    "hist_hpo"
   ]
  },
  {
   "cell_type": "markdown",
   "id": "91aed2b2",
   "metadata": {},
   "source": [
    "## Enrichment analysis "
   ]
  },
  {
   "cell_type": "markdown",
   "id": "5011bc5f",
   "metadata": {},
   "source": [
    "### collect genes with 2+ asscoiated diseases"
   ]
  },
  {
   "cell_type": "code",
   "execution_count": 53,
   "id": "846f2732",
   "metadata": {},
   "outputs": [],
   "source": [
    "ensembl_id = pd.read_csv('./mimgenes.txt', sep='\\t')\n",
    "gene_mim = gene_mim.merge(ensembl_id, left_on=['GENE'], right_on=['Approved Gene Symbol (HGNC)'], how='inner')\n",
    "gene_mim = gene_mim.drop(columns=['Approved Gene Symbol (HGNC)'])"
   ]
  },
  {
   "cell_type": "code",
   "execution_count": 55,
   "id": "01fbecca",
   "metadata": {},
   "outputs": [],
   "source": [
    "# List of genes with multiple associated phenotypes for Enrichment Analysis\n",
    "\n",
    "genesmultipheno_for_EA = gene_mim[gene_mim['MIMs_per_Gene'] > 1]\n",
    "genesmultipheno_for_EA = genesmultipheno_for_EA[['GENE', 'Ensembl']].drop_duplicates()\n",
    "genesmultipheno_for_EA.to_csv('./interm/GeneMultiPheno_ensg_for_EA_hpo_data.csv', sep='\\t', index=False)"
   ]
  },
  {
   "cell_type": "code",
   "execution_count": 56,
   "id": "ab17278b",
   "metadata": {},
   "outputs": [
    {
     "name": "stdout",
     "output_type": "stream",
     "text": [
      "[1] 931\n"
     ]
    }
   ],
   "source": [
    "%%R -i genesmultipheno_for_EA\n",
    "\n",
    "mgene <- unique(genesmultipheno_for_EA$Ensembl)\n",
    "length(mgene)"
   ]
  },
  {
   "cell_type": "code",
   "execution_count": 65,
   "id": "13d6a45f",
   "metadata": {},
   "outputs": [
    {
     "data": {
      "text/plain": [
       "3900"
      ]
     },
     "execution_count": 65,
     "metadata": {},
     "output_type": "execute_result"
    }
   ],
   "source": [
    "# set universe as all genes from dataframe\n",
    "\n",
    "universe = gene_mim[['Ensembl']].drop_duplicates()\n",
    "universe.to_csv('./interm/df_genelist_hpo_data.csv', sep='\\t', index=False)\n",
    "universe.shape[0]"
   ]
  },
  {
   "cell_type": "markdown",
   "id": "90b58d75",
   "metadata": {},
   "source": [
    "### C2.Canonical Pathways collection "
   ]
  },
  {
   "cell_type": "code",
   "execution_count": 60,
   "id": "1e28c567",
   "metadata": {},
   "outputs": [
    {
     "name": "stdout",
     "output_type": "stream",
     "text": [
      "[1] 130371\n",
      "[1] 33699\n"
     ]
    }
   ],
   "source": [
    "%%R -i universe\n",
    "\n",
    "### load collection\n",
    "C2.CP <- as.data.frame(msigdbr(species = \"Homo sapiens\", \n",
    "                               category = \"C2\",\n",
    "                               subcategory = \"CP:BIOCARTA\")) %>% \n",
    "  bind_rows(as.data.frame(msigdbr(species = \"Homo sapiens\", \n",
    "                                  category = \"C2\",\n",
    "                                  subcategory = \"CP:KEGG\"))) %>% \n",
    "  bind_rows(as.data.frame(msigdbr(species = \"Homo sapiens\", \n",
    "                                  category = \"C2\",\n",
    "                                  subcategory = \"CP:PID\"))) %>% \n",
    "  bind_rows(as.data.frame(msigdbr(species = \"Homo sapiens\", \n",
    "                                  category = \"C2\",\n",
    "                                  subcategory = \"CP:REACTOME\")))\n",
    "\n",
    "\n",
    "## subset collection based on OMIM genes for enrichment\n",
    "\n",
    "C2.CP <- C2.CP %>% \n",
    "  dplyr::select(gs_name, ensembl_gene)\n",
    "\n",
    "C2CP_t2g <-C2.CP %>%\n",
    "  filter(ensembl_gene %in% universe$Ensembl)\n",
    "\n",
    "print(nrow(C2.CP))\n",
    "print(nrow(C2CP_t2g))"
   ]
  },
  {
   "cell_type": "code",
   "execution_count": 61,
   "id": "778aba37",
   "metadata": {},
   "outputs": [
    {
     "data": {
      "image/png": "[encoded data removed]"
     },
     "metadata": {},
     "output_type": "display_data"
    }
   ],
   "source": [
    "%%R\n",
    "\n",
    "mres_C2CP <- enricher(mgene, TERM2GENE = C2CP_t2g)\n",
    "\n",
    "dotplot(mres_C2CP, showCategory = 20,font.size = 7)+ ggtitle(' Genes with 2+ associated diseases \\n C2:СР')"
   ]
  },
  {
   "cell_type": "markdown",
   "id": "21204154",
   "metadata": {},
   "source": [
    "### C5.HPO collection"
   ]
  },
  {
   "cell_type": "code",
   "execution_count": 62,
   "id": "7fc80ffb",
   "metadata": {},
   "outputs": [
    {
     "name": "stdout",
     "output_type": "stream",
     "text": [
      "[1] 464649\n",
      "[1] 337013\n"
     ]
    }
   ],
   "source": [
    "%%R -i universe\n",
    "\n",
    "C5.HPO <- msigdbr(species = \"Homo sapiens\", category = \"C5\", subcategory = \"HPO\")\n",
    "\n",
    "HPO <- C5.HPO %>% \n",
    "  dplyr::select(gs_name, ensembl_gene)\n",
    "\n",
    "C5HPO_t2g <-HPO %>%\n",
    "  filter(ensembl_gene %in% universe$Ensembl)\n",
    "\n",
    "print(nrow(HPO))\n",
    "print(nrow(C5HPO_t2g))"
   ]
  },
  {
   "cell_type": "code",
   "execution_count": 63,
   "id": "cdd2a76b",
   "metadata": {},
   "outputs": [
    {
     "data": {
      "image/png": "[encoded data removed]"
     },
     "metadata": {},
     "output_type": "display_data"
    }
   ],
   "source": [
    "%%R\n",
    "\n",
    "mres_C5 <- enricher(mgene, TERM2GENE = C5HPO_t2g)\n",
    "\n",
    "dotplot(mres_C5, showCategory = 20,font.size = 7) + ggtitle(' Genes with 2+ associated diseases \\n C5:HPO')\n"
   ]
  }
 ],
 "metadata": {
  "kernelspec": {
   "display_name": "Python 3 (ipykernel)",
   "language": "python",
   "name": "python3"
  },
  "language_info": {
   "codemirror_mode": {
    "name": "ipython",
    "version": 3
   },
   "file_extension": ".py",
   "mimetype": "text/x-python",
   "name": "python",
   "nbconvert_exporter": "python",
   "pygments_lexer": "ipython3",
   "version": "3.9.13"
  }
 },
 "nbformat": 4,
 "nbformat_minor": 5
}
