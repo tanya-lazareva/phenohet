{
 "cells": [
  {
   "cell_type": "markdown",
   "id": "509fe4fe",
   "metadata": {},
   "source": [
    "# Features of genes associated with 2 monogenic disorders"
   ]
  },
  {
   "cell_type": "raw",
   "id": "ad78fbaf",
   "metadata": {},
   "source": [
    "1. Library\n",
    "2. Statistics\n",
    "3. Inheritance pattern\n",
    "4. Distribution of variants with 2 associated phenotypes \n",
    "5. Variants distribution among protein domain boundaries\n",
    "6. Analysis of variant localization within coding region and variant types proportion\n",
    " 6.1 Subset df\n",
    " 6.2 Count variants associated with different diseases linked to one common gene\n",
    " 6.3 Fisher's exact tests\n",
    "7. Collect all obtained data about GMDs linked to 2 exact diseases\n",
    "8. Plots\n",
    "  8.1 Variant localization/type - Inheritance pattern\n",
    "  8.2 Variant localization/type - pLI"
   ]
  },
  {
   "cell_type": "markdown",
   "id": "6e950a57",
   "metadata": {},
   "source": [
    "# Library"
   ]
  },
  {
   "cell_type": "code",
   "execution_count": 1,
   "id": "df59d570",
   "metadata": {},
   "outputs": [],
   "source": [
    "import pandas as pd\n",
    "import numpy as np\n",
    "import seaborn as sns\n",
    "import matplotlib.pyplot as plt\n",
    "import rpy2\n",
    "\n",
    "import argparse\n",
    "import subprocess\n",
    "import maths\n",
    "import csv\n",
    "\n",
    "from pyhpo import HPOSet, Ontology\n",
    "from pybedtools import BedTool\n",
    "from itertools import zip_longest"
   ]
  },
  {
   "cell_type": "code",
   "execution_count": 2,
   "id": "d4579260",
   "metadata": {},
   "outputs": [],
   "source": [
    "%load_ext rpy2.ipython\n",
    "#%reload_ext rpy2.ipython"
   ]
  },
  {
   "cell_type": "code",
   "execution_count": 3,
   "id": "582b5c2c",
   "metadata": {},
   "outputs": [
    {
     "name": "stderr",
     "output_type": "stream",
     "text": [
      "R[write to console]: \n",
      "Присоединяю пакет: ‘dplyr’\n",
      "\n",
      "\n",
      "R[write to console]: Следующие объекты скрыты от ‘package:stats’:\n",
      "\n",
      "    filter, lag\n",
      "\n",
      "\n",
      "R[write to console]: Следующие объекты скрыты от ‘package:base’:\n",
      "\n",
      "    intersect, setdiff, setequal, union\n",
      "\n",
      "\n",
      "R[write to console]: ── Attaching packages ─────────────────────────────────────── tidyverse 1.3.1 ──\n",
      "\n",
      "R[write to console]: ✔ tibble  3.2.1     ✔ stringr 1.4.0\n",
      "✔ readr   2.1.2     ✔ forcats 1.0.0\n",
      "✔ purrr   0.3.4     \n",
      "\n",
      "R[write to console]: ── Conflicts ────────────────────────────────────────── tidyverse_conflicts() ──\n",
      "✖ readr::col_factor() masks scales::col_factor()\n",
      "✖ purrr::discard()    masks scales::discard()\n",
      "✖ dplyr::filter()     masks stats::filter()\n",
      "✖ dplyr::lag()        masks stats::lag()\n",
      "\n"
     ]
    }
   ],
   "source": [
    "%%R\n",
    "library(dplyr)\n",
    "library(tidyr)\n",
    "library(ggplot2)\n",
    "library(scales)\n",
    "library(qqman)\n",
    "library(hexbin)\n",
    "library(RColorBrewer)\n",
    "library(enrichplot)\n",
    "library(clusterProfiler)\n",
    "library(msigdbr)\n",
    "library(gridExtra)\n",
    "library(tidyverse)"
   ]
  },
  {
   "cell_type": "markdown",
   "id": "1525772c",
   "metadata": {},
   "source": [
    "# Load data and select genes linked to exactly 2 monogenic diseases"
   ]
  },
  {
   "cell_type": "code",
   "execution_count": 4,
   "id": "c5d1ac89",
   "metadata": {},
   "outputs": [
    {
     "data": {
      "text/html": [
       "<div>\n",
       "<style scoped>\n",
       "    .dataframe tbody tr th:only-of-type {\n",
       "        vertical-align: middle;\n",
       "    }\n",
       "\n",
       "    .dataframe tbody tr th {\n",
       "        vertical-align: top;\n",
       "    }\n",
       "\n",
       "    .dataframe thead th {\n",
       "        text-align: right;\n",
       "    }\n",
       "</style>\n",
       "<table border=\"1\" class=\"dataframe\">\n",
       "  <thead>\n",
       "    <tr style=\"text-align: right;\">\n",
       "      <th></th>\n",
       "      <th>CHROM</th>\n",
       "      <th>POS</th>\n",
       "      <th>ID</th>\n",
       "      <th>REF</th>\n",
       "      <th>ALT</th>\n",
       "      <th>QUAL</th>\n",
       "      <th>FILTER</th>\n",
       "      <th>AF_EXAC</th>\n",
       "      <th>CLNREVSTAT</th>\n",
       "      <th>CLNSIG</th>\n",
       "      <th>CLNVC</th>\n",
       "      <th>GENEINFO</th>\n",
       "      <th>OMIM</th>\n",
       "      <th>ORPHA</th>\n",
       "      <th>ncbi_gene_id</th>\n",
       "      <th>Inheritance</th>\n",
       "      <th>Ensembl</th>\n",
       "      <th>MIMs_per_Gene</th>\n",
       "    </tr>\n",
       "  </thead>\n",
       "  <tbody>\n",
       "    <tr>\n",
       "      <th>0</th>\n",
       "      <td>chr1</td>\n",
       "      <td>1013983</td>\n",
       "      <td>1028857</td>\n",
       "      <td>G</td>\n",
       "      <td>A</td>\n",
       "      <td>-10.0</td>\n",
       "      <td>PASS</td>\n",
       "      <td>NaN</td>\n",
       "      <td>criteria_provided,_single_submitter</td>\n",
       "      <td>Pathogenic</td>\n",
       "      <td>single_nucleotide_variant</td>\n",
       "      <td>ISG15</td>\n",
       "      <td>OMIM:616126</td>\n",
       "      <td>Orphanet:319563</td>\n",
       "      <td>9636</td>\n",
       "      <td>AR</td>\n",
       "      <td>ENSG00000187608</td>\n",
       "      <td>1</td>\n",
       "    </tr>\n",
       "    <tr>\n",
       "      <th>1</th>\n",
       "      <td>chr1</td>\n",
       "      <td>1014143</td>\n",
       "      <td>183381</td>\n",
       "      <td>C</td>\n",
       "      <td>T</td>\n",
       "      <td>-10.0</td>\n",
       "      <td>PASS</td>\n",
       "      <td>NaN</td>\n",
       "      <td>no_assertion_criteria_provided</td>\n",
       "      <td>Pathogenic</td>\n",
       "      <td>single_nucleotide_variant</td>\n",
       "      <td>ISG15</td>\n",
       "      <td>OMIM:616126</td>\n",
       "      <td>Orphanet:319563</td>\n",
       "      <td>9636</td>\n",
       "      <td>AR</td>\n",
       "      <td>ENSG00000187608</td>\n",
       "      <td>1</td>\n",
       "    </tr>\n",
       "    <tr>\n",
       "      <th>2</th>\n",
       "      <td>chr1</td>\n",
       "      <td>1014316</td>\n",
       "      <td>161455</td>\n",
       "      <td>C</td>\n",
       "      <td>CG</td>\n",
       "      <td>-10.0</td>\n",
       "      <td>PASS</td>\n",
       "      <td>NaN</td>\n",
       "      <td>no_assertion_criteria_provided</td>\n",
       "      <td>Pathogenic</td>\n",
       "      <td>Duplication</td>\n",
       "      <td>ISG15</td>\n",
       "      <td>OMIM:616126</td>\n",
       "      <td>Orphanet:319563</td>\n",
       "      <td>9636</td>\n",
       "      <td>AR</td>\n",
       "      <td>ENSG00000187608</td>\n",
       "      <td>1</td>\n",
       "    </tr>\n",
       "  </tbody>\n",
       "</table>\n",
       "</div>"
      ],
      "text/plain": [
       "  CHROM      POS       ID REF ALT  QUAL FILTER  AF_EXAC  \\\n",
       "0  chr1  1013983  1028857   G   A -10.0   PASS      NaN   \n",
       "1  chr1  1014143   183381   C   T -10.0   PASS      NaN   \n",
       "2  chr1  1014316   161455   C  CG -10.0   PASS      NaN   \n",
       "\n",
       "                            CLNREVSTAT      CLNSIG                      CLNVC  \\\n",
       "0  criteria_provided,_single_submitter  Pathogenic  single_nucleotide_variant   \n",
       "1       no_assertion_criteria_provided  Pathogenic  single_nucleotide_variant   \n",
       "2       no_assertion_criteria_provided  Pathogenic                Duplication   \n",
       "\n",
       "  GENEINFO         OMIM            ORPHA  ncbi_gene_id Inheritance  \\\n",
       "0    ISG15  OMIM:616126  Orphanet:319563          9636          AR   \n",
       "1    ISG15  OMIM:616126  Orphanet:319563          9636          AR   \n",
       "2    ISG15  OMIM:616126  Orphanet:319563          9636          AR   \n",
       "\n",
       "           Ensembl  MIMs_per_Gene  \n",
       "0  ENSG00000187608              1  \n",
       "1  ENSG00000187608              1  \n",
       "2  ENSG00000187608              1  "
      ]
     },
     "execution_count": 4,
     "metadata": {},
     "output_type": "execute_result"
    }
   ],
   "source": [
    "df_m = pd.read_csv('clinvar_grch38_plp_hpo_MIMcount.csv', sep='\\t')\n",
    "df_m.head(3)"
   ]
  },
  {
   "cell_type": "code",
   "execution_count": 5,
   "id": "f9c4800b",
   "metadata": {},
   "outputs": [
    {
     "name": "stdout",
     "output_type": "stream",
     "text": [
      "N of genes associated with 2 diseases: 670\n"
     ]
    }
   ],
   "source": [
    "# Subset and count genes with 2 associated diseases\n",
    "\n",
    "df_2dis = df_m[df_m['MIMs_per_Gene'] == 2]\n",
    "print('N of genes associated with 2 diseases:',df_2dis['GENEINFO'].drop_duplicates().shape[0])"
   ]
  },
  {
   "cell_type": "markdown",
   "id": "2516904e",
   "metadata": {},
   "source": [
    "## Distribution of inheritance patterns of 2 diseases linked to one gene"
   ]
  },
  {
   "cell_type": "code",
   "execution_count": 14,
   "id": "c11d68d5",
   "metadata": {
    "scrolled": true
   },
   "outputs": [],
   "source": [
    "df_2dis = df_m[df_m['MIMs_per_Gene'] == 2]"
   ]
  },
  {
   "cell_type": "code",
   "execution_count": 15,
   "id": "a601f1ff",
   "metadata": {
    "scrolled": true
   },
   "outputs": [
    {
     "data": {
      "text/html": [
       "<div>\n",
       "<style scoped>\n",
       "    .dataframe tbody tr th:only-of-type {\n",
       "        vertical-align: middle;\n",
       "    }\n",
       "\n",
       "    .dataframe tbody tr th {\n",
       "        vertical-align: top;\n",
       "    }\n",
       "\n",
       "    .dataframe thead th {\n",
       "        text-align: right;\n",
       "    }\n",
       "</style>\n",
       "<table border=\"1\" class=\"dataframe\">\n",
       "  <thead>\n",
       "    <tr style=\"text-align: right;\">\n",
       "      <th></th>\n",
       "      <th>GENEINFO</th>\n",
       "      <th>Ensembl</th>\n",
       "      <th>OMIM</th>\n",
       "      <th>Inheritance</th>\n",
       "    </tr>\n",
       "  </thead>\n",
       "  <tbody>\n",
       "    <tr>\n",
       "      <th>65</th>\n",
       "      <td>DVL1</td>\n",
       "      <td>ENSG00000107404</td>\n",
       "      <td>OMIM:616331</td>\n",
       "      <td>AD</td>\n",
       "    </tr>\n",
       "    <tr>\n",
       "      <th>83</th>\n",
       "      <td>DVL1</td>\n",
       "      <td>ENSG00000107404</td>\n",
       "      <td>OMIM:180700</td>\n",
       "      <td>AD</td>\n",
       "    </tr>\n",
       "    <tr>\n",
       "      <th>92</th>\n",
       "      <td>ATAD3A</td>\n",
       "      <td>ENSG00000197785</td>\n",
       "      <td>OMIM:618810</td>\n",
       "      <td>AR</td>\n",
       "    </tr>\n",
       "    <tr>\n",
       "      <th>96</th>\n",
       "      <td>ATAD3A</td>\n",
       "      <td>ENSG00000197785</td>\n",
       "      <td>OMIM:617183</td>\n",
       "      <td>ADAR</td>\n",
       "    </tr>\n",
       "    <tr>\n",
       "      <th>167</th>\n",
       "      <td>PEX10</td>\n",
       "      <td>ENSG00000157911</td>\n",
       "      <td>OMIM:614870</td>\n",
       "      <td>AR</td>\n",
       "    </tr>\n",
       "    <tr>\n",
       "      <th>...</th>\n",
       "      <td>...</td>\n",
       "      <td>...</td>\n",
       "      <td>...</td>\n",
       "      <td>...</td>\n",
       "    </tr>\n",
       "    <tr>\n",
       "      <th>154764</th>\n",
       "      <td>OPN1MW</td>\n",
       "      <td>ENSG00000268221</td>\n",
       "      <td>OMIM:303700</td>\n",
       "      <td>XL</td>\n",
       "    </tr>\n",
       "    <tr>\n",
       "      <th>155476</th>\n",
       "      <td>F8</td>\n",
       "      <td>ENSG00000185010</td>\n",
       "      <td>OMIM:306700</td>\n",
       "      <td>XL</td>\n",
       "    </tr>\n",
       "    <tr>\n",
       "      <th>155875</th>\n",
       "      <td>F8</td>\n",
       "      <td>ENSG00000185010</td>\n",
       "      <td>OMIM:301071</td>\n",
       "      <td>XL</td>\n",
       "    </tr>\n",
       "    <tr>\n",
       "      <th>155902</th>\n",
       "      <td>RAB39B</td>\n",
       "      <td>ENSG00000155961</td>\n",
       "      <td>OMIM:311510</td>\n",
       "      <td>XL</td>\n",
       "    </tr>\n",
       "    <tr>\n",
       "      <th>155905</th>\n",
       "      <td>RAB39B</td>\n",
       "      <td>ENSG00000155961</td>\n",
       "      <td>OMIM:300271</td>\n",
       "      <td>XL</td>\n",
       "    </tr>\n",
       "  </tbody>\n",
       "</table>\n",
       "<p>1340 rows × 4 columns</p>\n",
       "</div>"
      ],
      "text/plain": [
       "       GENEINFO          Ensembl         OMIM Inheritance\n",
       "65         DVL1  ENSG00000107404  OMIM:616331          AD\n",
       "83         DVL1  ENSG00000107404  OMIM:180700          AD\n",
       "92       ATAD3A  ENSG00000197785  OMIM:618810          AR\n",
       "96       ATAD3A  ENSG00000197785  OMIM:617183        ADAR\n",
       "167       PEX10  ENSG00000157911  OMIM:614870          AR\n",
       "...         ...              ...          ...         ...\n",
       "154764   OPN1MW  ENSG00000268221  OMIM:303700          XL\n",
       "155476       F8  ENSG00000185010  OMIM:306700          XL\n",
       "155875       F8  ENSG00000185010  OMIM:301071          XL\n",
       "155902   RAB39B  ENSG00000155961  OMIM:311510          XL\n",
       "155905   RAB39B  ENSG00000155961  OMIM:300271          XL\n",
       "\n",
       "[1340 rows x 4 columns]"
      ]
     },
     "execution_count": 15,
     "metadata": {},
     "output_type": "execute_result"
    }
   ],
   "source": [
    "g2ph_list = df_2dis[['GENEINFO','Ensembl','OMIM', 'Inheritance']].drop_duplicates()\n",
    "\n",
    "# rm rows wo inheritance data\n",
    "g2ph_list = g2ph_list[g2ph_list['Inheritance'].notna()]\n",
    "g2ph_list = g2ph_list.loc[g2ph_list.duplicated(subset='GENEINFO', keep=False)]\n",
    "g2ph_list"
   ]
  },
  {
   "cell_type": "code",
   "execution_count": 16,
   "id": "fcdc4406",
   "metadata": {},
   "outputs": [],
   "source": [
    "inh_class = g2ph_list.groupby(['GENEINFO', 'Ensembl', 'Inheritance']).size().reset_index(name='class')"
   ]
  },
  {
   "cell_type": "code",
   "execution_count": 17,
   "id": "f27d1986",
   "metadata": {},
   "outputs": [],
   "source": [
    "def compute_class(df):    \n",
    "    \n",
    "    if (df['class'] == 2) & (df['Inheritance'] == 'AR'):\n",
    "        return '2AR'\n",
    "    \n",
    "    elif (df['class'] == 2) & (df['Inheritance'] == 'AD'):\n",
    "        return '2AD'\n",
    "    \n",
    "    elif (df['class'] == 2) & (df['Inheritance'] == 'XL'):\n",
    "        return '2XL'\n",
    "    \n",
    "    elif (df['class'] == 2) & (df['Inheritance'] == 'YL'):\n",
    "        return '2YL'\n",
    "    \n",
    "    elif df['GENEINFO'] == 'SRY':\n",
    "        return 'YL'\n",
    "    \n",
    "    elif ((df['class'] == 1) & (df['GENEINFO'] != 'SRY')) | (df['Inheritance'] == 'ADAR'):\n",
    "        return 'ADAR'\n",
    "    \n",
    "    else:\n",
    "        return 'NA'"
   ]
  },
  {
   "cell_type": "code",
   "execution_count": 18,
   "id": "9f98e052",
   "metadata": {},
   "outputs": [],
   "source": [
    "inh_class['Inh_class'] = inh_class.apply(compute_class, axis = 1)\n",
    "inh_class = inh_class.drop(columns=['class'])"
   ]
  },
  {
   "cell_type": "code",
   "execution_count": 19,
   "id": "1cec119b",
   "metadata": {},
   "outputs": [],
   "source": [
    "inh_class.to_csv('Gene2Pheno_Inh_test.csv', sep='\\t', index=False)"
   ]
  },
  {
   "cell_type": "code",
   "execution_count": 20,
   "id": "bf30ebb2",
   "metadata": {},
   "outputs": [],
   "source": [
    "# Plot\n",
    "inh_dat = inh_class[['GENEINFO','Ensembl', 'Inh_class']].drop_duplicates()\n",
    "inh_dat.to_csv('Gene2Pheno_Inh.csv', sep='\\t', index=False)"
   ]
  },
  {
   "cell_type": "code",
   "execution_count": 21,
   "id": "a13707c9",
   "metadata": {},
   "outputs": [
    {
     "name": "stdout",
     "output_type": "stream",
     "text": [
      "  Var1 Freq\n",
      "1  2AD  181\n",
      "2  2AR  217\n",
      "3  2XL   34\n",
      "4 ADAR  237\n"
     ]
    }
   ],
   "source": [
    "%%R -i inh_dat \n",
    "\n",
    "inh_dat <- as.data.frame(table(inh_dat$Inh_class))\n",
    "inh_dat"
   ]
  },
  {
   "cell_type": "code",
   "execution_count": 22,
   "id": "25094fe0",
   "metadata": {
    "scrolled": true
   },
   "outputs": [
    {
     "data": {
      "image/png": "[encoded data removed]",
      "text/plain": [
       "<IPython.core.display.Image object>"
      ]
     },
     "metadata": {},
     "output_type": "display_data"
    }
   ],
   "source": [
    "%%R\n",
    "\n",
    "inh_pl <- ggplot(inh_dat, aes(x=Var1, y=Freq)) + geom_bar(stat = 'identity', fill='blue', alpha=0.5) + theme_bw() + theme(axis.text = element_text(size = 10), axis.title =  element_text(size=14)) + xlab('Inheritance combinations of 2 syndromes') + ylab('Frequency')\n",
    "inh_pl"
   ]
  },
  {
   "cell_type": "markdown",
   "id": "aa248d9c",
   "metadata": {},
   "source": [
    "## Distribution of variants with 2 annotated diseases"
   ]
  },
  {
   "cell_type": "code",
   "execution_count": 17,
   "id": "78fa0fd4",
   "metadata": {},
   "outputs": [
    {
     "data": {
      "text/html": [
       "<div>\n",
       "<style scoped>\n",
       "    .dataframe tbody tr th:only-of-type {\n",
       "        vertical-align: middle;\n",
       "    }\n",
       "\n",
       "    .dataframe tbody tr th {\n",
       "        vertical-align: top;\n",
       "    }\n",
       "\n",
       "    .dataframe thead th {\n",
       "        text-align: right;\n",
       "    }\n",
       "</style>\n",
       "<table border=\"1\" class=\"dataframe\">\n",
       "  <thead>\n",
       "    <tr style=\"text-align: right;\">\n",
       "      <th></th>\n",
       "      <th>MIMs_per_Gene</th>\n",
       "      <th>GENEINFO</th>\n",
       "      <th>Variants_with_MultiMIMs</th>\n",
       "      <th>N_variants</th>\n",
       "      <th>Percent</th>\n",
       "    </tr>\n",
       "  </thead>\n",
       "  <tbody>\n",
       "    <tr>\n",
       "      <th>0</th>\n",
       "      <td>2</td>\n",
       "      <td>ABCA1</td>\n",
       "      <td>1</td>\n",
       "      <td>20</td>\n",
       "      <td>95.238095</td>\n",
       "    </tr>\n",
       "    <tr>\n",
       "      <th>1</th>\n",
       "      <td>2</td>\n",
       "      <td>ABCA1</td>\n",
       "      <td>2</td>\n",
       "      <td>1</td>\n",
       "      <td>4.761905</td>\n",
       "    </tr>\n",
       "  </tbody>\n",
       "</table>\n",
       "</div>"
      ],
      "text/plain": [
       "   MIMs_per_Gene GENEINFO  Variants_with_MultiMIMs  N_variants    Percent\n",
       "0              2    ABCA1                        1          20  95.238095\n",
       "1              2    ABCA1                        2           1   4.761905"
      ]
     },
     "execution_count": 17,
     "metadata": {},
     "output_type": "execute_result"
    }
   ],
   "source": [
    "sumvarpheno = pd.read_csv('SumVarPheno.csv', sep='\\t')\n",
    "sumvarpheno.head(2)"
   ]
  },
  {
   "cell_type": "code",
   "execution_count": 18,
   "id": "491b4834",
   "metadata": {},
   "outputs": [
    {
     "data": {
      "text/plain": [
       "(2195, 5)"
      ]
     },
     "execution_count": 18,
     "metadata": {},
     "output_type": "execute_result"
    }
   ],
   "source": [
    "sumvarpheno.shape"
   ]
  },
  {
   "cell_type": "code",
   "execution_count": 19,
   "id": "c97eacf4",
   "metadata": {},
   "outputs": [
    {
     "data": {
      "text/plain": [
       "(670, 5)"
      ]
     },
     "execution_count": 19,
     "metadata": {},
     "output_type": "execute_result"
    }
   ],
   "source": [
    "sumvarpheno[sumvarpheno['MIMs_per_Gene'] ==2].drop_duplicates(['GENEINFO']).shape"
   ]
  },
  {
   "cell_type": "code",
   "execution_count": 20,
   "id": "8b7c16d8",
   "metadata": {
    "scrolled": true
   },
   "outputs": [
    {
     "data": {
      "text/html": [
       "<div>\n",
       "<style scoped>\n",
       "    .dataframe tbody tr th:only-of-type {\n",
       "        vertical-align: middle;\n",
       "    }\n",
       "\n",
       "    .dataframe tbody tr th {\n",
       "        vertical-align: top;\n",
       "    }\n",
       "\n",
       "    .dataframe thead th {\n",
       "        text-align: right;\n",
       "    }\n",
       "</style>\n",
       "<table border=\"1\" class=\"dataframe\">\n",
       "  <thead>\n",
       "    <tr style=\"text-align: right;\">\n",
       "      <th></th>\n",
       "      <th>GENEINFO</th>\n",
       "      <th>Ensembl</th>\n",
       "      <th>Inheritance</th>\n",
       "      <th>Inh_class</th>\n",
       "    </tr>\n",
       "  </thead>\n",
       "  <tbody>\n",
       "    <tr>\n",
       "      <th>0</th>\n",
       "      <td>ABCA1</td>\n",
       "      <td>ENSG00000165029</td>\n",
       "      <td>AD</td>\n",
       "      <td>ADAR</td>\n",
       "    </tr>\n",
       "    <tr>\n",
       "      <th>1</th>\n",
       "      <td>ABCA1</td>\n",
       "      <td>ENSG00000165029</td>\n",
       "      <td>AR</td>\n",
       "      <td>ADAR</td>\n",
       "    </tr>\n",
       "  </tbody>\n",
       "</table>\n",
       "</div>"
      ],
      "text/plain": [
       "  GENEINFO          Ensembl Inheritance Inh_class\n",
       "0    ABCA1  ENSG00000165029          AD      ADAR\n",
       "1    ABCA1  ENSG00000165029          AR      ADAR"
      ]
     },
     "execution_count": 20,
     "metadata": {},
     "output_type": "execute_result"
    }
   ],
   "source": [
    "inh_class = pd.read_csv('Gene2Pheno_Inh_test.csv', sep='\\t')\n",
    "inh_class.head(2) "
   ]
  },
  {
   "cell_type": "code",
   "execution_count": 21,
   "id": "29b2fa56",
   "metadata": {},
   "outputs": [],
   "source": [
    "inh_class = inh_class[['GENEINFO', 'Inh_class']].drop_duplicates()"
   ]
  },
  {
   "cell_type": "code",
   "execution_count": 22,
   "id": "bf006347",
   "metadata": {},
   "outputs": [
    {
     "data": {
      "text/plain": [
       "(670, 5)"
      ]
     },
     "execution_count": 22,
     "metadata": {},
     "output_type": "execute_result"
    }
   ],
   "source": [
    "sumgph2 = sumvarpheno[sumvarpheno['MIMs_per_Gene'] ==2]\n",
    "sumgph2.drop_duplicates(['GENEINFO']).shape"
   ]
  },
  {
   "cell_type": "code",
   "execution_count": 23,
   "id": "90552222",
   "metadata": {},
   "outputs": [
    {
     "data": {
      "text/plain": [
       "(1124, 5)"
      ]
     },
     "execution_count": 23,
     "metadata": {},
     "output_type": "execute_result"
    }
   ],
   "source": [
    "sumgph2.shape"
   ]
  },
  {
   "cell_type": "code",
   "execution_count": 24,
   "id": "7aa3f192",
   "metadata": {},
   "outputs": [
    {
     "data": {
      "text/plain": [
       "(1124, 6)"
      ]
     },
     "execution_count": 24,
     "metadata": {},
     "output_type": "execute_result"
    }
   ],
   "source": [
    "sumgph2 = sumgph2.merge(inh_class, on=['GENEINFO'], how='left')\n",
    "sumgph2.shape"
   ]
  },
  {
   "cell_type": "code",
   "execution_count": 25,
   "id": "a8dbb5e7",
   "metadata": {},
   "outputs": [],
   "source": [
    "sumgph2.to_csv('sumgph2_for_plot.csv', sep=',', index=False)"
   ]
  },
  {
   "cell_type": "code",
   "execution_count": 26,
   "id": "51f777e3",
   "metadata": {},
   "outputs": [
    {
     "data": {
      "image/png": "[encoded data removed]",
      "text/plain": [
       "<IPython.core.display.Image object>"
      ]
     },
     "metadata": {},
     "output_type": "display_data"
    }
   ],
   "source": [
    "%%R -i sumgph2\n",
    "\n",
    "ph2_box <- ggplot(na.omit(sumgph2[sumgph2$Variants_with_MultiMIMs == 1, ]), aes(x=Inh_class, y=100-Percent)) + geom_boxplot(fill='blue', alpha=0.25) + theme_bw() + theme(axis.text = element_text(size = 10), axis.title =  element_text(size=14)) + xlab('Type of inheritance') + ylab('% of variants with 2 associated syndromes')\n",
    "ph2_box"
   ]
  },
  {
   "cell_type": "code",
   "execution_count": 28,
   "id": "08ee08cb",
   "metadata": {},
   "outputs": [
    {
     "data": {
      "text/plain": [
       "(74, 6)"
      ]
     },
     "execution_count": 28,
     "metadata": {},
     "output_type": "execute_result"
    }
   ],
   "source": [
    "# genes with >=50 pleiotropic variants\n",
    "\n",
    "sumgph2_50 = sumgph2[(sumgph2.MIMs_per_Gene ==2) & (sumgph2.Variants_with_MultiMIMs == 2) & (sumgph2.Percent >50)]\n",
    "sumgph2_50.to_csv('G2Ph_pleiotvar_50.csv', sep='\\t', index=False)\n",
    "sumgph2_50.shape"
   ]
  },
  {
   "cell_type": "code",
   "execution_count": 29,
   "id": "416c1511",
   "metadata": {},
   "outputs": [
    {
     "data": {
      "text/html": [
       "<div>\n",
       "<style scoped>\n",
       "    .dataframe tbody tr th:only-of-type {\n",
       "        vertical-align: middle;\n",
       "    }\n",
       "\n",
       "    .dataframe tbody tr th {\n",
       "        vertical-align: top;\n",
       "    }\n",
       "\n",
       "    .dataframe thead th {\n",
       "        text-align: right;\n",
       "    }\n",
       "</style>\n",
       "<table border=\"1\" class=\"dataframe\">\n",
       "  <thead>\n",
       "    <tr style=\"text-align: right;\">\n",
       "      <th></th>\n",
       "      <th>MIMs_per_Gene</th>\n",
       "      <th>GENEINFO</th>\n",
       "      <th>Variants_with_MultiMIMs</th>\n",
       "      <th>N_variants</th>\n",
       "      <th>Percent</th>\n",
       "      <th>Inh_class</th>\n",
       "    </tr>\n",
       "  </thead>\n",
       "  <tbody>\n",
       "    <tr>\n",
       "      <th>1</th>\n",
       "      <td>2</td>\n",
       "      <td>ABCA1</td>\n",
       "      <td>2</td>\n",
       "      <td>1</td>\n",
       "      <td>4.761905</td>\n",
       "      <td>ADAR</td>\n",
       "    </tr>\n",
       "    <tr>\n",
       "      <th>3</th>\n",
       "      <td>2</td>\n",
       "      <td>ABCA12</td>\n",
       "      <td>2</td>\n",
       "      <td>4</td>\n",
       "      <td>14.285714</td>\n",
       "      <td>2AR</td>\n",
       "    </tr>\n",
       "    <tr>\n",
       "      <th>5</th>\n",
       "      <td>2</td>\n",
       "      <td>ABCB11</td>\n",
       "      <td>2</td>\n",
       "      <td>11</td>\n",
       "      <td>22.000000</td>\n",
       "      <td>2AR</td>\n",
       "    </tr>\n",
       "    <tr>\n",
       "      <th>8</th>\n",
       "      <td>2</td>\n",
       "      <td>ACTB</td>\n",
       "      <td>2</td>\n",
       "      <td>5</td>\n",
       "      <td>8.771930</td>\n",
       "      <td>2AD</td>\n",
       "    </tr>\n",
       "    <tr>\n",
       "      <th>10</th>\n",
       "      <td>2</td>\n",
       "      <td>ACTG1</td>\n",
       "      <td>2</td>\n",
       "      <td>10</td>\n",
       "      <td>26.315789</td>\n",
       "      <td>2AD</td>\n",
       "    </tr>\n",
       "    <tr>\n",
       "      <th>...</th>\n",
       "      <td>...</td>\n",
       "      <td>...</td>\n",
       "      <td>...</td>\n",
       "      <td>...</td>\n",
       "      <td>...</td>\n",
       "      <td>...</td>\n",
       "    </tr>\n",
       "    <tr>\n",
       "      <th>1113</th>\n",
       "      <td>2</td>\n",
       "      <td>ZC4H2</td>\n",
       "      <td>2</td>\n",
       "      <td>3</td>\n",
       "      <td>10.000000</td>\n",
       "      <td>2XL</td>\n",
       "    </tr>\n",
       "    <tr>\n",
       "      <th>1116</th>\n",
       "      <td>2</td>\n",
       "      <td>ZIC3</td>\n",
       "      <td>2</td>\n",
       "      <td>1</td>\n",
       "      <td>3.846154</td>\n",
       "      <td>2XL</td>\n",
       "    </tr>\n",
       "    <tr>\n",
       "      <th>1118</th>\n",
       "      <td>2</td>\n",
       "      <td>ZMPSTE24</td>\n",
       "      <td>2</td>\n",
       "      <td>2</td>\n",
       "      <td>12.500000</td>\n",
       "      <td>2AR</td>\n",
       "    </tr>\n",
       "    <tr>\n",
       "      <th>1120</th>\n",
       "      <td>2</td>\n",
       "      <td>ZNF408</td>\n",
       "      <td>2</td>\n",
       "      <td>1</td>\n",
       "      <td>25.000000</td>\n",
       "      <td>ADAR</td>\n",
       "    </tr>\n",
       "    <tr>\n",
       "      <th>1123</th>\n",
       "      <td>2</td>\n",
       "      <td>ZSWIM7</td>\n",
       "      <td>2</td>\n",
       "      <td>1</td>\n",
       "      <td>50.000000</td>\n",
       "      <td>2AR</td>\n",
       "    </tr>\n",
       "  </tbody>\n",
       "</table>\n",
       "<p>458 rows × 6 columns</p>\n",
       "</div>"
      ],
      "text/plain": [
       "      MIMs_per_Gene  GENEINFO  Variants_with_MultiMIMs  N_variants    Percent  \\\n",
       "1                 2     ABCA1                        2           1   4.761905   \n",
       "3                 2    ABCA12                        2           4  14.285714   \n",
       "5                 2    ABCB11                        2          11  22.000000   \n",
       "8                 2      ACTB                        2           5   8.771930   \n",
       "10                2     ACTG1                        2          10  26.315789   \n",
       "...             ...       ...                      ...         ...        ...   \n",
       "1113              2     ZC4H2                        2           3  10.000000   \n",
       "1116              2      ZIC3                        2           1   3.846154   \n",
       "1118              2  ZMPSTE24                        2           2  12.500000   \n",
       "1120              2    ZNF408                        2           1  25.000000   \n",
       "1123              2    ZSWIM7                        2           1  50.000000   \n",
       "\n",
       "     Inh_class  \n",
       "1         ADAR  \n",
       "3          2AR  \n",
       "5          2AR  \n",
       "8          2AD  \n",
       "10         2AD  \n",
       "...        ...  \n",
       "1113       2XL  \n",
       "1116       2XL  \n",
       "1118       2AR  \n",
       "1120      ADAR  \n",
       "1123       2AR  \n",
       "\n",
       "[458 rows x 6 columns]"
      ]
     },
     "execution_count": 29,
     "metadata": {},
     "output_type": "execute_result"
    }
   ],
   "source": [
    "sumgph2[(sumgph2.MIMs_per_Gene ==2) & (sumgph2.Variants_with_MultiMIMs == 2) ]"
   ]
  },
  {
   "cell_type": "code",
   "execution_count": 30,
   "id": "901f5da3",
   "metadata": {},
   "outputs": [],
   "source": [
    "sumgph2_50_list = sumgph2_50['GENEINFO'].drop_duplicates()"
   ]
  },
  {
   "cell_type": "code",
   "execution_count": 37,
   "id": "bf293c6b",
   "metadata": {},
   "outputs": [
    {
     "data": {
      "image/png": "[encoded data removed]",
      "text/plain": [
       "<IPython.core.display.Image object>"
      ]
     },
     "metadata": {},
     "output_type": "display_data"
    }
   ],
   "source": [
    "%%R -i sumgph2_50\n",
    "ph2_50_box <- ggplot(sumgph2_50[sumgph2_50$Variants_with_MultiMIMs == 2, ], aes(x=Inh_class, y=Percent)) + geom_boxplot(fill='blue', alpha=0.25) + theme_bw() + theme(axis.text = element_text(size = 10), axis.title =  element_text(size=14)) + xlab('Type of inheritance') + ylab('% of variants with 2 associated syndromes')\n",
    "ph2_50_box"
   ]
  },
  {
   "cell_type": "markdown",
   "id": "e72a3123",
   "metadata": {},
   "source": [
    "## Analysis of variants localization within protein domain boundaries"
   ]
  },
  {
   "cell_type": "code",
   "execution_count": null,
   "id": "61c788d7",
   "metadata": {},
   "outputs": [],
   "source": [
    "df_m = pd.read_csv('clinvar_grch38_plp_hpo_MIMcount.csv', sep='\\t')\n",
    "df_m.head(2)"
   ]
  },
  {
   "cell_type": "code",
   "execution_count": null,
   "id": "e7343c86",
   "metadata": {},
   "outputs": [],
   "source": [
    "# select genes with 2 diseases\n",
    "\n",
    "df_g2ph = df_m[df_m['MIMs_per_Gene'] == 2]\n",
    "df_2ph = df_g2ph.groupby(['GENEINFO', 'Ensembl','OMIM']).size().reset_index(name = 'Variants_per_MIM')\n",
    "df_2ph"
   ]
  },
  {
   "cell_type": "code",
   "execution_count": null,
   "id": "5c3d9f42",
   "metadata": {},
   "outputs": [],
   "source": [
    "df_g2ph['GENEINFO'].drop_duplicates().shape"
   ]
  },
  {
   "cell_type": "code",
   "execution_count": null,
   "id": "3e6ff10e",
   "metadata": {},
   "outputs": [],
   "source": [
    "# list of genes with 2 associated phenotypes\n",
    "\n",
    "df_g2ph_list = df_g2ph['Ensembl'].drop_duplicates()\n",
    "df_g2ph_list.to_csv('G2MIM_gene_list.csv', sep='\\t', index=False)\n",
    "\n",
    "! sed -i 1d G2MIM_gene_list.csv"
   ]
  },
  {
   "cell_type": "code",
   "execution_count": null,
   "id": "5db7eab2",
   "metadata": {},
   "outputs": [],
   "source": [
    "# grep coordinates of G2D from gencode v44 annotation\n",
    "! grep -wFf G2MIM_gene_list.csv gencode.v44.annotation.gtf > G2MIM_coord.gtf\n",
    "\n",
    "# select whole genes coordinates\n",
    "! awk '{if($3 ==\"gene\"){print $0}}' G2MIM_coord.gtf  > G2MIM_gene_coord.gtf\n",
    "\n",
    "! grep \"protein_coding\" G2MIM_gene_coord.gtf  > G2MIM_genes.gtf"
   ]
  },
  {
   "cell_type": "code",
   "execution_count": null,
   "id": "8515abc7",
   "metadata": {},
   "outputs": [],
   "source": [
    "\n",
    "## Only curated data\n",
    "! grep 'Manually reviewed (Swiss-Prot)' ucsc_uniprotdomains.bed > ucsc_uniprotdomains_swiss.bed"
   ]
  },
  {
   "cell_type": "code",
   "execution_count": null,
   "id": "58defd7d",
   "metadata": {},
   "outputs": [],
   "source": [
    "## save only domains (rm Zn-finger regions, topological domains)\n",
    "\n",
    "! grep  -v -e 'zinc[ ]finger[ ]region' -e 'topological[ ]domain' ucsc_uniprotdomains_swiss.bed > ucsc_uniprotdomains_swiss_domainsonly.bed"
   ]
  },
  {
   "cell_type": "code",
   "execution_count": null,
   "id": "147b05f8",
   "metadata": {},
   "outputs": [],
   "source": [
    "! cat ucsc_uniprotdomains_swiss_domainsonly.bed | cut -f1,2,3 > ucsc_uniprotdomains_swiss_domainsonly_coord.bed"
   ]
  },
  {
   "cell_type": "code",
   "execution_count": null,
   "id": "cb96b980",
   "metadata": {},
   "outputs": [],
   "source": [
    "g2mim_domains_count = pd.read_csv('G2MIM_count_uniprotdomains_swiss_domaisonly_sorted.gtf', sep='\\t', \n",
    "                            names=['chrom', 'source', 'type', 'start', 'end', 'NA1', 'NA2', 'NA3', 'info',\n",
    "                                   'intersect'], header=None)\n",
    "g2mim_domains_count.head(2)"
   ]
  },
  {
   "cell_type": "code",
   "execution_count": null,
   "id": "5739480f",
   "metadata": {},
   "outputs": [],
   "source": [
    "print(f\"N of genes with 2 MIMs, for which domains have been described in UniProt:\",\n",
    "      g2mim_domains_count[g2mim_domains_count['intersect'] > 0].shape[0])"
   ]
  },
  {
   "cell_type": "code",
   "execution_count": null,
   "id": "50ec1680",
   "metadata": {},
   "outputs": [],
   "source": [
    "# select genes with 2 diseases\n",
    "\n",
    "df_g2ph = df_m[df_m['MIMs_per_Gene'] == 2]\n",
    "df_2ph = df_g2ph.groupby(['GENEINFO', 'Ensembl','OMIM']).size().reset_index(name = 'Variants_per_MIM')\n",
    "df_2ph"
   ]
  },
  {
   "cell_type": "code",
   "execution_count": null,
   "id": "d85abd30",
   "metadata": {},
   "outputs": [],
   "source": [
    "dis1 = df_2ph.drop_duplicates(subset = ['Ensembl'], keep = 'first')\n",
    "dis1"
   ]
  },
  {
   "cell_type": "code",
   "execution_count": null,
   "id": "1a420f56",
   "metadata": {},
   "outputs": [],
   "source": [
    "dis1[['Ensembl', 'OMIM']].to_csv('G2Ph_dis1.csv', sep='\\t', index=False)"
   ]
  },
  {
   "cell_type": "code",
   "execution_count": null,
   "id": "febddde0",
   "metadata": {},
   "outputs": [],
   "source": [
    "# save variants associated with dis1 \n",
    "df_dis1 = df_g2ph.merge(dis1, how = 'inner')\n",
    "print(df_dis1.head(2))\n",
    "print(df_dis1.shape)"
   ]
  },
  {
   "cell_type": "code",
   "execution_count": null,
   "id": "db383fec",
   "metadata": {},
   "outputs": [],
   "source": [
    "df_dis1[['CHROM', 'POS', 'ID', 'REF', 'ALT', 'QUAL', 'FILTER']].to_csv('G2Pheno_dis1_all_variants.vcf', sep='\\t', index=False)"
   ]
  },
  {
   "cell_type": "code",
   "execution_count": null,
   "id": "95031177",
   "metadata": {},
   "outputs": [],
   "source": []
  },
  {
   "cell_type": "markdown",
   "id": "90a110af",
   "metadata": {},
   "source": [
    "##  Analysis of variants localization and types in G2Ds"
   ]
  },
  {
   "cell_type": "code",
   "execution_count": 70,
   "id": "4786f2ce",
   "metadata": {},
   "outputs": [
    {
     "data": {
      "text/html": [
       "<div>\n",
       "<style scoped>\n",
       "    .dataframe tbody tr th:only-of-type {\n",
       "        vertical-align: middle;\n",
       "    }\n",
       "\n",
       "    .dataframe tbody tr th {\n",
       "        vertical-align: top;\n",
       "    }\n",
       "\n",
       "    .dataframe thead th {\n",
       "        text-align: right;\n",
       "    }\n",
       "</style>\n",
       "<table border=\"1\" class=\"dataframe\">\n",
       "  <thead>\n",
       "    <tr style=\"text-align: right;\">\n",
       "      <th></th>\n",
       "      <th>CHROM</th>\n",
       "      <th>ID</th>\n",
       "      <th>MC</th>\n",
       "    </tr>\n",
       "  </thead>\n",
       "  <tbody>\n",
       "    <tr>\n",
       "      <th>0</th>\n",
       "      <td>chr1</td>\n",
       "      <td>950448</td>\n",
       "      <td>SO:0001587|nonsense</td>\n",
       "    </tr>\n",
       "    <tr>\n",
       "      <th>1</th>\n",
       "      <td>chr1</td>\n",
       "      <td>916564</td>\n",
       "      <td>SO:0001583|missense_variant</td>\n",
       "    </tr>\n",
       "  </tbody>\n",
       "</table>\n",
       "</div>"
      ],
      "text/plain": [
       "  CHROM      ID                           MC\n",
       "0  chr1  950448          SO:0001587|nonsense\n",
       "1  chr1  916564  SO:0001583|missense_variant"
      ]
     },
     "execution_count": 70,
     "metadata": {},
     "output_type": "execute_result"
    }
   ],
   "source": [
    "cv_mc = pd.read_csv('clinvar_grch38_20230903_MC.txt', sep='\\t')\n",
    "cv_mc.head(2)"
   ]
  },
  {
   "cell_type": "code",
   "execution_count": null,
   "id": "67982a7a",
   "metadata": {},
   "outputs": [],
   "source": [
    "df_m = pd.read_csv('clinvar_grch38_plp_hpo_MIMcount.csv', sep='\\t')\n",
    "df_m.shape\n"
   ]
  },
  {
   "cell_type": "code",
   "execution_count": 71,
   "id": "1d9d6526",
   "metadata": {},
   "outputs": [
    {
     "data": {
      "text/plain": [
       "(155921, 19)"
      ]
     },
     "execution_count": 71,
     "metadata": {},
     "output_type": "execute_result"
    }
   ],
   "source": [
    "df_m = df_m.merge(cv_mc, on=[\"CHROM\", \"ID\"], how='left')\n",
    "df_m.shape\n"
   ]
  },
  {
   "cell_type": "code",
   "execution_count": 72,
   "id": "9ab2dd82",
   "metadata": {},
   "outputs": [
    {
     "data": {
      "text/html": [
       "<div>\n",
       "<style scoped>\n",
       "    .dataframe tbody tr th:only-of-type {\n",
       "        vertical-align: middle;\n",
       "    }\n",
       "\n",
       "    .dataframe tbody tr th {\n",
       "        vertical-align: top;\n",
       "    }\n",
       "\n",
       "    .dataframe thead th {\n",
       "        text-align: right;\n",
       "    }\n",
       "</style>\n",
       "<table border=\"1\" class=\"dataframe\">\n",
       "  <thead>\n",
       "    <tr style=\"text-align: right;\">\n",
       "      <th></th>\n",
       "      <th>CHROM</th>\n",
       "      <th>POS</th>\n",
       "      <th>ID</th>\n",
       "      <th>REF</th>\n",
       "      <th>ALT</th>\n",
       "      <th>QUAL</th>\n",
       "      <th>FILTER</th>\n",
       "      <th>AF_EXAC</th>\n",
       "      <th>CLNREVSTAT</th>\n",
       "      <th>CLNSIG</th>\n",
       "      <th>CLNVC</th>\n",
       "      <th>GENEINFO</th>\n",
       "      <th>OMIM</th>\n",
       "      <th>ORPHA</th>\n",
       "      <th>ncbi_gene_id</th>\n",
       "      <th>Inheritance</th>\n",
       "      <th>Ensembl</th>\n",
       "      <th>MIMs_per_Gene</th>\n",
       "      <th>MC</th>\n",
       "    </tr>\n",
       "  </thead>\n",
       "  <tbody>\n",
       "    <tr>\n",
       "      <th>0</th>\n",
       "      <td>chr1</td>\n",
       "      <td>1013983</td>\n",
       "      <td>1028857</td>\n",
       "      <td>G</td>\n",
       "      <td>A</td>\n",
       "      <td>-10.0</td>\n",
       "      <td>PASS</td>\n",
       "      <td>NaN</td>\n",
       "      <td>criteria_provided,_single_submitter</td>\n",
       "      <td>Pathogenic</td>\n",
       "      <td>single_nucleotide_variant</td>\n",
       "      <td>ISG15</td>\n",
       "      <td>OMIM:616126</td>\n",
       "      <td>Orphanet:319563</td>\n",
       "      <td>9636</td>\n",
       "      <td>AR</td>\n",
       "      <td>ENSG00000187608</td>\n",
       "      <td>1</td>\n",
       "      <td>SO:0001574|splice_acceptor_variant</td>\n",
       "    </tr>\n",
       "    <tr>\n",
       "      <th>1</th>\n",
       "      <td>chr1</td>\n",
       "      <td>1014143</td>\n",
       "      <td>183381</td>\n",
       "      <td>C</td>\n",
       "      <td>T</td>\n",
       "      <td>-10.0</td>\n",
       "      <td>PASS</td>\n",
       "      <td>NaN</td>\n",
       "      <td>no_assertion_criteria_provided</td>\n",
       "      <td>Pathogenic</td>\n",
       "      <td>single_nucleotide_variant</td>\n",
       "      <td>ISG15</td>\n",
       "      <td>OMIM:616126</td>\n",
       "      <td>Orphanet:319563</td>\n",
       "      <td>9636</td>\n",
       "      <td>AR</td>\n",
       "      <td>ENSG00000187608</td>\n",
       "      <td>1</td>\n",
       "      <td>SO:0001587|nonsense</td>\n",
       "    </tr>\n",
       "  </tbody>\n",
       "</table>\n",
       "</div>"
      ],
      "text/plain": [
       "  CHROM      POS       ID REF ALT  QUAL FILTER  AF_EXAC  \\\n",
       "0  chr1  1013983  1028857   G   A -10.0   PASS      NaN   \n",
       "1  chr1  1014143   183381   C   T -10.0   PASS      NaN   \n",
       "\n",
       "                            CLNREVSTAT      CLNSIG                      CLNVC  \\\n",
       "0  criteria_provided,_single_submitter  Pathogenic  single_nucleotide_variant   \n",
       "1       no_assertion_criteria_provided  Pathogenic  single_nucleotide_variant   \n",
       "\n",
       "  GENEINFO         OMIM            ORPHA  ncbi_gene_id Inheritance  \\\n",
       "0    ISG15  OMIM:616126  Orphanet:319563          9636          AR   \n",
       "1    ISG15  OMIM:616126  Orphanet:319563          9636          AR   \n",
       "\n",
       "           Ensembl  MIMs_per_Gene                                  MC  \n",
       "0  ENSG00000187608              1  SO:0001574|splice_acceptor_variant  \n",
       "1  ENSG00000187608              1                 SO:0001587|nonsense  "
      ]
     },
     "execution_count": 72,
     "metadata": {},
     "output_type": "execute_result"
    }
   ],
   "source": [
    "df_m.head(2)"
   ]
  },
  {
   "cell_type": "code",
   "execution_count": 73,
   "id": "b95022d5",
   "metadata": {},
   "outputs": [
    {
     "data": {
      "text/html": [
       "<div>\n",
       "<style scoped>\n",
       "    .dataframe tbody tr th:only-of-type {\n",
       "        vertical-align: middle;\n",
       "    }\n",
       "\n",
       "    .dataframe tbody tr th {\n",
       "        vertical-align: top;\n",
       "    }\n",
       "\n",
       "    .dataframe thead th {\n",
       "        text-align: right;\n",
       "    }\n",
       "</style>\n",
       "<table border=\"1\" class=\"dataframe\">\n",
       "  <thead>\n",
       "    <tr style=\"text-align: right;\">\n",
       "      <th></th>\n",
       "      <th>GENEINFO</th>\n",
       "      <th>Ensembl</th>\n",
       "      <th>OMIM</th>\n",
       "      <th>Variants_per_MIM</th>\n",
       "    </tr>\n",
       "  </thead>\n",
       "  <tbody>\n",
       "    <tr>\n",
       "      <th>0</th>\n",
       "      <td>ABCA1</td>\n",
       "      <td>ENSG00000165029</td>\n",
       "      <td>OMIM:205400</td>\n",
       "      <td>15</td>\n",
       "    </tr>\n",
       "    <tr>\n",
       "      <th>1</th>\n",
       "      <td>ABCA1</td>\n",
       "      <td>ENSG00000165029</td>\n",
       "      <td>OMIM:604091</td>\n",
       "      <td>7</td>\n",
       "    </tr>\n",
       "    <tr>\n",
       "      <th>2</th>\n",
       "      <td>ABCA12</td>\n",
       "      <td>ENSG00000144452</td>\n",
       "      <td>OMIM:242500</td>\n",
       "      <td>21</td>\n",
       "    </tr>\n",
       "    <tr>\n",
       "      <th>3</th>\n",
       "      <td>ABCA12</td>\n",
       "      <td>ENSG00000144452</td>\n",
       "      <td>OMIM:601277</td>\n",
       "      <td>11</td>\n",
       "    </tr>\n",
       "    <tr>\n",
       "      <th>4</th>\n",
       "      <td>ABCB11</td>\n",
       "      <td>ENSG00000073734</td>\n",
       "      <td>OMIM:601847</td>\n",
       "      <td>47</td>\n",
       "    </tr>\n",
       "    <tr>\n",
       "      <th>...</th>\n",
       "      <td>...</td>\n",
       "      <td>...</td>\n",
       "      <td>...</td>\n",
       "      <td>...</td>\n",
       "    </tr>\n",
       "    <tr>\n",
       "      <th>1333</th>\n",
       "      <td>ZNF408</td>\n",
       "      <td>ENSG00000175213</td>\n",
       "      <td>OMIM:616469</td>\n",
       "      <td>2</td>\n",
       "    </tr>\n",
       "    <tr>\n",
       "      <th>1334</th>\n",
       "      <td>ZSWIM6</td>\n",
       "      <td>ENSG00000130449</td>\n",
       "      <td>OMIM:603671</td>\n",
       "      <td>1</td>\n",
       "    </tr>\n",
       "    <tr>\n",
       "      <th>1335</th>\n",
       "      <td>ZSWIM6</td>\n",
       "      <td>ENSG00000130449</td>\n",
       "      <td>OMIM:617865</td>\n",
       "      <td>1</td>\n",
       "    </tr>\n",
       "    <tr>\n",
       "      <th>1336</th>\n",
       "      <td>ZSWIM7</td>\n",
       "      <td>ENSG00000214941</td>\n",
       "      <td>OMIM:619831</td>\n",
       "      <td>2</td>\n",
       "    </tr>\n",
       "    <tr>\n",
       "      <th>1337</th>\n",
       "      <td>ZSWIM7</td>\n",
       "      <td>ENSG00000214941</td>\n",
       "      <td>OMIM:619834</td>\n",
       "      <td>1</td>\n",
       "    </tr>\n",
       "  </tbody>\n",
       "</table>\n",
       "<p>1338 rows × 4 columns</p>\n",
       "</div>"
      ],
      "text/plain": [
       "     GENEINFO          Ensembl         OMIM  Variants_per_MIM\n",
       "0       ABCA1  ENSG00000165029  OMIM:205400                15\n",
       "1       ABCA1  ENSG00000165029  OMIM:604091                 7\n",
       "2      ABCA12  ENSG00000144452  OMIM:242500                21\n",
       "3      ABCA12  ENSG00000144452  OMIM:601277                11\n",
       "4      ABCB11  ENSG00000073734  OMIM:601847                47\n",
       "...       ...              ...          ...               ...\n",
       "1333   ZNF408  ENSG00000175213  OMIM:616469                 2\n",
       "1334   ZSWIM6  ENSG00000130449  OMIM:603671                 1\n",
       "1335   ZSWIM6  ENSG00000130449  OMIM:617865                 1\n",
       "1336   ZSWIM7  ENSG00000214941  OMIM:619831                 2\n",
       "1337   ZSWIM7  ENSG00000214941  OMIM:619834                 1\n",
       "\n",
       "[1338 rows x 4 columns]"
      ]
     },
     "execution_count": 73,
     "metadata": {},
     "output_type": "execute_result"
    }
   ],
   "source": [
    "# select genes with 2 diseases\n",
    "\n",
    "df_g2ph = df_m[df_m['MIMs_per_Gene'] == 2]\n",
    "df_2ph = df_g2ph.groupby(['GENEINFO', 'Ensembl','OMIM']).size().reset_index(name = 'Variants_per_MIM')\n",
    "df_2ph"
   ]
  },
  {
   "cell_type": "code",
   "execution_count": 74,
   "id": "f6fbfc75",
   "metadata": {},
   "outputs": [
    {
     "data": {
      "text/plain": [
       "(670,)"
      ]
     },
     "execution_count": 74,
     "metadata": {},
     "output_type": "execute_result"
    }
   ],
   "source": [
    "df_g2ph['GENEINFO'].drop_duplicates().shape"
   ]
  },
  {
   "cell_type": "code",
   "execution_count": 75,
   "id": "1c2e2395",
   "metadata": {},
   "outputs": [],
   "source": [
    "# list of genes with 2 associated phenotypes\n",
    "\n",
    "df_g2ph_list = df_g2ph['Ensembl'].drop_duplicates()\n",
    "df_g2ph_list.to_csv('G2Ph_ensembl_list.csv', sep='\\t', index=False)\n",
    "\n",
    "! sed -i 1d G2Ph_ensembl_list.csv"
   ]
  },
  {
   "cell_type": "markdown",
   "id": "e6b5787b",
   "metadata": {},
   "source": [
    "### Statistical analysis of  within-gene distribution and type of variants "
   ]
  },
  {
   "cell_type": "markdown",
   "id": "7076310d",
   "metadata": {},
   "source": [
    "#### Collect associated with each disease variants"
   ]
  },
  {
   "cell_type": "markdown",
   "id": "dfa4dc3b",
   "metadata": {},
   "source": [
    "##### collect all variants "
   ]
  },
  {
   "cell_type": "code",
   "execution_count": 76,
   "id": "89b0a1e3",
   "metadata": {
    "scrolled": true
   },
   "outputs": [
    {
     "data": {
      "text/html": [
       "<div>\n",
       "<style scoped>\n",
       "    .dataframe tbody tr th:only-of-type {\n",
       "        vertical-align: middle;\n",
       "    }\n",
       "\n",
       "    .dataframe tbody tr th {\n",
       "        vertical-align: top;\n",
       "    }\n",
       "\n",
       "    .dataframe thead th {\n",
       "        text-align: right;\n",
       "    }\n",
       "</style>\n",
       "<table border=\"1\" class=\"dataframe\">\n",
       "  <thead>\n",
       "    <tr style=\"text-align: right;\">\n",
       "      <th></th>\n",
       "      <th>GENEINFO</th>\n",
       "      <th>Ensembl</th>\n",
       "      <th>OMIM</th>\n",
       "      <th>Variants_per_MIM</th>\n",
       "    </tr>\n",
       "  </thead>\n",
       "  <tbody>\n",
       "    <tr>\n",
       "      <th>0</th>\n",
       "      <td>ABCA1</td>\n",
       "      <td>ENSG00000165029</td>\n",
       "      <td>OMIM:205400</td>\n",
       "      <td>15</td>\n",
       "    </tr>\n",
       "    <tr>\n",
       "      <th>2</th>\n",
       "      <td>ABCA12</td>\n",
       "      <td>ENSG00000144452</td>\n",
       "      <td>OMIM:242500</td>\n",
       "      <td>21</td>\n",
       "    </tr>\n",
       "    <tr>\n",
       "      <th>4</th>\n",
       "      <td>ABCB11</td>\n",
       "      <td>ENSG00000073734</td>\n",
       "      <td>OMIM:601847</td>\n",
       "      <td>47</td>\n",
       "    </tr>\n",
       "    <tr>\n",
       "      <th>6</th>\n",
       "      <td>ACO2</td>\n",
       "      <td>ENSG00000100412</td>\n",
       "      <td>OMIM:614559</td>\n",
       "      <td>17</td>\n",
       "    </tr>\n",
       "    <tr>\n",
       "      <th>8</th>\n",
       "      <td>ACTB</td>\n",
       "      <td>ENSG00000075624</td>\n",
       "      <td>OMIM:243310</td>\n",
       "      <td>56</td>\n",
       "    </tr>\n",
       "    <tr>\n",
       "      <th>...</th>\n",
       "      <td>...</td>\n",
       "      <td>...</td>\n",
       "      <td>...</td>\n",
       "      <td>...</td>\n",
       "    </tr>\n",
       "    <tr>\n",
       "      <th>1328</th>\n",
       "      <td>ZIC3</td>\n",
       "      <td>ENSG00000156925</td>\n",
       "      <td>OMIM:306955</td>\n",
       "      <td>25</td>\n",
       "    </tr>\n",
       "    <tr>\n",
       "      <th>1330</th>\n",
       "      <td>ZMPSTE24</td>\n",
       "      <td>ENSG00000084073</td>\n",
       "      <td>OMIM:275210</td>\n",
       "      <td>10</td>\n",
       "    </tr>\n",
       "    <tr>\n",
       "      <th>1332</th>\n",
       "      <td>ZNF408</td>\n",
       "      <td>ENSG00000175213</td>\n",
       "      <td>OMIM:616468</td>\n",
       "      <td>3</td>\n",
       "    </tr>\n",
       "    <tr>\n",
       "      <th>1334</th>\n",
       "      <td>ZSWIM6</td>\n",
       "      <td>ENSG00000130449</td>\n",
       "      <td>OMIM:603671</td>\n",
       "      <td>1</td>\n",
       "    </tr>\n",
       "    <tr>\n",
       "      <th>1336</th>\n",
       "      <td>ZSWIM7</td>\n",
       "      <td>ENSG00000214941</td>\n",
       "      <td>OMIM:619831</td>\n",
       "      <td>2</td>\n",
       "    </tr>\n",
       "  </tbody>\n",
       "</table>\n",
       "<p>669 rows × 4 columns</p>\n",
       "</div>"
      ],
      "text/plain": [
       "      GENEINFO          Ensembl         OMIM  Variants_per_MIM\n",
       "0        ABCA1  ENSG00000165029  OMIM:205400                15\n",
       "2       ABCA12  ENSG00000144452  OMIM:242500                21\n",
       "4       ABCB11  ENSG00000073734  OMIM:601847                47\n",
       "6         ACO2  ENSG00000100412  OMIM:614559                17\n",
       "8         ACTB  ENSG00000075624  OMIM:243310                56\n",
       "...        ...              ...          ...               ...\n",
       "1328      ZIC3  ENSG00000156925  OMIM:306955                25\n",
       "1330  ZMPSTE24  ENSG00000084073  OMIM:275210                10\n",
       "1332    ZNF408  ENSG00000175213  OMIM:616468                 3\n",
       "1334    ZSWIM6  ENSG00000130449  OMIM:603671                 1\n",
       "1336    ZSWIM7  ENSG00000214941  OMIM:619831                 2\n",
       "\n",
       "[669 rows x 4 columns]"
      ]
     },
     "execution_count": 76,
     "metadata": {},
     "output_type": "execute_result"
    }
   ],
   "source": [
    "dis1 = df_2ph.drop_duplicates(subset = ['Ensembl'], keep = 'first')\n",
    "dis1"
   ]
  },
  {
   "cell_type": "code",
   "execution_count": 77,
   "id": "980b703e",
   "metadata": {},
   "outputs": [],
   "source": [
    "dis1[['Ensembl', 'OMIM']].to_csv('G2Ph_dis1.csv', sep='\\t', index=False)"
   ]
  },
  {
   "cell_type": "code",
   "execution_count": 78,
   "id": "98431fe1",
   "metadata": {},
   "outputs": [
    {
     "name": "stdout",
     "output_type": "stream",
     "text": [
      "  CHROM      POS      ID REF  ALT  QUAL FILTER  AF_EXAC  \\\n",
      "0  chr1  1338007  931630   T  TGC -10.0   PASS      NaN   \n",
      "1  chr1  1338053  208049  TG    T -10.0   PASS      NaN   \n",
      "\n",
      "                            CLNREVSTAT             CLNSIG        CLNVC  \\\n",
      "0  criteria_provided,_single_submitter  Likely_pathogenic  Duplication   \n",
      "1  criteria_provided,_single_submitter         Pathogenic     Deletion   \n",
      "\n",
      "  GENEINFO         OMIM                         ORPHA  ncbi_gene_id  \\\n",
      "0     DVL1  OMIM:180700  Orphanet:3107,Orphanet:97360          1855   \n",
      "1     DVL1  OMIM:180700  Orphanet:3107,Orphanet:97360          1855   \n",
      "\n",
      "  Inheritance          Ensembl  MIMs_per_Gene                             MC  \\\n",
      "0          AD  ENSG00000107404              2  SO:0001589|frameshift_variant   \n",
      "1          AD  ENSG00000107404              2  SO:0001589|frameshift_variant   \n",
      "\n",
      "   Variants_per_MIM  \n",
      "0                 2  \n",
      "1                 2  \n",
      "(19086, 20)\n"
     ]
    }
   ],
   "source": [
    "# save variants associated with dis1 \n",
    "\n",
    "df_dis1 = df_g2ph.merge(dis1, how = 'inner')\n",
    "print(df_dis1.head(2))\n",
    "print(df_dis1.shape)"
   ]
  },
  {
   "cell_type": "code",
   "execution_count": 79,
   "id": "46a4cfaa",
   "metadata": {},
   "outputs": [],
   "source": [
    "df_dis1[['CHROM', 'POS', 'ID', 'REF', 'ALT', 'QUAL', 'FILTER']].to_csv('G2Pheno_dis1_all_variants.vcf', sep='\\t', index=False)"
   ]
  },
  {
   "cell_type": "code",
   "execution_count": 80,
   "id": "2d73e573",
   "metadata": {},
   "outputs": [],
   "source": [
    "! cat vcf_header.txt G2Pheno_dis1_all_variants.vcf > G2Ph_dis1_all_variants.vcf\n",
    "! rm G2Pheno_dis1_all_variants.vcf\n",
    "! sed -i 's/CHROM/#CHROM/g' G2Ph_dis1_all_variants.vcf"
   ]
  },
  {
   "cell_type": "raw",
   "id": "ede81e5d",
   "metadata": {},
   "source": []
  },
  {
   "cell_type": "code",
   "execution_count": 81,
   "id": "f094426e",
   "metadata": {},
   "outputs": [
    {
     "data": {
      "text/html": [
       "<div>\n",
       "<style scoped>\n",
       "    .dataframe tbody tr th:only-of-type {\n",
       "        vertical-align: middle;\n",
       "    }\n",
       "\n",
       "    .dataframe tbody tr th {\n",
       "        vertical-align: top;\n",
       "    }\n",
       "\n",
       "    .dataframe thead th {\n",
       "        text-align: right;\n",
       "    }\n",
       "</style>\n",
       "<table border=\"1\" class=\"dataframe\">\n",
       "  <thead>\n",
       "    <tr style=\"text-align: right;\">\n",
       "      <th></th>\n",
       "      <th>GENEINFO</th>\n",
       "      <th>Ensembl</th>\n",
       "      <th>OMIM</th>\n",
       "      <th>Variants_per_MIM</th>\n",
       "    </tr>\n",
       "  </thead>\n",
       "  <tbody>\n",
       "    <tr>\n",
       "      <th>1</th>\n",
       "      <td>ABCA1</td>\n",
       "      <td>ENSG00000165029</td>\n",
       "      <td>OMIM:604091</td>\n",
       "      <td>7</td>\n",
       "    </tr>\n",
       "    <tr>\n",
       "      <th>3</th>\n",
       "      <td>ABCA12</td>\n",
       "      <td>ENSG00000144452</td>\n",
       "      <td>OMIM:601277</td>\n",
       "      <td>11</td>\n",
       "    </tr>\n",
       "    <tr>\n",
       "      <th>5</th>\n",
       "      <td>ABCB11</td>\n",
       "      <td>ENSG00000073734</td>\n",
       "      <td>OMIM:605479</td>\n",
       "      <td>14</td>\n",
       "    </tr>\n",
       "    <tr>\n",
       "      <th>7</th>\n",
       "      <td>ACO2</td>\n",
       "      <td>ENSG00000100412</td>\n",
       "      <td>OMIM:616289</td>\n",
       "      <td>6</td>\n",
       "    </tr>\n",
       "    <tr>\n",
       "      <th>9</th>\n",
       "      <td>ACTB</td>\n",
       "      <td>ENSG00000075624</td>\n",
       "      <td>OMIM:607371</td>\n",
       "      <td>6</td>\n",
       "    </tr>\n",
       "    <tr>\n",
       "      <th>...</th>\n",
       "      <td>...</td>\n",
       "      <td>...</td>\n",
       "      <td>...</td>\n",
       "      <td>...</td>\n",
       "    </tr>\n",
       "    <tr>\n",
       "      <th>1329</th>\n",
       "      <td>ZIC3</td>\n",
       "      <td>ENSG00000156925</td>\n",
       "      <td>OMIM:314390</td>\n",
       "      <td>2</td>\n",
       "    </tr>\n",
       "    <tr>\n",
       "      <th>1331</th>\n",
       "      <td>ZMPSTE24</td>\n",
       "      <td>ENSG00000084073</td>\n",
       "      <td>OMIM:608612</td>\n",
       "      <td>8</td>\n",
       "    </tr>\n",
       "    <tr>\n",
       "      <th>1333</th>\n",
       "      <td>ZNF408</td>\n",
       "      <td>ENSG00000175213</td>\n",
       "      <td>OMIM:616469</td>\n",
       "      <td>2</td>\n",
       "    </tr>\n",
       "    <tr>\n",
       "      <th>1335</th>\n",
       "      <td>ZSWIM6</td>\n",
       "      <td>ENSG00000130449</td>\n",
       "      <td>OMIM:617865</td>\n",
       "      <td>1</td>\n",
       "    </tr>\n",
       "    <tr>\n",
       "      <th>1337</th>\n",
       "      <td>ZSWIM7</td>\n",
       "      <td>ENSG00000214941</td>\n",
       "      <td>OMIM:619834</td>\n",
       "      <td>1</td>\n",
       "    </tr>\n",
       "  </tbody>\n",
       "</table>\n",
       "<p>669 rows × 4 columns</p>\n",
       "</div>"
      ],
      "text/plain": [
       "      GENEINFO          Ensembl         OMIM  Variants_per_MIM\n",
       "1        ABCA1  ENSG00000165029  OMIM:604091                 7\n",
       "3       ABCA12  ENSG00000144452  OMIM:601277                11\n",
       "5       ABCB11  ENSG00000073734  OMIM:605479                14\n",
       "7         ACO2  ENSG00000100412  OMIM:616289                 6\n",
       "9         ACTB  ENSG00000075624  OMIM:607371                 6\n",
       "...        ...              ...          ...               ...\n",
       "1329      ZIC3  ENSG00000156925  OMIM:314390                 2\n",
       "1331  ZMPSTE24  ENSG00000084073  OMIM:608612                 8\n",
       "1333    ZNF408  ENSG00000175213  OMIM:616469                 2\n",
       "1335    ZSWIM6  ENSG00000130449  OMIM:617865                 1\n",
       "1337    ZSWIM7  ENSG00000214941  OMIM:619834                 1\n",
       "\n",
       "[669 rows x 4 columns]"
      ]
     },
     "execution_count": 81,
     "metadata": {},
     "output_type": "execute_result"
    }
   ],
   "source": [
    "# extract 2nd disease\n",
    "\n",
    "dis2 = df_2ph.drop_duplicates(subset = ['Ensembl'], keep = 'last')\n",
    "dis2"
   ]
  },
  {
   "cell_type": "code",
   "execution_count": 53,
   "id": "7c80750f",
   "metadata": {},
   "outputs": [],
   "source": [
    "dis2[['Ensembl', 'OMIM']].to_csv('G2Ph_dis2.csv', sep='\\t', index=False)"
   ]
  },
  {
   "cell_type": "code",
   "execution_count": 82,
   "id": "c3ad7309",
   "metadata": {},
   "outputs": [
    {
     "name": "stdout",
     "output_type": "stream",
     "text": [
      "  CHROM      POS      ID REF ALT  QUAL FILTER  AF_EXAC  \\\n",
      "0  chr1  1336516  981468   C   T -10.0   PASS      NaN   \n",
      "1  chr1  1337992  488046  TC   T -10.0   PASS      NaN   \n",
      "\n",
      "                            CLNREVSTAT             CLNSIG  \\\n",
      "0       no_assertion_criteria_provided  Likely_pathogenic   \n",
      "1  criteria_provided,_single_submitter  Likely_pathogenic   \n",
      "\n",
      "                       CLNVC GENEINFO         OMIM  \\\n",
      "0  single_nucleotide_variant     DVL1  OMIM:616331   \n",
      "1                   Deletion     DVL1  OMIM:616331   \n",
      "\n",
      "                          ORPHA  ncbi_gene_id Inheritance          Ensembl  \\\n",
      "0  Orphanet:3107,Orphanet:97360          1855          AD  ENSG00000107404   \n",
      "1  Orphanet:3107,Orphanet:97360          1855          AD  ENSG00000107404   \n",
      "\n",
      "   MIMs_per_Gene                                  MC  Variants_per_MIM  \n",
      "0              2  SO:0001574|splice_acceptor_variant                18  \n",
      "1              2       SO:0001589|frameshift_variant                18  \n",
      "(15730, 20)\n"
     ]
    }
   ],
   "source": [
    "# save variants associated with 2nd disease\n",
    "\n",
    "df_dis2 = df_g2ph.merge(dis2, how = 'inner')\n",
    "\n",
    "print(df_dis2.head(2))\n",
    "print(df_dis2.shape)"
   ]
  },
  {
   "cell_type": "code",
   "execution_count": 83,
   "id": "c213fe61",
   "metadata": {},
   "outputs": [],
   "source": [
    "df_dis2[['CHROM', 'POS', 'ID', 'REF', 'ALT', 'QUAL', 'FILTER']].to_csv('G2Pheno_dis2_all_variants.vcf', sep='\\t', index=False)"
   ]
  },
  {
   "cell_type": "code",
   "execution_count": 84,
   "id": "4fcf472d",
   "metadata": {},
   "outputs": [],
   "source": [
    "! cat vcf_header.txt G2Pheno_dis2_all_variants.vcf > G2Ph_dis2_all_variants.vcf\n",
    "! rm G2Pheno_dis2_all_variants.vcf\n",
    "! sed -i 's/CHROM/#CHROM/g' G2Ph_dis2_all_variants.vcf"
   ]
  },
  {
   "cell_type": "markdown",
   "id": "b321fdce",
   "metadata": {},
   "source": [
    "##### collect variants without pleiotropic effect"
   ]
  },
  {
   "cell_type": "code",
   "execution_count": 85,
   "id": "0fee4de1",
   "metadata": {},
   "outputs": [
    {
     "name": "stdout",
     "output_type": "stream",
     "text": [
      "(19086, 7)\n",
      "(15730, 7)\n",
      "(28610, 8)\n",
      "(6206, 8)\n"
     ]
    }
   ],
   "source": [
    "# rm variants that have association with both diseases\n",
    "\n",
    "snps_dis1 = df_dis1[['CHROM', 'POS', 'ID', 'REF', 'ALT', 'QUAL', 'FILTER']]\n",
    "snps_dis2 = df_dis2[['CHROM', 'POS', 'ID', 'REF', 'ALT', 'QUAL', 'FILTER']]\n",
    "snps_d1d2 = pd.merge(snps_dis1, snps_dis2, how='outer', indicator=True)\n",
    "\n",
    "print(snps_dis1.shape)\n",
    "print(snps_dis2.shape)\n",
    "print(snps_d1d2.shape)\n",
    "print(snps_d1d2[snps_d1d2['_merge'] == 'both'].shape)"
   ]
  },
  {
   "cell_type": "code",
   "execution_count": 86,
   "id": "340ec6d6",
   "metadata": {},
   "outputs": [
    {
     "data": {
      "text/html": [
       "<div>\n",
       "<style scoped>\n",
       "    .dataframe tbody tr th:only-of-type {\n",
       "        vertical-align: middle;\n",
       "    }\n",
       "\n",
       "    .dataframe tbody tr th {\n",
       "        vertical-align: top;\n",
       "    }\n",
       "\n",
       "    .dataframe thead th {\n",
       "        text-align: right;\n",
       "    }\n",
       "</style>\n",
       "<table border=\"1\" class=\"dataframe\">\n",
       "  <thead>\n",
       "    <tr style=\"text-align: right;\">\n",
       "      <th></th>\n",
       "      <th>CHROM</th>\n",
       "      <th>POS</th>\n",
       "      <th>ID</th>\n",
       "      <th>REF</th>\n",
       "      <th>ALT</th>\n",
       "      <th>QUAL</th>\n",
       "      <th>FILTER</th>\n",
       "      <th>_merge</th>\n",
       "    </tr>\n",
       "  </thead>\n",
       "  <tbody>\n",
       "    <tr>\n",
       "      <th>0</th>\n",
       "      <td>chr1</td>\n",
       "      <td>1338007</td>\n",
       "      <td>931630</td>\n",
       "      <td>T</td>\n",
       "      <td>TGC</td>\n",
       "      <td>-10.0</td>\n",
       "      <td>PASS</td>\n",
       "      <td>left_only</td>\n",
       "    </tr>\n",
       "    <tr>\n",
       "      <th>2</th>\n",
       "      <td>chr1</td>\n",
       "      <td>1516567</td>\n",
       "      <td>1077177</td>\n",
       "      <td>CACACCTGGCTAATTTTTATATTTTTAGTAGAGTCGGGGTTTCACC...</td>\n",
       "      <td>C</td>\n",
       "      <td>-10.0</td>\n",
       "      <td>PASS</td>\n",
       "      <td>left_only</td>\n",
       "    </tr>\n",
       "    <tr>\n",
       "      <th>3</th>\n",
       "      <td>chr1</td>\n",
       "      <td>1517250</td>\n",
       "      <td>592109</td>\n",
       "      <td>GC</td>\n",
       "      <td>G</td>\n",
       "      <td>-10.0</td>\n",
       "      <td>PASS</td>\n",
       "      <td>left_only</td>\n",
       "    </tr>\n",
       "    <tr>\n",
       "      <th>4</th>\n",
       "      <td>chr1</td>\n",
       "      <td>1523838</td>\n",
       "      <td>989289</td>\n",
       "      <td>G</td>\n",
       "      <td>T</td>\n",
       "      <td>-10.0</td>\n",
       "      <td>PASS</td>\n",
       "      <td>left_only</td>\n",
       "    </tr>\n",
       "    <tr>\n",
       "      <th>5</th>\n",
       "      <td>chr1</td>\n",
       "      <td>1524323</td>\n",
       "      <td>992489</td>\n",
       "      <td>C</td>\n",
       "      <td>CG</td>\n",
       "      <td>-10.0</td>\n",
       "      <td>PASS</td>\n",
       "      <td>left_only</td>\n",
       "    </tr>\n",
       "  </tbody>\n",
       "</table>\n",
       "</div>"
      ],
      "text/plain": [
       "  CHROM      POS       ID                                                REF  \\\n",
       "0  chr1  1338007   931630                                                  T   \n",
       "2  chr1  1516567  1077177  CACACCTGGCTAATTTTTATATTTTTAGTAGAGTCGGGGTTTCACC...   \n",
       "3  chr1  1517250   592109                                                 GC   \n",
       "4  chr1  1523838   989289                                                  G   \n",
       "5  chr1  1524323   992489                                                  C   \n",
       "\n",
       "   ALT  QUAL FILTER     _merge  \n",
       "0  TGC -10.0   PASS  left_only  \n",
       "2    C -10.0   PASS  left_only  \n",
       "3    G -10.0   PASS  left_only  \n",
       "4    T -10.0   PASS  left_only  \n",
       "5   CG -10.0   PASS  left_only  "
      ]
     },
     "execution_count": 86,
     "metadata": {},
     "output_type": "execute_result"
    }
   ],
   "source": [
    "snps_d1d2 = snps_d1d2[snps_d1d2['_merge'] != 'both']\n",
    "snps_d1d2.head()"
   ]
  },
  {
   "cell_type": "code",
   "execution_count": 87,
   "id": "7ee2277d",
   "metadata": {},
   "outputs": [
    {
     "data": {
      "text/plain": [
       "(12880, 8)"
      ]
     },
     "execution_count": 87,
     "metadata": {},
     "output_type": "execute_result"
    }
   ],
   "source": [
    "snps_d1_un = snps_d1d2[snps_d1d2['_merge'] == 'left_only']\n",
    "snps_d1_un.shape"
   ]
  },
  {
   "cell_type": "code",
   "execution_count": 88,
   "id": "833ea687",
   "metadata": {},
   "outputs": [],
   "source": [
    "snps_d1_un[['CHROM', 'POS', 'ID', 'REF', 'ALT', 'QUAL', 'FILTER']].to_csv('G2Pheno_dis1_uniq_variants.vcf', sep='\\t', index=False)"
   ]
  },
  {
   "cell_type": "code",
   "execution_count": 89,
   "id": "2decd93e",
   "metadata": {},
   "outputs": [],
   "source": [
    "! cat vcf_header.txt G2Pheno_dis1_uniq_variants.vcf > G2Ph_dis1_uniq.vcf\n",
    "! rm G2Pheno_dis1_uniq_variants.vcf\n",
    "! sed -i 's/CHROM/#CHROM/g' G2Ph_dis1_uniq.vcf"
   ]
  },
  {
   "cell_type": "raw",
   "id": "01a30dd9",
   "metadata": {},
   "source": []
  },
  {
   "cell_type": "code",
   "execution_count": 90,
   "id": "83b4835f",
   "metadata": {},
   "outputs": [
    {
     "data": {
      "text/plain": [
       "(9524, 8)"
      ]
     },
     "execution_count": 90,
     "metadata": {},
     "output_type": "execute_result"
    }
   ],
   "source": [
    "snps_d2_un = snps_d1d2[snps_d1d2['_merge'] == 'right_only']\n",
    "snps_d2_un.shape"
   ]
  },
  {
   "cell_type": "code",
   "execution_count": 91,
   "id": "6682e49b",
   "metadata": {},
   "outputs": [],
   "source": [
    "\n",
    "snps_d2_un[['CHROM', 'POS', 'ID', 'REF', 'ALT', 'QUAL', 'FILTER']].to_csv('G2Pheno_dis2_uniq_variants.vcf', sep='\\t', index=False)"
   ]
  },
  {
   "cell_type": "code",
   "execution_count": 92,
   "id": "c53444f1",
   "metadata": {},
   "outputs": [],
   "source": [
    "! cat vcf_header.txt G2Pheno_dis2_uniq_variants.vcf > G2Ph_dis2_uniq.vcf\n",
    "! rm G2Pheno_dis2_uniq_variants.vcf\n",
    "! sed -i 's/CHROM/#CHROM/g' G2Ph_dis2_uniq.vcf"
   ]
  },
  {
   "cell_type": "markdown",
   "id": "33288e86",
   "metadata": {},
   "source": [
    "##### collect all missense and pLOF variants"
   ]
  },
  {
   "cell_type": "code",
   "execution_count": 93,
   "id": "be84518b",
   "metadata": {},
   "outputs": [
    {
     "data": {
      "text/html": [
       "<div>\n",
       "<style scoped>\n",
       "    .dataframe tbody tr th:only-of-type {\n",
       "        vertical-align: middle;\n",
       "    }\n",
       "\n",
       "    .dataframe tbody tr th {\n",
       "        vertical-align: top;\n",
       "    }\n",
       "\n",
       "    .dataframe thead th {\n",
       "        text-align: right;\n",
       "    }\n",
       "</style>\n",
       "<table border=\"1\" class=\"dataframe\">\n",
       "  <thead>\n",
       "    <tr style=\"text-align: right;\">\n",
       "      <th></th>\n",
       "      <th>CHROM</th>\n",
       "      <th>POS</th>\n",
       "      <th>ID</th>\n",
       "      <th>REF</th>\n",
       "      <th>ALT</th>\n",
       "      <th>QUAL</th>\n",
       "      <th>FILTER</th>\n",
       "      <th>AF_EXAC</th>\n",
       "      <th>CLNREVSTAT</th>\n",
       "      <th>CLNSIG</th>\n",
       "      <th>CLNVC</th>\n",
       "      <th>GENEINFO</th>\n",
       "      <th>OMIM</th>\n",
       "      <th>ORPHA</th>\n",
       "      <th>ncbi_gene_id</th>\n",
       "      <th>Inheritance</th>\n",
       "      <th>Ensembl</th>\n",
       "      <th>MIMs_per_Gene</th>\n",
       "      <th>MC</th>\n",
       "      <th>Variants_per_MIM</th>\n",
       "    </tr>\n",
       "  </thead>\n",
       "  <tbody>\n",
       "    <tr>\n",
       "      <th>0</th>\n",
       "      <td>chr1</td>\n",
       "      <td>1338007</td>\n",
       "      <td>931630</td>\n",
       "      <td>T</td>\n",
       "      <td>TGC</td>\n",
       "      <td>-10.0</td>\n",
       "      <td>PASS</td>\n",
       "      <td>NaN</td>\n",
       "      <td>criteria_provided,_single_submitter</td>\n",
       "      <td>Likely_pathogenic</td>\n",
       "      <td>Duplication</td>\n",
       "      <td>DVL1</td>\n",
       "      <td>OMIM:180700</td>\n",
       "      <td>Orphanet:3107,Orphanet:97360</td>\n",
       "      <td>1855</td>\n",
       "      <td>AD</td>\n",
       "      <td>ENSG00000107404</td>\n",
       "      <td>2</td>\n",
       "      <td>SO:0001589|frameshift_variant</td>\n",
       "      <td>2</td>\n",
       "    </tr>\n",
       "    <tr>\n",
       "      <th>1</th>\n",
       "      <td>chr1</td>\n",
       "      <td>1338053</td>\n",
       "      <td>208049</td>\n",
       "      <td>TG</td>\n",
       "      <td>T</td>\n",
       "      <td>-10.0</td>\n",
       "      <td>PASS</td>\n",
       "      <td>NaN</td>\n",
       "      <td>criteria_provided,_single_submitter</td>\n",
       "      <td>Pathogenic</td>\n",
       "      <td>Deletion</td>\n",
       "      <td>DVL1</td>\n",
       "      <td>OMIM:180700</td>\n",
       "      <td>Orphanet:3107,Orphanet:97360</td>\n",
       "      <td>1855</td>\n",
       "      <td>AD</td>\n",
       "      <td>ENSG00000107404</td>\n",
       "      <td>2</td>\n",
       "      <td>SO:0001589|frameshift_variant</td>\n",
       "      <td>2</td>\n",
       "    </tr>\n",
       "    <tr>\n",
       "      <th>2</th>\n",
       "      <td>chr1</td>\n",
       "      <td>1516567</td>\n",
       "      <td>1077177</td>\n",
       "      <td>CACACCTGGCTAATTTTTATATTTTTAGTAGAGTCGGGGTTTCACC...</td>\n",
       "      <td>C</td>\n",
       "      <td>-10.0</td>\n",
       "      <td>PASS</td>\n",
       "      <td>NaN</td>\n",
       "      <td>criteria_provided,_single_submitter</td>\n",
       "      <td>Pathogenic</td>\n",
       "      <td>Deletion</td>\n",
       "      <td>ATAD3A</td>\n",
       "      <td>OMIM:617183</td>\n",
       "      <td>Orphanet:496790</td>\n",
       "      <td>55210</td>\n",
       "      <td>ADAR</td>\n",
       "      <td>ENSG00000197785</td>\n",
       "      <td>2</td>\n",
       "      <td>SO:0001574|splice_acceptor_variant,SO:0001575|...</td>\n",
       "      <td>9</td>\n",
       "    </tr>\n",
       "    <tr>\n",
       "      <th>3</th>\n",
       "      <td>chr1</td>\n",
       "      <td>1517250</td>\n",
       "      <td>592109</td>\n",
       "      <td>GC</td>\n",
       "      <td>G</td>\n",
       "      <td>-10.0</td>\n",
       "      <td>PASS</td>\n",
       "      <td>NaN</td>\n",
       "      <td>no_assertion_criteria_provided</td>\n",
       "      <td>Likely_pathogenic</td>\n",
       "      <td>Deletion</td>\n",
       "      <td>ATAD3A</td>\n",
       "      <td>OMIM:617183</td>\n",
       "      <td>Orphanet:496790</td>\n",
       "      <td>55210</td>\n",
       "      <td>ADAR</td>\n",
       "      <td>ENSG00000197785</td>\n",
       "      <td>2</td>\n",
       "      <td>SO:0001589|frameshift_variant,SO:0001627|intro...</td>\n",
       "      <td>9</td>\n",
       "    </tr>\n",
       "    <tr>\n",
       "      <th>4</th>\n",
       "      <td>chr1</td>\n",
       "      <td>1523838</td>\n",
       "      <td>989289</td>\n",
       "      <td>G</td>\n",
       "      <td>T</td>\n",
       "      <td>-10.0</td>\n",
       "      <td>PASS</td>\n",
       "      <td>NaN</td>\n",
       "      <td>criteria_provided,_single_submitter</td>\n",
       "      <td>Likely_pathogenic</td>\n",
       "      <td>single_nucleotide_variant</td>\n",
       "      <td>ATAD3A</td>\n",
       "      <td>OMIM:617183</td>\n",
       "      <td>Orphanet:496790</td>\n",
       "      <td>55210</td>\n",
       "      <td>ADAR</td>\n",
       "      <td>ENSG00000197785</td>\n",
       "      <td>2</td>\n",
       "      <td>SO:0001574|splice_acceptor_variant</td>\n",
       "      <td>9</td>\n",
       "    </tr>\n",
       "    <tr>\n",
       "      <th>...</th>\n",
       "      <td>...</td>\n",
       "      <td>...</td>\n",
       "      <td>...</td>\n",
       "      <td>...</td>\n",
       "      <td>...</td>\n",
       "      <td>...</td>\n",
       "      <td>...</td>\n",
       "      <td>...</td>\n",
       "      <td>...</td>\n",
       "      <td>...</td>\n",
       "      <td>...</td>\n",
       "      <td>...</td>\n",
       "      <td>...</td>\n",
       "      <td>...</td>\n",
       "      <td>...</td>\n",
       "      <td>...</td>\n",
       "      <td>...</td>\n",
       "      <td>...</td>\n",
       "      <td>...</td>\n",
       "      <td>...</td>\n",
       "    </tr>\n",
       "    <tr>\n",
       "      <th>19081</th>\n",
       "      <td>chrX</td>\n",
       "      <td>154997038</td>\n",
       "      <td>10167</td>\n",
       "      <td>T</td>\n",
       "      <td>G</td>\n",
       "      <td>-10.0</td>\n",
       "      <td>PASS</td>\n",
       "      <td>NaN</td>\n",
       "      <td>criteria_provided,_multiple_submitters,_no_con...</td>\n",
       "      <td>Pathogenic</td>\n",
       "      <td>single_nucleotide_variant</td>\n",
       "      <td>F8</td>\n",
       "      <td>OMIM:301071</td>\n",
       "      <td>NaN</td>\n",
       "      <td>2157</td>\n",
       "      <td>XL</td>\n",
       "      <td>ENSG00000185010</td>\n",
       "      <td>2</td>\n",
       "      <td>SO:0001583|missense_variant</td>\n",
       "      <td>27</td>\n",
       "    </tr>\n",
       "    <tr>\n",
       "      <th>19082</th>\n",
       "      <td>chrX</td>\n",
       "      <td>155022432</td>\n",
       "      <td>10156</td>\n",
       "      <td>C</td>\n",
       "      <td>A</td>\n",
       "      <td>-10.0</td>\n",
       "      <td>PASS</td>\n",
       "      <td>NaN</td>\n",
       "      <td>criteria_provided,_single_submitter</td>\n",
       "      <td>Pathogenic</td>\n",
       "      <td>single_nucleotide_variant</td>\n",
       "      <td>F8</td>\n",
       "      <td>OMIM:301071</td>\n",
       "      <td>NaN</td>\n",
       "      <td>2157</td>\n",
       "      <td>XL</td>\n",
       "      <td>ENSG00000185010</td>\n",
       "      <td>2</td>\n",
       "      <td>SO:0001583|missense_variant</td>\n",
       "      <td>27</td>\n",
       "    </tr>\n",
       "    <tr>\n",
       "      <th>19083</th>\n",
       "      <td>chrX</td>\n",
       "      <td>155260886</td>\n",
       "      <td>436462</td>\n",
       "      <td>C</td>\n",
       "      <td>A</td>\n",
       "      <td>-10.0</td>\n",
       "      <td>PASS</td>\n",
       "      <td>NaN</td>\n",
       "      <td>criteria_provided,_single_submitter</td>\n",
       "      <td>Pathogenic</td>\n",
       "      <td>single_nucleotide_variant</td>\n",
       "      <td>RAB39B</td>\n",
       "      <td>OMIM:300271</td>\n",
       "      <td>Orphanet:777</td>\n",
       "      <td>116442</td>\n",
       "      <td>XL</td>\n",
       "      <td>ENSG00000155961</td>\n",
       "      <td>2</td>\n",
       "      <td>SO:0001587|nonsense</td>\n",
       "      <td>3</td>\n",
       "    </tr>\n",
       "    <tr>\n",
       "      <th>19084</th>\n",
       "      <td>chrX</td>\n",
       "      <td>155264073</td>\n",
       "      <td>10542</td>\n",
       "      <td>C</td>\n",
       "      <td>T</td>\n",
       "      <td>-10.0</td>\n",
       "      <td>PASS</td>\n",
       "      <td>NaN</td>\n",
       "      <td>no_assertion_criteria_provided</td>\n",
       "      <td>Pathogenic</td>\n",
       "      <td>single_nucleotide_variant</td>\n",
       "      <td>RAB39B</td>\n",
       "      <td>OMIM:300271</td>\n",
       "      <td>Orphanet:777</td>\n",
       "      <td>116442</td>\n",
       "      <td>XL</td>\n",
       "      <td>ENSG00000155961</td>\n",
       "      <td>2</td>\n",
       "      <td>SO:0001575|splice_donor_variant</td>\n",
       "      <td>3</td>\n",
       "    </tr>\n",
       "    <tr>\n",
       "      <th>19085</th>\n",
       "      <td>chrX</td>\n",
       "      <td>155264268</td>\n",
       "      <td>10543</td>\n",
       "      <td>G</td>\n",
       "      <td>T</td>\n",
       "      <td>-10.0</td>\n",
       "      <td>PASS</td>\n",
       "      <td>NaN</td>\n",
       "      <td>no_assertion_criteria_provided</td>\n",
       "      <td>Pathogenic</td>\n",
       "      <td>single_nucleotide_variant</td>\n",
       "      <td>RAB39B</td>\n",
       "      <td>OMIM:300271</td>\n",
       "      <td>Orphanet:777</td>\n",
       "      <td>116442</td>\n",
       "      <td>XL</td>\n",
       "      <td>ENSG00000155961</td>\n",
       "      <td>2</td>\n",
       "      <td>SO:0001587|nonsense</td>\n",
       "      <td>3</td>\n",
       "    </tr>\n",
       "  </tbody>\n",
       "</table>\n",
       "<p>19086 rows × 20 columns</p>\n",
       "</div>"
      ],
      "text/plain": [
       "      CHROM        POS       ID  \\\n",
       "0      chr1    1338007   931630   \n",
       "1      chr1    1338053   208049   \n",
       "2      chr1    1516567  1077177   \n",
       "3      chr1    1517250   592109   \n",
       "4      chr1    1523838   989289   \n",
       "...     ...        ...      ...   \n",
       "19081  chrX  154997038    10167   \n",
       "19082  chrX  155022432    10156   \n",
       "19083  chrX  155260886   436462   \n",
       "19084  chrX  155264073    10542   \n",
       "19085  chrX  155264268    10543   \n",
       "\n",
       "                                                     REF  ALT  QUAL FILTER  \\\n",
       "0                                                      T  TGC -10.0   PASS   \n",
       "1                                                     TG    T -10.0   PASS   \n",
       "2      CACACCTGGCTAATTTTTATATTTTTAGTAGAGTCGGGGTTTCACC...    C -10.0   PASS   \n",
       "3                                                     GC    G -10.0   PASS   \n",
       "4                                                      G    T -10.0   PASS   \n",
       "...                                                  ...  ...   ...    ...   \n",
       "19081                                                  T    G -10.0   PASS   \n",
       "19082                                                  C    A -10.0   PASS   \n",
       "19083                                                  C    A -10.0   PASS   \n",
       "19084                                                  C    T -10.0   PASS   \n",
       "19085                                                  G    T -10.0   PASS   \n",
       "\n",
       "       AF_EXAC                                         CLNREVSTAT  \\\n",
       "0          NaN                criteria_provided,_single_submitter   \n",
       "1          NaN                criteria_provided,_single_submitter   \n",
       "2          NaN                criteria_provided,_single_submitter   \n",
       "3          NaN                     no_assertion_criteria_provided   \n",
       "4          NaN                criteria_provided,_single_submitter   \n",
       "...        ...                                                ...   \n",
       "19081      NaN  criteria_provided,_multiple_submitters,_no_con...   \n",
       "19082      NaN                criteria_provided,_single_submitter   \n",
       "19083      NaN                criteria_provided,_single_submitter   \n",
       "19084      NaN                     no_assertion_criteria_provided   \n",
       "19085      NaN                     no_assertion_criteria_provided   \n",
       "\n",
       "                  CLNSIG                      CLNVC GENEINFO         OMIM  \\\n",
       "0      Likely_pathogenic                Duplication     DVL1  OMIM:180700   \n",
       "1             Pathogenic                   Deletion     DVL1  OMIM:180700   \n",
       "2             Pathogenic                   Deletion   ATAD3A  OMIM:617183   \n",
       "3      Likely_pathogenic                   Deletion   ATAD3A  OMIM:617183   \n",
       "4      Likely_pathogenic  single_nucleotide_variant   ATAD3A  OMIM:617183   \n",
       "...                  ...                        ...      ...          ...   \n",
       "19081         Pathogenic  single_nucleotide_variant       F8  OMIM:301071   \n",
       "19082         Pathogenic  single_nucleotide_variant       F8  OMIM:301071   \n",
       "19083         Pathogenic  single_nucleotide_variant   RAB39B  OMIM:300271   \n",
       "19084         Pathogenic  single_nucleotide_variant   RAB39B  OMIM:300271   \n",
       "19085         Pathogenic  single_nucleotide_variant   RAB39B  OMIM:300271   \n",
       "\n",
       "                              ORPHA  ncbi_gene_id Inheritance  \\\n",
       "0      Orphanet:3107,Orphanet:97360          1855          AD   \n",
       "1      Orphanet:3107,Orphanet:97360          1855          AD   \n",
       "2                   Orphanet:496790         55210        ADAR   \n",
       "3                   Orphanet:496790         55210        ADAR   \n",
       "4                   Orphanet:496790         55210        ADAR   \n",
       "...                             ...           ...         ...   \n",
       "19081                           NaN          2157          XL   \n",
       "19082                           NaN          2157          XL   \n",
       "19083                  Orphanet:777        116442          XL   \n",
       "19084                  Orphanet:777        116442          XL   \n",
       "19085                  Orphanet:777        116442          XL   \n",
       "\n",
       "               Ensembl  MIMs_per_Gene  \\\n",
       "0      ENSG00000107404              2   \n",
       "1      ENSG00000107404              2   \n",
       "2      ENSG00000197785              2   \n",
       "3      ENSG00000197785              2   \n",
       "4      ENSG00000197785              2   \n",
       "...                ...            ...   \n",
       "19081  ENSG00000185010              2   \n",
       "19082  ENSG00000185010              2   \n",
       "19083  ENSG00000155961              2   \n",
       "19084  ENSG00000155961              2   \n",
       "19085  ENSG00000155961              2   \n",
       "\n",
       "                                                      MC  Variants_per_MIM  \n",
       "0                          SO:0001589|frameshift_variant                 2  \n",
       "1                          SO:0001589|frameshift_variant                 2  \n",
       "2      SO:0001574|splice_acceptor_variant,SO:0001575|...                 9  \n",
       "3      SO:0001589|frameshift_variant,SO:0001627|intro...                 9  \n",
       "4                     SO:0001574|splice_acceptor_variant                 9  \n",
       "...                                                  ...               ...  \n",
       "19081                        SO:0001583|missense_variant                27  \n",
       "19082                        SO:0001583|missense_variant                27  \n",
       "19083                                SO:0001587|nonsense                 3  \n",
       "19084                    SO:0001575|splice_donor_variant                 3  \n",
       "19085                                SO:0001587|nonsense                 3  \n",
       "\n",
       "[19086 rows x 20 columns]"
      ]
     },
     "execution_count": 93,
     "metadata": {},
     "output_type": "execute_result"
    }
   ],
   "source": [
    "df_dis1"
   ]
  },
  {
   "cell_type": "code",
   "execution_count": 94,
   "id": "160c437e",
   "metadata": {},
   "outputs": [],
   "source": [
    "# subset missense variants dis1\n",
    "\n",
    "df_dis1_miss = df_dis1[df_dis1['MC'].str.contains('missense', na=False, case=False, regex=False)]"
   ]
  },
  {
   "cell_type": "code",
   "execution_count": 98,
   "id": "a9e45e51",
   "metadata": {},
   "outputs": [],
   "source": [
    "df_dis1_miss[['CHROM', 'POS', 'ID', 'REF', 'ALT', 'QUAL', 'FILTER']].to_csv('Gene2Pheno_dis1_miss.vcf', sep='\\t', index=False)"
   ]
  },
  {
   "cell_type": "code",
   "execution_count": 99,
   "id": "13202e7f",
   "metadata": {},
   "outputs": [],
   "source": [
    "! cat vcf_header.txt Gene2Pheno_dis1_miss.vcf > G2Ph_dis1_miss.vcf\n",
    "! rm Gene2Pheno_dis1_miss.vcf \n",
    "! sed -i 's/CHROM/#CHROM/g' G2Ph_dis1_miss.vcf"
   ]
  },
  {
   "cell_type": "raw",
   "id": "a15f776c",
   "metadata": {},
   "source": []
  },
  {
   "cell_type": "code",
   "execution_count": 100,
   "id": "9bf97d02",
   "metadata": {},
   "outputs": [],
   "source": [
    "# subset pLOF variants dis2\n",
    " \n",
    "df_dis1_plof = df_dis1[~df_dis1['MC'].str.contains('missense', na=False, case=False, regex=False)]\n",
    "df_dis1_plof = df_dis1_plof[df_dis1_plof['MC'].str.contains('frameshift') | df_dis1_plof['MC'].str.contains('stop_gained') | df_dis1_plof['MC'].str.contains('splice_donor') | df_dis1_plof['MC'].str.contains('splice_acceptor')]"
   ]
  },
  {
   "cell_type": "code",
   "execution_count": 101,
   "id": "f52a1866",
   "metadata": {},
   "outputs": [],
   "source": [
    "df_dis1_plof[['CHROM', 'POS', 'ID', 'REF', 'ALT', 'QUAL', 'FILTER']].to_csv('Gene2Pheno_dis1_plof.vcf', sep='\\t', index=False)"
   ]
  },
  {
   "cell_type": "code",
   "execution_count": 102,
   "id": "3ba3a55f",
   "metadata": {},
   "outputs": [],
   "source": [
    "! cat vcf_header.txt Gene2Pheno_dis1_plof.vcf > G2Ph_dis1_plof.vcf\n",
    "! rm Gene2Pheno_dis1_plof.vcf \n",
    "! sed -i 's/CHROM/#CHROM/g' G2Ph_dis1_plof.vcf"
   ]
  },
  {
   "cell_type": "raw",
   "id": "afb1e856",
   "metadata": {},
   "source": []
  },
  {
   "cell_type": "code",
   "execution_count": 103,
   "id": "2ab5b3c5",
   "metadata": {},
   "outputs": [],
   "source": [
    "# subset missense variants dis2\n",
    "\n",
    "df_dis2_miss = df_dis2[df_dis2['MC'].str.contains('missense', na=False, case=False, regex=False)]"
   ]
  },
  {
   "cell_type": "code",
   "execution_count": 104,
   "id": "28dd8f83",
   "metadata": {},
   "outputs": [
    {
     "data": {
      "text/plain": [
       "(3907, 20)"
      ]
     },
     "execution_count": 104,
     "metadata": {},
     "output_type": "execute_result"
    }
   ],
   "source": [
    "df_dis2_miss.shape"
   ]
  },
  {
   "cell_type": "code",
   "execution_count": 105,
   "id": "2d76e784",
   "metadata": {},
   "outputs": [],
   "source": [
    "df_dis2_miss[['CHROM', 'POS', 'ID', 'REF', 'ALT', 'QUAL', 'FILTER']].to_csv('Gene2Pheno_dis2_miss.vcf', sep='\\t', index=False)"
   ]
  },
  {
   "cell_type": "code",
   "execution_count": 106,
   "id": "ae28741c",
   "metadata": {},
   "outputs": [],
   "source": [
    "! cat vcf_header.txt Gene2Pheno_dis2_miss.vcf > G2Ph_dis2_miss.vcf\n",
    "! rm Gene2Pheno_dis2_miss.vcf \n",
    "! sed -i 's/CHROM/#CHROM/g' G2Ph_dis2_miss.vcf"
   ]
  },
  {
   "cell_type": "raw",
   "id": "2c0b3cdf",
   "metadata": {},
   "source": []
  },
  {
   "cell_type": "code",
   "execution_count": 107,
   "id": "1145a772",
   "metadata": {},
   "outputs": [],
   "source": [
    "# subset pLOF variants dis2\n",
    "\n",
    "df_dis2_plof = df_dis2[~df_dis2['MC'].str.contains('missense',na=False, case=False, regex=False)]\n",
    "df_dis2_plof = df_dis2_plof[df_dis2_plof['MC'].str.contains('frameshift', na=False, case=False, regex=False) | df_dis2_plof['MC'].str.contains('stop_gained', na=False, case=False, regex=False) | df_dis2_plof['MC'].str.contains('splice_donor', na=False, case=False, regex=False) | df_dis2_plof['MC'].str.contains('splice_acceptor', na=False, case=False, regex=False)]"
   ]
  },
  {
   "cell_type": "code",
   "execution_count": 108,
   "id": "dec41067",
   "metadata": {},
   "outputs": [],
   "source": [
    "df_dis2_plof[['CHROM', 'POS', 'ID', 'REF', 'ALT', 'QUAL', 'FILTER']].to_csv('Gene2Pheno_dis2_plof.vcf', sep='\\t', index=False)"
   ]
  },
  {
   "cell_type": "code",
   "execution_count": 109,
   "id": "21e8a37d",
   "metadata": {},
   "outputs": [],
   "source": [
    "! cat vcf_header.txt Gene2Pheno_dis2_plof.vcf > G2Ph_dis2_plof.vcf\n",
    "! rm Gene2Pheno_dis2_plof.vcf \n",
    "! sed -i 's/CHROM/#CHROM/g' G2Ph_dis2_plof.vcf"
   ]
  },
  {
   "cell_type": "markdown",
   "id": "390a0082",
   "metadata": {},
   "source": [
    "##### collect missense and pLOF variants without pleiotropic effect "
   ]
  },
  {
   "cell_type": "code",
   "execution_count": 110,
   "id": "8d92900d",
   "metadata": {},
   "outputs": [
    {
     "name": "stdout",
     "output_type": "stream",
     "text": [
      "(7447, 8)\n",
      "(1362, 8)\n"
     ]
    }
   ],
   "source": [
    "# rm missense variants that have association with both diseases\n",
    "\n",
    "snps_dis1_m = df_dis1_miss[['CHROM', 'POS', 'ID', 'REF', 'ALT', 'QUAL', 'FILTER']]\n",
    "snps_dis2_m = df_dis2_miss[['CHROM', 'POS', 'ID', 'REF', 'ALT', 'QUAL', 'FILTER']]\n",
    "snps_d1d2_m = pd.merge(snps_dis1_m, snps_dis2_m, how='outer', indicator=True)\n",
    "\n",
    "print(snps_d1d2_m.shape)\n",
    "print(snps_d1d2_m[snps_d1d2_m['_merge'] == 'both'].shape)"
   ]
  },
  {
   "cell_type": "code",
   "execution_count": 111,
   "id": "623610f5",
   "metadata": {},
   "outputs": [
    {
     "data": {
      "text/html": [
       "<div>\n",
       "<style scoped>\n",
       "    .dataframe tbody tr th:only-of-type {\n",
       "        vertical-align: middle;\n",
       "    }\n",
       "\n",
       "    .dataframe tbody tr th {\n",
       "        vertical-align: top;\n",
       "    }\n",
       "\n",
       "    .dataframe thead th {\n",
       "        text-align: right;\n",
       "    }\n",
       "</style>\n",
       "<table border=\"1\" class=\"dataframe\">\n",
       "  <thead>\n",
       "    <tr style=\"text-align: right;\">\n",
       "      <th></th>\n",
       "      <th>CHROM</th>\n",
       "      <th>POS</th>\n",
       "      <th>ID</th>\n",
       "      <th>REF</th>\n",
       "      <th>ALT</th>\n",
       "      <th>QUAL</th>\n",
       "      <th>FILTER</th>\n",
       "      <th>_merge</th>\n",
       "    </tr>\n",
       "  </thead>\n",
       "  <tbody>\n",
       "    <tr>\n",
       "      <th>0</th>\n",
       "      <td>chr1</td>\n",
       "      <td>1527718</td>\n",
       "      <td>1685550</td>\n",
       "      <td>A</td>\n",
       "      <td>G</td>\n",
       "      <td>-10.0</td>\n",
       "      <td>PASS</td>\n",
       "      <td>left_only</td>\n",
       "    </tr>\n",
       "    <tr>\n",
       "      <th>1</th>\n",
       "      <td>chr1</td>\n",
       "      <td>1529299</td>\n",
       "      <td>225696</td>\n",
       "      <td>C</td>\n",
       "      <td>T</td>\n",
       "      <td>-10.0</td>\n",
       "      <td>PASS</td>\n",
       "      <td>left_only</td>\n",
       "    </tr>\n",
       "    <tr>\n",
       "      <th>2</th>\n",
       "      <td>chr1</td>\n",
       "      <td>1529300</td>\n",
       "      <td>1679823</td>\n",
       "      <td>G</td>\n",
       "      <td>A</td>\n",
       "      <td>-10.0</td>\n",
       "      <td>PASS</td>\n",
       "      <td>left_only</td>\n",
       "    </tr>\n",
       "    <tr>\n",
       "      <th>3</th>\n",
       "      <td>chr1</td>\n",
       "      <td>2406569</td>\n",
       "      <td>1686018</td>\n",
       "      <td>C</td>\n",
       "      <td>G</td>\n",
       "      <td>-10.0</td>\n",
       "      <td>PASS</td>\n",
       "      <td>left_only</td>\n",
       "    </tr>\n",
       "    <tr>\n",
       "      <th>6</th>\n",
       "      <td>chr1</td>\n",
       "      <td>5863915</td>\n",
       "      <td>974483</td>\n",
       "      <td>A</td>\n",
       "      <td>G</td>\n",
       "      <td>-10.0</td>\n",
       "      <td>PASS</td>\n",
       "      <td>left_only</td>\n",
       "    </tr>\n",
       "  </tbody>\n",
       "</table>\n",
       "</div>"
      ],
      "text/plain": [
       "  CHROM      POS       ID REF ALT  QUAL FILTER     _merge\n",
       "0  chr1  1527718  1685550   A   G -10.0   PASS  left_only\n",
       "1  chr1  1529299   225696   C   T -10.0   PASS  left_only\n",
       "2  chr1  1529300  1679823   G   A -10.0   PASS  left_only\n",
       "3  chr1  2406569  1686018   C   G -10.0   PASS  left_only\n",
       "6  chr1  5863915   974483   A   G -10.0   PASS  left_only"
      ]
     },
     "execution_count": 111,
     "metadata": {},
     "output_type": "execute_result"
    }
   ],
   "source": [
    "snps_d1d2_m = snps_d1d2_m[snps_d1d2_m['_merge'] != 'both']\n",
    "snps_d1d2_m.head()"
   ]
  },
  {
   "cell_type": "code",
   "execution_count": 112,
   "id": "e62151c3",
   "metadata": {},
   "outputs": [
    {
     "data": {
      "text/plain": [
       "(3540, 8)"
      ]
     },
     "execution_count": 112,
     "metadata": {},
     "output_type": "execute_result"
    }
   ],
   "source": [
    "snps_d1_m_un = snps_d1d2_m[snps_d1d2_m['_merge'] == 'left_only']\n",
    "snps_d1_m_un.shape"
   ]
  },
  {
   "cell_type": "code",
   "execution_count": 113,
   "id": "59099e64",
   "metadata": {},
   "outputs": [],
   "source": [
    "snps_d1_m_un[['CHROM', 'POS', 'ID', 'REF', 'ALT', 'QUAL', 'FILTER']].to_csv('Gene2Pheno_dis1_uniq_miss.vcf', sep='\\t', index=False)"
   ]
  },
  {
   "cell_type": "code",
   "execution_count": 114,
   "id": "c020a967",
   "metadata": {},
   "outputs": [],
   "source": [
    "! cat vcf_header.txt Gene2Pheno_dis1_uniq_miss.vcf > G2Ph_dis1_uniq_miss.vcf\n",
    "! rm Gene2Pheno_dis1_uniq_miss.vcf\n",
    "! sed -i 's/CHROM/#CHROM/g' G2Ph_dis1_uniq_miss.vcf"
   ]
  },
  {
   "cell_type": "code",
   "execution_count": null,
   "id": "7aecef92",
   "metadata": {},
   "outputs": [],
   "source": []
  },
  {
   "cell_type": "code",
   "execution_count": 115,
   "id": "e4957c13",
   "metadata": {},
   "outputs": [
    {
     "data": {
      "text/plain": [
       "(2545, 8)"
      ]
     },
     "execution_count": 115,
     "metadata": {},
     "output_type": "execute_result"
    }
   ],
   "source": [
    "snps_d2_m_un = snps_d1d2_m[snps_d1d2_m['_merge'] == 'right_only']\n",
    "snps_d2_m_un.shape"
   ]
  },
  {
   "cell_type": "code",
   "execution_count": 116,
   "id": "217e72d4",
   "metadata": {},
   "outputs": [],
   "source": [
    "\n",
    "snps_d2_m_un[['CHROM', 'POS', 'ID', 'REF', 'ALT', 'QUAL', 'FILTER']].to_csv('Gene2Pheno_dis2_uniq_miss.vcf', sep='\\t', index=False)"
   ]
  },
  {
   "cell_type": "code",
   "execution_count": 117,
   "id": "90c74286",
   "metadata": {},
   "outputs": [],
   "source": [
    "! cat vcf_header.txt ./VarCount/Gene2Pheno_dis2_uniq_miss.vcf > G2Ph_dis2_uniq_miss.vcf\n",
    "! rm Gene2Pheno_dis2_uniq_miss.vcf\n",
    "! sed -i 's/CHROM/#CHROM/g' G2Ph_dis2_uniq_miss.vcf"
   ]
  },
  {
   "cell_type": "raw",
   "id": "e7974a42",
   "metadata": {},
   "source": []
  },
  {
   "cell_type": "raw",
   "id": "0ce48e47",
   "metadata": {},
   "source": []
  },
  {
   "cell_type": "code",
   "execution_count": 118,
   "id": "294bf3fd",
   "metadata": {},
   "outputs": [
    {
     "name": "stdout",
     "output_type": "stream",
     "text": [
      "(12983, 8)\n",
      "(2863, 8)\n"
     ]
    }
   ],
   "source": [
    "# rm plof variants that have association with both diseases\n",
    "\n",
    "snps_dis1_p = df_dis1_plof[['CHROM', 'POS', 'ID', 'REF', 'ALT', 'QUAL', 'FILTER']]\n",
    "snps_dis2_p = df_dis2_plof[['CHROM', 'POS', 'ID', 'REF', 'ALT', 'QUAL', 'FILTER']]\n",
    "snps_d1d2_p = pd.merge(snps_dis1_p, snps_dis2_p, how='outer', indicator=True)\n",
    "\n",
    "print(snps_d1d2_p.shape)\n",
    "print(snps_d1d2_p[snps_d1d2_p['_merge'] == 'both'].shape)"
   ]
  },
  {
   "cell_type": "code",
   "execution_count": 119,
   "id": "0ebe87eb",
   "metadata": {},
   "outputs": [
    {
     "data": {
      "text/html": [
       "<div>\n",
       "<style scoped>\n",
       "    .dataframe tbody tr th:only-of-type {\n",
       "        vertical-align: middle;\n",
       "    }\n",
       "\n",
       "    .dataframe tbody tr th {\n",
       "        vertical-align: top;\n",
       "    }\n",
       "\n",
       "    .dataframe thead th {\n",
       "        text-align: right;\n",
       "    }\n",
       "</style>\n",
       "<table border=\"1\" class=\"dataframe\">\n",
       "  <thead>\n",
       "    <tr style=\"text-align: right;\">\n",
       "      <th></th>\n",
       "      <th>CHROM</th>\n",
       "      <th>POS</th>\n",
       "      <th>ID</th>\n",
       "      <th>REF</th>\n",
       "      <th>ALT</th>\n",
       "      <th>QUAL</th>\n",
       "      <th>FILTER</th>\n",
       "      <th>_merge</th>\n",
       "    </tr>\n",
       "  </thead>\n",
       "  <tbody>\n",
       "    <tr>\n",
       "      <th>0</th>\n",
       "      <td>chr1</td>\n",
       "      <td>1338007</td>\n",
       "      <td>931630</td>\n",
       "      <td>T</td>\n",
       "      <td>TGC</td>\n",
       "      <td>-10.0</td>\n",
       "      <td>PASS</td>\n",
       "      <td>left_only</td>\n",
       "    </tr>\n",
       "    <tr>\n",
       "      <th>2</th>\n",
       "      <td>chr1</td>\n",
       "      <td>1516567</td>\n",
       "      <td>1077177</td>\n",
       "      <td>CACACCTGGCTAATTTTTATATTTTTAGTAGAGTCGGGGTTTCACC...</td>\n",
       "      <td>C</td>\n",
       "      <td>-10.0</td>\n",
       "      <td>PASS</td>\n",
       "      <td>left_only</td>\n",
       "    </tr>\n",
       "    <tr>\n",
       "      <th>3</th>\n",
       "      <td>chr1</td>\n",
       "      <td>1517250</td>\n",
       "      <td>592109</td>\n",
       "      <td>GC</td>\n",
       "      <td>G</td>\n",
       "      <td>-10.0</td>\n",
       "      <td>PASS</td>\n",
       "      <td>left_only</td>\n",
       "    </tr>\n",
       "    <tr>\n",
       "      <th>4</th>\n",
       "      <td>chr1</td>\n",
       "      <td>1523838</td>\n",
       "      <td>989289</td>\n",
       "      <td>G</td>\n",
       "      <td>T</td>\n",
       "      <td>-10.0</td>\n",
       "      <td>PASS</td>\n",
       "      <td>left_only</td>\n",
       "    </tr>\n",
       "    <tr>\n",
       "      <th>5</th>\n",
       "      <td>chr1</td>\n",
       "      <td>1524323</td>\n",
       "      <td>992489</td>\n",
       "      <td>C</td>\n",
       "      <td>CG</td>\n",
       "      <td>-10.0</td>\n",
       "      <td>PASS</td>\n",
       "      <td>left_only</td>\n",
       "    </tr>\n",
       "  </tbody>\n",
       "</table>\n",
       "</div>"
      ],
      "text/plain": [
       "  CHROM      POS       ID                                                REF  \\\n",
       "0  chr1  1338007   931630                                                  T   \n",
       "2  chr1  1516567  1077177  CACACCTGGCTAATTTTTATATTTTTAGTAGAGTCGGGGTTTCACC...   \n",
       "3  chr1  1517250   592109                                                 GC   \n",
       "4  chr1  1523838   989289                                                  G   \n",
       "5  chr1  1524323   992489                                                  C   \n",
       "\n",
       "   ALT  QUAL FILTER     _merge  \n",
       "0  TGC -10.0   PASS  left_only  \n",
       "2    C -10.0   PASS  left_only  \n",
       "3    G -10.0   PASS  left_only  \n",
       "4    T -10.0   PASS  left_only  \n",
       "5   CG -10.0   PASS  left_only  "
      ]
     },
     "execution_count": 119,
     "metadata": {},
     "output_type": "execute_result"
    }
   ],
   "source": [
    "snps_d1d2_p = snps_d1d2_p[snps_d1d2_p['_merge'] != 'both']\n",
    "snps_d1d2_p.head()"
   ]
  },
  {
   "cell_type": "code",
   "execution_count": 120,
   "id": "9f9f699b",
   "metadata": {},
   "outputs": [
    {
     "data": {
      "text/plain": [
       "(5773, 8)"
      ]
     },
     "execution_count": 120,
     "metadata": {},
     "output_type": "execute_result"
    }
   ],
   "source": [
    "snps_d1_p_un = snps_d1d2_p[snps_d1d2_p['_merge'] == 'left_only']\n",
    "snps_d1_p_un.shape"
   ]
  },
  {
   "cell_type": "code",
   "execution_count": 121,
   "id": "130ad08d",
   "metadata": {},
   "outputs": [],
   "source": [
    "snps_d1_p_un[['CHROM', 'POS', 'ID', 'REF', 'ALT', 'QUAL', 'FILTER']].to_csv('Gene2Pheno_dis1_uniq_plof.vcf', sep='\\t', index=False)"
   ]
  },
  {
   "cell_type": "code",
   "execution_count": 122,
   "id": "843f69bd",
   "metadata": {},
   "outputs": [],
   "source": [
    "! cat vcf_header.txt Gene2Pheno_dis1_uniq_plof.vcf > G2Ph_dis1_uniq_plof.vcf\n",
    "! rm Gene2Pheno_dis1_uniq_plof.vcf\n",
    "! sed -i 's/CHROM/#CHROM/g' G2Ph_dis1_uniq_plof.vcf"
   ]
  },
  {
   "cell_type": "raw",
   "id": "96412677",
   "metadata": {},
   "source": []
  },
  {
   "cell_type": "code",
   "execution_count": 123,
   "id": "3d69f446",
   "metadata": {},
   "outputs": [
    {
     "data": {
      "text/plain": [
       "(4347, 8)"
      ]
     },
     "execution_count": 123,
     "metadata": {},
     "output_type": "execute_result"
    }
   ],
   "source": [
    "snps_d2_p_un = snps_d1d2_p[snps_d1d2_p['_merge'] == 'right_only']\n",
    "snps_d2_p_un.shape"
   ]
  },
  {
   "cell_type": "code",
   "execution_count": 124,
   "id": "9502a99d",
   "metadata": {},
   "outputs": [],
   "source": [
    "\n",
    "snps_d2_p_un[['CHROM', 'POS', 'ID', 'REF', 'ALT', 'QUAL', 'FILTER']].to_csv('Gene2Pheno_dis2_uniq_plof.vcf', sep='\\t', index=False)"
   ]
  },
  {
   "cell_type": "code",
   "execution_count": 125,
   "id": "9578d9ab",
   "metadata": {},
   "outputs": [],
   "source": [
    "! cat vcf_header.txt Gene2Pheno_dis2_uniq_plof.vcf > G2Ph_dis2_uniq_plof.vcf\n",
    "! rm Gene2Pheno_dis2_uniq_plof.vcf\n",
    "! sed -i 's/CHROM/#CHROM/g' G2Ph_dis2_uniq_plof.vcf"
   ]
  },
  {
   "cell_type": "markdown",
   "id": "f31e6d2a",
   "metadata": {},
   "source": [
    "### Analysis of variants loclization and variant type"
   ]
  },
  {
   "cell_type": "markdown",
   "id": "97c15841",
   "metadata": {},
   "source": [
    "#### Data for the analysis:\n",
    "\n",
    "###### - List of canonical transcripts (source: Ensembl BioMart). PathTo: ./data/canonical_transcripts.txt\n",
    "\n",
    "###### - Gencode annotation\n",
    "\n",
    "###### - Selected genes list (Ensembl IDs). PathTo: ./VarCount/G2Ph_ensembl_list.csv\n",
    "\n",
    "###### - Selected variants annotated to diseases (.vcf)"
   ]
  },
  {
   "cell_type": "markdown",
   "id": "65f8f4dc",
   "metadata": {},
   "source": [
    "### Variant localization"
   ]
  },
  {
   "cell_type": "code",
   "execution_count": null,
   "id": "a36e3a7c",
   "metadata": {},
   "outputs": [],
   "source": [
    "# Split canonical transcript on 5 equal intervals and collect all variants asscoiated with each disease connected to the gene\n",
    "! bash ./script/g2ph_countvariants_b5all.sh"
   ]
  },
  {
   "cell_type": "code",
   "execution_count": null,
   "id": "c5f832e5",
   "metadata": {},
   "outputs": [],
   "source": [
    "# Split canonical transcript on 2 equal intervals and collect all variants asscoiated with each disease connected to the gene\n",
    "! bash ./script/g2ph_countvariants_b2all.sh"
   ]
  },
  {
   "cell_type": "code",
   "execution_count": null,
   "id": "652dbb08",
   "metadata": {},
   "outputs": [],
   "source": [
    "# Split canonical transcript on 5 equal intervals and collect variants w/o pleiotropic effect for each disease connected to the gene\n",
    "! bash ./script/g2ph_countvariants_b5u.sh"
   ]
  },
  {
   "cell_type": "code",
   "execution_count": null,
   "id": "913839dc",
   "metadata": {},
   "outputs": [],
   "source": [
    "# Split canonical transcript on 2 equal intervals and collect variants w/o pleiotropic effect for each disease connected to the gene\n",
    "! bash ./script/g2ph_countvariants_b2u.sh"
   ]
  },
  {
   "cell_type": "markdown",
   "id": "1c5fe576",
   "metadata": {},
   "source": [
    "### Variant type"
   ]
  },
  {
   "cell_type": "code",
   "execution_count": null,
   "id": "e393033a",
   "metadata": {},
   "outputs": [],
   "source": [
    "# Collect all missense variants and all pLOF variants \n",
    "! bash ./script/g2ph_countvariants_mp_all.sh"
   ]
  },
  {
   "cell_type": "code",
   "execution_count": null,
   "id": "83db1d47",
   "metadata": {},
   "outputs": [],
   "source": [
    "# Collect missense variants and all pLOF variants  w/o pleiotropic effect\n",
    "! bash ./script/g2ph_countvariants_mp_u.sh"
   ]
  },
  {
   "cell_type": "markdown",
   "id": "7efe1efd",
   "metadata": {},
   "source": [
    "####  Fisher's exact test"
   ]
  },
  {
   "cell_type": "code",
   "execution_count": 126,
   "id": "d71c1322",
   "metadata": {},
   "outputs": [],
   "source": [
    "%%R\n",
    "\n",
    "## Q-Q plot ##\n",
    "# source:   https://slowkow.com/notes/ggplot2-qqplot\n",
    "gg_qqplot <- function(ps, ci = 0.95) {\n",
    "  n  <- length(ps)   # number of observations\n",
    "  df1 <- data.frame(\n",
    "    observed = -log10(sort(ps)),\n",
    "    expected = -log10(ppoints(n)),   # prediction based on number of observations\n",
    "    clower   = -log10(qbeta(p = (1 - ci) / 2, shape1 = 1:n, shape2 = n:1)),\n",
    "    cupper   = -log10(qbeta(p = (1 + ci) / 2, shape1 = 1:n, shape2 = n:1))\n",
    "  )\n",
    "  log10Pe <- expression(paste(\"Expected -log\"[10], plain(P)))\n",
    "  log10Po <- expression(paste(\"Observed -log\"[10], plain(P)))\n",
    "  ggplot(df1) +\n",
    "    geom_ribbon(\n",
    "      mapping = aes(x = expected, ymin = clower, ymax = cupper),\n",
    "      alpha = 0.1\n",
    "    ) +\n",
    "    geom_point(aes(expected, observed), shape = 1, size = 3) +\n",
    "    geom_abline(intercept = 0, slope = 1, alpha = 0.5) +\n",
    "    xlab(log10Pe) +\n",
    "    ylab(log10Po)\n",
    "}"
   ]
  },
  {
   "cell_type": "code",
   "execution_count": 127,
   "id": "7a560a6b",
   "metadata": {},
   "outputs": [],
   "source": [
    "%%R\n",
    "\n",
    "# results illustration\n",
    "plot_fisher <- function(fisher_res){\n",
    "    \n",
    "    #   Q-Q plot\n",
    "    qqplot <- gg_qqplot(as.numeric(fisher_res$p_value)) +\n",
    "    theme_bw(base_size = 14) +theme(axis.ticks = element_line(size = 0.5),panel.grid = element_blank())\n",
    "    \n",
    "    print(qqplot)\n",
    "    \n",
    "    #   Barplot\n",
    "    pval_count <- fisher_res%>% \n",
    "      group_by(pvalue_interval) %>%\n",
    "      summarize(count = n()) %>%\n",
    "      mutate(prop = (count/sum(count)))\n",
    "    \n",
    "    pval_barpl <- ggplot(pval_count, aes(x=factor(pvalue_interval), y=prop)) + geom_bar(stat='identity', fill='blue', alpha=0.4)+ theme_bw() + xlab(NULL) + theme(axis.text = element_text(size = 12), axis.title =  element_text(size=14), \n",
    "    legend.text=element_text(size=10)) +  ylab('p-value distribution') #+  scale_y_continuous(labels = percent_format())\n",
    "    \n",
    "    #print(pval_barpl)    \n",
    "}"
   ]
  },
  {
   "cell_type": "markdown",
   "id": "a3bf8ff8",
   "metadata": {},
   "source": [
    "##### Parse results of splitting CDS on 5 intervals"
   ]
  },
  {
   "cell_type": "code",
   "execution_count": 128,
   "id": "bf97fccd",
   "metadata": {},
   "outputs": [],
   "source": [
    "%%R\n",
    "\n",
    "fisher_b5 <- function(bins5){\n",
    "    \n",
    "    colnames(bins5) <- c('Ensembl', 'd1_1', 'd1_2', 'd1_3', 'd1_4', 'd1_5', \n",
    "                     'd2_1','d2_2','d2_3','d2_4','d2_5')\n",
    "    bins5$Ensembl <- as.character(bins5$Ensembl)\n",
    "    \n",
    "    # filter results - rm genes with less than 5 associated variants per disease\n",
    "    bins5 <- bins5 %>% filter((rowSums(bins5[ , c(2:6)], na.rm=TRUE) >=5) & (rowSums(bins5[ , c(7:11)], na.rm=TRUE) >=5))\n",
    "    \n",
    "    fisher_res <- data.frame(matrix(ncol=2, nrow=0))   \n",
    "    colnames(fisher_res) <- c('Ensembl', 'p_value')\n",
    "    \n",
    "    # Fiher's exact test\n",
    "    for (r in 1:nrow(bins5)){   \n",
    "        matr <- matrix(c(as.numeric(bins5[r,2:ncol(bins5)])),ncol=(ncol(bins5)-1)/2, byrow=T)\n",
    "        if (all(matr == 0)){   # exclude genes with no variants\n",
    "            next\n",
    "        }\n",
    "        test <- fisher.test(matr,workspace = 2e8)\n",
    "        fisher_res[nrow(fisher_res) + 1,] <- c(bins5[r,1], as.numeric(test$p.value))   # add gene_id and p-value\n",
    "    }\n",
    "    df <- merge(fisher_res, bins5, by='Ensembl', all.x = TRUE)\n",
    "    \n",
    "    # adjust p-value\n",
    "    df$p_value <- as.numeric(df$p_value)   \n",
    "    df$p_adj <-p.adjust(df$p_value, method = \"fdr\")\n",
    "    df$log_pvalue <- -log10(as.numeric(df$p_value)) \n",
    "    df$log_padj <- -log10(as.numeric(df$p_adj)) \n",
    "    \n",
    " \n",
    "    df <- df %>%\n",
    "     mutate(pvalue_interval = case_when(\n",
    "     p_value < 0.1 ~ \"0-0.1\", \n",
    "     p_value >= 0.1 & p_value < 0.2 ~ \"0.1-0.2\",\n",
    "     p_value >= 0.2 & p_value < 0.3 ~ \"0.2-0.3\",\n",
    "     p_value >= 0.3 & p_value < 0.4 ~ \"0.3-0.4\",\n",
    "     p_value >= 0.4 & p_value < 0.5 ~ \"0.4-0.5\",\n",
    "     p_value >= 0.5 & p_value < 0.6 ~ \"0.5-0.6\",\n",
    "     p_value >= 0.6 & p_value < 0.7 ~ \"0.6-0.7\",\n",
    "     p_value >= 0.7 & p_value < 0.8 ~ \"0.7-0.8\",\n",
    "     p_value >= 0.8 & p_value < 0.9 ~ \"0.8-0.9\",\n",
    "     p_value >= 0.9 ~ \"0.9-1\"))\n",
    "    \n",
    "    df$pvalue_interval <- as.factor(df$pvalue_interval)\n",
    "    \n",
    "    df <- df[ ,c(1,16,2,14,13,15,3,4,5,6,7,8,9,10,11,12)]\n",
    "   \n",
    "}"
   ]
  },
  {
   "cell_type": "code",
   "execution_count": 129,
   "id": "a7d5e65f",
   "metadata": {},
   "outputs": [
    {
     "data": {
      "image/png": "[encoded data removed]",
      "text/plain": [
       "<IPython.core.display.Image object>"
      ]
     },
     "metadata": {},
     "output_type": "display_data"
    }
   ],
   "source": [
    "%%R\n",
    "\n",
    "# Load data: all genes associated with 2 diseases, all variants\n",
    "bins5_all <- read.csv('G2Ph_bins5_all.csv', sep=',', header=T)\n",
    "\n",
    "# Fisher's exact test\n",
    "bins5_all_FT <- fisher_b5(bins5_all)\n",
    "\n",
    "# Plot results\n",
    "plot_fisher(bins5_all_FT)\n",
    "\n",
    "# Save results\n",
    "write.csv(bins5_all_FT,\"G2Ph_bins5_all_FT.csv\", row.names = FALSE, quote = F)\n",
    "\n"
   ]
  },
  {
   "cell_type": "markdown",
   "id": "b16698cd",
   "metadata": {},
   "source": [
    "#### Genes associated with 2 diseases split by inheritance pattern. CDSs are split on 5 intervals. All variants"
   ]
  },
  {
   "cell_type": "code",
   "execution_count": 130,
   "id": "9ff9ad50",
   "metadata": {},
   "outputs": [],
   "source": [
    "%%R\n",
    "\n",
    "# Load inheritance data\n",
    "g2ph_inh <- read.csv('Gene2Pheno_Inh.csv', sep='\\t', header=T)"
   ]
  },
  {
   "cell_type": "markdown",
   "id": "7f6c0e62",
   "metadata": {},
   "source": [
    "##### Same inheritance"
   ]
  },
  {
   "cell_type": "code",
   "execution_count": 131,
   "id": "46b3ba8d",
   "metadata": {},
   "outputs": [
    {
     "data": {
      "image/png": "[encoded data removed]",
      "text/plain": [
       "<IPython.core.display.Image object>"
      ]
     },
     "metadata": {},
     "output_type": "display_data"
    }
   ],
   "source": [
    "%%R\n",
    "\n",
    "# Add inheritance data to variant location analyisis\n",
    "bins5_all_inh <- merge(bins5_all, g2ph_inh, by='Ensembl', all.x=TRUE)\n",
    "\n",
    "# Subset \n",
    "bins5_all_SInh <- bins5_all_inh[bins5_all_inh$Inh_class =='2AD'| bins5_all_inh$Inh_class =='2AR',c(1:11)]\n",
    "\n",
    "# Fisher's exact test\n",
    "bins5_all_SInh_FT <- fisher_b5(bins5_all_SInh)\n",
    "\n",
    "# Plot results\n",
    "plot_fisher(bins5_all_SInh_FT)"
   ]
  },
  {
   "cell_type": "markdown",
   "id": "afd44a40",
   "metadata": {},
   "source": [
    "##### Different inheritance"
   ]
  },
  {
   "cell_type": "code",
   "execution_count": 132,
   "id": "7452eab5",
   "metadata": {},
   "outputs": [
    {
     "data": {
      "image/png": "[encoded data removed]",
      "text/plain": [
       "<IPython.core.display.Image object>"
      ]
     },
     "metadata": {},
     "output_type": "display_data"
    }
   ],
   "source": [
    "%%R\n",
    "# Add inheritance data to variant location analyisis\n",
    "bins5_all_inh <- merge(bins5_all, g2ph_inh, by='Ensembl', all.x=TRUE)\n",
    "\n",
    "# Subset \n",
    "bins5_all_DInh <- bins5_all_inh[bins5_all_inh$Inh_class =='ADAR',c(1:11)]\n",
    "\n",
    "# Fisher's exact test\n",
    "bins5_all_DInh_FT <- fisher_b5(bins5_all_DInh)\n",
    "\n",
    "# Plot results\n",
    "plot_fisher(bins5_all_DInh_FT)"
   ]
  },
  {
   "cell_type": "markdown",
   "id": "fc5ab968",
   "metadata": {},
   "source": [
    "#### Genes associated with 2 diseases.  CDSs are split on 5 intervals. No pleiotropic variants"
   ]
  },
  {
   "cell_type": "code",
   "execution_count": 134,
   "id": "6687d713",
   "metadata": {},
   "outputs": [
    {
     "data": {
      "image/png": "[encoded data removed]",
      "text/plain": [
       "<IPython.core.display.Image object>"
      ]
     },
     "metadata": {},
     "output_type": "display_data"
    }
   ],
   "source": [
    "%%R\n",
    "\n",
    "# Load data\n",
    "bins5_un <- read.csv('G2Ph_bins5_uniq.csv', sep=',', header=T)\n",
    "\n",
    "# Fisher's exact test\n",
    "bins5_uniq_FT <- fisher_b5(bins5_un)\n",
    "\n",
    "# Plot results\n",
    "plot_fisher(bins5_uniq_FT)\n",
    "\n",
    "# Save results\n",
    "\n",
    "write.csv(bins5_uniq_FT,\"G2Ph_bins5_uniq_FT.csv\", row.names = FALSE, quote = F)"
   ]
  },
  {
   "cell_type": "markdown",
   "id": "a8b1d573",
   "metadata": {},
   "source": [
    "### Analyse results for 2 intervals"
   ]
  },
  {
   "cell_type": "code",
   "execution_count": 137,
   "id": "d465e015",
   "metadata": {},
   "outputs": [],
   "source": [
    "%%R\n",
    "\n",
    "fisher_b2 <- function(bins2){\n",
    "    \n",
    "    colnames(bins2) <- c('Ensembl', 'd1_1', 'd1_2', 'd2_1', 'd2_2')\n",
    "    bins2$Ensembl <- as.character(bins2$Ensembl)\n",
    "    \n",
    "    # filter results - rm genes with less than 5 associated variants per disease\n",
    "    bins2 <- bins2 %>% filter((rowSums(bins2[ , c(2,3)], na.rm=TRUE) >=5) & (rowSums(bins2[ , c(4,5)], na.rm=TRUE) >=5))\n",
    "    \n",
    "    \n",
    "    fisher_res <- data.frame(matrix(ncol=2, nrow=0))   \n",
    "    colnames(fisher_res) <- c('Ensembl', 'p_value')\n",
    "    \n",
    "    # Fisher's exact test\n",
    "    for (r in 1:nrow(bins2)){   \n",
    "        matr <- matrix(c(as.numeric(bins2[r,2:ncol(bins2)])),ncol=(ncol(bins2)-1)/2, byrow=T)\n",
    "        if (all(matr == 0)){   # exclude genes with no variants\n",
    "            next\n",
    "        }\n",
    "        test <- fisher.test(matr,workspace = 2e8)\n",
    "        fisher_res[nrow(fisher_res) + 1,] <- c(bins2[r,1], as.numeric(test$p.value))   # add gene_id and p-value\n",
    "    }\n",
    "    df <- merge(fisher_res, bins2, by='Ensembl', all.x = TRUE)\n",
    "    \n",
    "    # adjust p-value\n",
    "    df$p_value <- as.numeric(df$p_value)   \n",
    "    df$p_adj <-p.adjust(df$p_value, method = \"fdr\")\n",
    "    df$log_pvalue <- -log10(as.numeric(df$p_value)) \n",
    "    df$log_padj <- -log10(as.numeric(df$p_adj)) \n",
    "    \n",
    " \n",
    "    df <- df %>%\n",
    "     mutate(pvalue_interval = case_when(\n",
    "     p_value < 0.1 ~ \"0-0.1\", \n",
    "     p_value >= 0.1 & p_value < 0.2 ~ \"0.1-0.2\",\n",
    "     p_value >= 0.2 & p_value < 0.3 ~ \"0.2-0.3\",\n",
    "     p_value >= 0.3 & p_value < 0.4 ~ \"0.3-0.4\",\n",
    "     p_value >= 0.4 & p_value < 0.5 ~ \"0.4-0.5\",\n",
    "     p_value >= 0.5 & p_value < 0.6 ~ \"0.5-0.6\",\n",
    "     p_value >= 0.6 & p_value < 0.7 ~ \"0.6-0.7\",\n",
    "     p_value >= 0.7 & p_value < 0.8 ~ \"0.7-0.8\",\n",
    "     p_value >= 0.8 & p_value < 0.9 ~ \"0.8-0.9\",\n",
    "     p_value >= 0.9 ~ \"0.9-1\"))\n",
    "    \n",
    "    df$pvalue_interval <- as.factor(df$pvalue_interval)\n",
    "    \n",
    "    df <- df[ ,c(1,10,2,7,8,9,3,4,5,6)]\n",
    "   \n",
    "}"
   ]
  },
  {
   "cell_type": "markdown",
   "id": "39803ea9",
   "metadata": {},
   "source": [
    "#### Genes associated with 2 diseases. CDSs are split on 2 intervals. All variants"
   ]
  },
  {
   "cell_type": "code",
   "execution_count": 138,
   "id": "012a4a5e",
   "metadata": {},
   "outputs": [
    {
     "data": {
      "image/png": "[encoded data removed]",
      "text/plain": [
       "<IPython.core.display.Image object>"
      ]
     },
     "metadata": {},
     "output_type": "display_data"
    }
   ],
   "source": [
    "%%R\n",
    "\n",
    "# Load data\n",
    "bins2_all <- read.csv('G2Ph_bins2_all.csv', sep=',', header=T)\n",
    "\n",
    "# Fisher's exact test\n",
    "bins2_all_FT <- fisher_b2(bins2_all)\n",
    "\n",
    "# Plot results\n",
    "plot_fisher(bins2_all_FT)\n",
    "\n",
    "# Save results\n",
    "\n",
    "write.csv(bins2_all_FT,\"G2Ph_bins2_all_FT.csv\", row.names = FALSE, quote = F)"
   ]
  },
  {
   "cell_type": "markdown",
   "id": "04e1c700",
   "metadata": {},
   "source": [
    "#### Genes associated with 2 diseases. CDSs are split on 2 intervals. No  pleiotropic variants"
   ]
  },
  {
   "cell_type": "code",
   "execution_count": 139,
   "id": "c0421f16",
   "metadata": {},
   "outputs": [
    {
     "data": {
      "image/png": "[encoded data removed]",
      "text/plain": [
       "<IPython.core.display.Image object>"
      ]
     },
     "metadata": {},
     "output_type": "display_data"
    }
   ],
   "source": [
    "%%R\n",
    "\n",
    "# Load data\n",
    "bins2_uniq <- read.csv('G2Ph_bins2_uniq.csv', sep=',', header=T)\n",
    "\n",
    "# Fisher's exact test\n",
    "bins2_uniq_FT <- fisher_b2(bins2_uniq)\n",
    "\n",
    "# Plot results\n",
    "plot_fisher(bins2_uniq_FT)\n",
    "\n",
    "# Save results\n",
    "\n",
    "write.csv(bins2_uniq_FT,\"bins2_uniq_FT.csv\", row.names = FALSE, quote = F)"
   ]
  },
  {
   "cell_type": "markdown",
   "id": "71833be9",
   "metadata": {},
   "source": [
    "### Analyse missense and pLOF data"
   ]
  },
  {
   "cell_type": "code",
   "execution_count": 153,
   "id": "fc62b3c5",
   "metadata": {},
   "outputs": [],
   "source": [
    "%%R\n",
    "\n",
    "fisher_mp <- function(miss, plof){\n",
    "    \n",
    "    # merge \n",
    "    mp <- merge(miss, plof, by='Ensembl')\n",
    "    mp <- mp[, c(1,2,4,3,5)]\n",
    "    \n",
    "    colnames(mp) <- c('Ensembl', 'd1_missense', 'd1_plof', 'd2_missense', 'd2_plof')\n",
    "    mp$Ensembl <- as.character(mp$Ensembl)\n",
    "    \n",
    "    # filter results - rm genes with less than 5 associated variants per disease\n",
    "    mp <- mp %>% filter((rowSums(mp[ , c(2,3)], na.rm=TRUE) >=5) & (rowSums(mp[ , c(4,5)], na.rm=TRUE) >=5))\n",
    "    \n",
    "    fisher_res <- data.frame(matrix(ncol=2, nrow=0))   \n",
    "    colnames(fisher_res) <- c('Ensembl', 'p_value')\n",
    "    \n",
    "    # Fiher's exact test\n",
    "    for (r in 1:nrow(mp)){   \n",
    "        matr <- matrix(c(as.numeric(mp[r,2:ncol(mp)])),ncol=(ncol(mp)-1)/2, byrow=T)\n",
    "        if (all(matr == 0)){   # exclude genes with no variants\n",
    "            next\n",
    "        }\n",
    "        test <- fisher.test(matr,workspace = 2e8)\n",
    "        fisher_res[nrow(fisher_res) + 1,] <- c(mp[r,1], as.numeric(test$p.value))   # add gene_id and p-value\n",
    "    }\n",
    "    df <- merge(fisher_res, mp, by='Ensembl', all.x = TRUE)\n",
    "    \n",
    "    # adjust p-value\n",
    "    df$p_value <- as.numeric(df$p_value)   \n",
    "    df$p_adj <-p.adjust(df$p_value, method = \"fdr\")\n",
    "    df$log_pvalue <- -log10(as.numeric(df$p_value)) \n",
    "    df$log_padj <- -log10(as.numeric(df$p_adj)) \n",
    "    \n",
    " \n",
    "    df <- df %>%\n",
    "     mutate(pvalue_interval = case_when(\n",
    "     p_value < 0.1 ~ \"0-0.1\", \n",
    "     p_value >= 0.1 & p_value < 0.2 ~ \"0.1-0.2\",\n",
    "     p_value >= 0.2 & p_value < 0.3 ~ \"0.2-0.3\",\n",
    "     p_value >= 0.3 & p_value < 0.4 ~ \"0.3-0.4\",\n",
    "     p_value >= 0.4 & p_value < 0.5 ~ \"0.4-0.5\",\n",
    "     p_value >= 0.5 & p_value < 0.6 ~ \"0.5-0.6\",\n",
    "     p_value >= 0.6 & p_value < 0.7 ~ \"0.6-0.7\",\n",
    "     p_value >= 0.7 & p_value < 0.8 ~ \"0.7-0.8\",\n",
    "     p_value >= 0.8 & p_value < 0.9 ~ \"0.8-0.9\",\n",
    "     p_value >= 0.9 ~ \"0.9-1\"))\n",
    "    \n",
    "    df$pvalue_interval <- as.factor(df$pvalue_interval)\n",
    "    \n",
    "    df <- df[ ,c(1,10,2,7,8,9,3,4,5,6)]\n",
    "   \n",
    "}"
   ]
  },
  {
   "cell_type": "markdown",
   "id": "4d5bc452",
   "metadata": {},
   "source": [
    "#### Genes associated with 2 diseases. All variants"
   ]
  },
  {
   "cell_type": "code",
   "execution_count": 154,
   "id": "370b20fd",
   "metadata": {},
   "outputs": [
    {
     "data": {
      "image/png": "[encoded data removed]",
      "text/plain": [
       "<IPython.core.display.Image object>"
      ]
     },
     "metadata": {},
     "output_type": "display_data"
    }
   ],
   "source": [
    "%%R\n",
    "\n",
    "# Load data\n",
    "\n",
    "## missense \n",
    "miss_all <- read.csv('G2Ph_miss.csv', sep=',', header=T)\n",
    "\n",
    "## pLOF\n",
    "plof_all <- read.csv('G2Ph_plof.csv', sep=',', header=T)\n",
    "\n",
    "# Fisher's exact test\n",
    "mp_all_FT <- fisher_mp(miss_all, plof_all)\n",
    "\n",
    "# Plot results\n",
    "plot_fisher(mp_all_FT)\n",
    "\n",
    "# Save results\n",
    "write.csv(mp_all_FT,\"G2Ph_missplof_FT\", row.names = FALSE, quote = F)"
   ]
  },
  {
   "cell_type": "markdown",
   "id": "3f785fe9",
   "metadata": {},
   "source": [
    "#### Genes associated with 2 diseases. No pleiotropic variants"
   ]
  },
  {
   "cell_type": "code",
   "execution_count": 269,
   "id": "982a33d1",
   "metadata": {},
   "outputs": [
    {
     "data": {
      "image/png": "[encoded data removed]"
     },
     "metadata": {},
     "output_type": "display_data"
    },
    {
     "data": {
      "image/png": "[encoded data removed]"
     },
     "metadata": {},
     "output_type": "display_data"
    }
   ],
   "source": [
    "%%R\n",
    "\n",
    "## missense \n",
    "miss_un <- read.csv('G2Ph_uniq_miss.csv', sep=',', header=T)\n",
    "\n",
    "## pLOF\n",
    "plof_un <- read.csv('G2Ph_uniq_plof.csv', sep=',', header=T)\n",
    "\n",
    "# Fisher's exact test\n",
    "mp_uniq_FT <- fisher_mp(miss_un, plof_un)\n",
    "\n",
    "# Plot results\n",
    "plot_fisher(mp_uniq_FT)\n",
    "\n",
    "# Save results\n",
    "write.csv(mp_uniq_FT,\"G2Ph_missplof_uniq_FT.csv\", row.names = FALSE, quote = F)"
   ]
  },
  {
   "cell_type": "markdown",
   "id": "392fb21a",
   "metadata": {},
   "source": [
    "##  Full dataframes"
   ]
  },
  {
   "cell_type": "code",
   "execution_count": 145,
   "id": "590f5f0d",
   "metadata": {},
   "outputs": [],
   "source": [
    "%%R\n",
    "\n",
    "create_full_df <- function(fisher_res){\n",
    "    \n",
    "    # Inheritance info\n",
    "    inh <- read.csv('Gene2Pheno_Inh.csv', sep='\\t', header=TRUE)\n",
    "    \n",
    "    \n",
    "    dis1 <- read.csv('G2Ph_dis1.csv',sep='\\t', header=TRUE)\n",
    "    dis2 <- read.csv('G2Ph_dis2.csv',sep='\\t', header=TRUE)\n",
    "    \n",
    "    df_p1 <- list(fisher_res,inh, dis1, dis2)      \n",
    "    \n",
    "    df_p1 <- df_p1 %>% purrr::reduce(left_join, by='Ensembl')\n",
    "    \n",
    "   \n",
    "    # pLI,loeuf\n",
    "    gnmd <- read.csv('gnomad.v2.1.1.pli_loeuf.txt', sep='\\t',header=TRUE)\n",
    "    \n",
    "    df_p2 <- merge(df_p1, gnmd, by.x='GENEINFO', by.y='gene', all.x=TRUE)  \n",
    "}"
   ]
  },
  {
   "cell_type": "code",
   "execution_count": 146,
   "id": "671760ff",
   "metadata": {},
   "outputs": [],
   "source": [
    "%%R\n",
    "\n",
    "bins5_all_info <- create_full_df(bins5_all_FT)\n",
    "\n",
    "write.csv(bins5_all_info, 'G2Ph_bins5_all_info.csv', row.names = FALSE, quote = F)"
   ]
  },
  {
   "cell_type": "code",
   "execution_count": 147,
   "id": "c0fa5bb6",
   "metadata": {},
   "outputs": [],
   "source": [
    "%%R\n",
    "\n",
    "bins2_all_info <- create_full_df(bins2_all_FT)\n",
    "write.csv(bins2_all_info, 'G2Ph_bins2_all_info.csv', row.names = FALSE, quote = F)"
   ]
  },
  {
   "cell_type": "code",
   "execution_count": 148,
   "id": "7ba47d30",
   "metadata": {},
   "outputs": [],
   "source": [
    "%%R\n",
    "\n",
    "bins5_uniq_info <- create_full_df(bins5_uniq_FT)\n",
    "write.csv(bins5_uniq_info, 'G2Ph_bins5_uniq_info.csv', row.names = FALSE, quote = F)"
   ]
  },
  {
   "cell_type": "code",
   "execution_count": 149,
   "id": "ca92f98f",
   "metadata": {},
   "outputs": [],
   "source": [
    "%%R\n",
    "\n",
    "bins2_uniq_info <- create_full_df(bins2_uniq_FT)\n",
    "write.csv(bins2_uniq_info, 'G2Ph_bins2_uniq_info.csv', row.names = FALSE, quote = F)"
   ]
  },
  {
   "cell_type": "code",
   "execution_count": 155,
   "id": "c7f79862",
   "metadata": {},
   "outputs": [],
   "source": [
    "%%R\n",
    "\n",
    "mp_all_info <- create_full_df(mp_all_FT)\n",
    "write.csv(mp_all_info, 'G2Ph_missplof_all_info.csv', row.names = FALSE, quote = F)"
   ]
  },
  {
   "cell_type": "code",
   "execution_count": 302,
   "id": "670ecd18",
   "metadata": {},
   "outputs": [],
   "source": [
    "%%R\n",
    "\n",
    "mp_uniq_info <- create_full_df(mp_uniq_FT)\n",
    "write.csv(mp_uniq_info, 'G2Ph_missplof_uniq_info.csv', row.names = FALSE, quote = F)"
   ]
  },
  {
   "cell_type": "markdown",
   "id": "496466a4",
   "metadata": {},
   "source": [
    "##  Plots"
   ]
  },
  {
   "cell_type": "code",
   "execution_count": 156,
   "id": "5d99bb81",
   "metadata": {},
   "outputs": [],
   "source": [
    "%%R\n",
    "\n",
    "plots <- function(dat){\n",
    "    \n",
    "    dat <- dat %>%\n",
    "     mutate(pvalue_class = case_when(\n",
    "         p_value < 0.1 ~ \"0-0.1\", \n",
    "         p_value >= 0.1  ~ \"0.1-1\"\n",
    "     ))\n",
    "    \n",
    "    pval_inh <- dat[ ,c('pvalue_class','Inh_class')]\n",
    "    pval_inh <- pval_inh%>%\n",
    "       group_by(pvalue_class,Inh_class) %>%\n",
    "       summarize(count = n()) %>%\n",
    "       mutate(prop = (count/sum(count)))\n",
    "    \n",
    "    \n",
    "    # variant location - inheritance pattern\n",
    "    pval_inh_bar <- ggplot(pval_inh, aes(y=prop, x=pvalue_class, label=count, fill=factor(Inh_class))) +\n",
    "    geom_bar(position=\"stack\", stat=\"identity\")+ theme_bw() + \n",
    "    theme(axis.text = element_text(size = 12), axis.title =  element_text(size=14), \n",
    "    legend.text=element_text(size=14)) +  xlab('pvalue interval') +  ylab(NULL) + \n",
    "    scale_y_continuous(labels = percent_format()) + geom_text(size = 4, position = position_stack(vjust = 0.5))\n",
    "    \n",
    "    pval_inh_bar <- pval_inh_bar + guides(fill=guide_legend(title=NULL, nrow=2, byrow=TRUE)) + theme(legend.position=\"bottom\")\n",
    "    pval_inh_bar <- pval_inh_bar + theme(aspect.ratio = 1/2)  + coord_flip() + scale_fill_brewer(palette = \"RdBu\")\n",
    "    \n",
    "    print(pval_inh_bar)\n",
    "    \n",
    "    \n",
    "    # variant location - pLI\n",
    "    \n",
    "    dat <- dat %>% \n",
    "       mutate(pli_class = case_when(\n",
    "       pLI <= 0.1 ~ 'pLOF tolerant (pLI <=0.1)',\n",
    "       pLI >= 0.9 ~ 'pLOF intolerant (pLI >=0.9)',\n",
    "       TRUE ~ 'intermediate tolerance'))\n",
    "    \n",
    "    pval_pli <- dat[ ,c('pvalue_class', 'pli_class')]\n",
    "    \n",
    "    pval_pli <- pval_pli%>%\n",
    "       group_by(pvalue_class, pli_class) %>%\n",
    "       summarize(count = n()) %>%\n",
    "       mutate(prop = (count/sum(count)))\n",
    "    \n",
    "    pval_pli_bar <- ggplot(pval_pli, aes(y=prop, x=pvalue_class, label=count, \n",
    "                                    fill=factor(pli_class, levels=c(\"pLOF intolerant (pLI >=0.9)\",\n",
    "                                                           \"intermediate tolerance\",\n",
    "                                                           \"pLOF tolerant (pLI <=0.1)\")))) +\n",
    "    geom_bar(position=\"stack\", stat=\"identity\")+ theme_bw() + \n",
    "    theme(axis.text = element_text(size = 12), axis.title =  element_text(size=14), \n",
    "    legend.text=element_text(size=14)) + xlab('pvalue interval') +  ylab(NULL) + \n",
    "    scale_y_continuous(labels = percent_format()) + geom_text(size = 6, position = position_stack(vjust = 0.5))\n",
    "    \n",
    "    pval_pli_bar <- pval_pli_bar + guides(fill=guide_legend(title=NULL, nrow=2, byrow=TRUE)) + theme(legend.position=\"bottom\") + scale_fill_brewer(palette = \"RdBu\")\n",
    "    pval_pli_bar <- pval_pli_bar + theme(aspect.ratio = 1/2)  + coord_flip()\n",
    "    print(pval_pli_bar) \n",
    "}"
   ]
  },
  {
   "cell_type": "code",
   "execution_count": 152,
   "id": "8952a2e9",
   "metadata": {},
   "outputs": [
    {
     "name": "stdout",
     "output_type": "stream",
     "text": [
      "`summarise()` has grouped output by 'pvalue_class'. You can override using the\n",
      "`.groups` argument.\n",
      "`summarise()` has grouped output by 'pvalue_class'. You can override using the\n",
      "`.groups` argument.\n"
     ]
    },
    {
     "data": {
      "image/png": "[encoded data removed]",
      "text/plain": [
       "<IPython.core.display.Image object>"
      ]
     },
     "metadata": {},
     "output_type": "display_data"
    }
   ],
   "source": [
    "%%R\n",
    "\n",
    "bins5_all_info <- read.csv('G2Ph_bins5_all_info.csv', sep=',', header=TRUE)\n",
    "plots(bins5_all_info)\n"
   ]
  },
  {
   "cell_type": "code",
   "execution_count": 6,
   "id": "85a04b5d",
   "metadata": {},
   "outputs": [],
   "source": [
    "%%R\n",
    "\n",
    "bins2_all_info <- read.csv('G2Ph_bins2_all_info.csv', sep=',', header=TRUE)\n",
    "plots(bins2_all_info)"
   ]
  },
  {
   "cell_type": "code",
   "execution_count": 59,
   "id": "b882576d",
   "metadata": {},
   "outputs": [
    {
     "name": "stdout",
     "output_type": "stream",
     "text": [
      "`summarise()` has grouped output by 'pvalue_class'. You can override using the\n",
      "`.groups` argument.\n",
      "`summarise()` has grouped output by 'pvalue_class'. You can override using the\n",
      "`.groups` argument.\n"
     ]
    },
    {
     "data": {
      "image/png": "[encoded data removed]",
      "text/plain": [
       "<IPython.core.display.Image object>"
      ]
     },
     "metadata": {},
     "output_type": "display_data"
    }
   ],
   "source": [
    "%%R\n",
    "\n",
    "bins5_uniq_info <- read.csv('G2Ph_bins5_uniq_info.csv', sep=',', header=TRUE)\n",
    "plots(bins5_uniq_info)"
   ]
  },
  {
   "cell_type": "code",
   "execution_count": 5,
   "id": "1756e2d2",
   "metadata": {},
   "outputs": [],
   "source": [
    "%%R\n",
    "\n",
    "bins2_uniq_info <- read.csv('G2Ph_bins2_uniq_info.csv', sep=',', header=TRUE)\n",
    "plots(bins2_uniq_info)"
   ]
  },
  {
   "cell_type": "code",
   "execution_count": 157,
   "id": "0b22aa4d",
   "metadata": {},
   "outputs": [
    {
     "name": "stdout",
     "output_type": "stream",
     "text": [
      "`summarise()` has grouped output by 'pvalue_class'. You can override using the\n",
      "`.groups` argument.\n",
      "`summarise()` has grouped output by 'pvalue_class'. You can override using the\n",
      "`.groups` argument.\n"
     ]
    },
    {
     "data": {
      "image/png": "[encoded data removed]",
      "text/plain": [
       "<IPython.core.display.Image object>"
      ]
     },
     "metadata": {},
     "output_type": "display_data"
    }
   ],
   "source": [
    "%%R\n",
    "\n",
    "missplof_all_info <- read.csv('G2Ph_missplof_all_info.csv', sep=',', header=TRUE)\n",
    "plots(missplof_all_info)"
   ]
  },
  {
   "cell_type": "code",
   "execution_count": 3,
   "id": "20980482",
   "metadata": {},
   "outputs": [],
   "source": [
    "%%R\n",
    "\n",
    "missplof_uniq_info <- read.csv('G2Ph_missplof_uniq_info.csv', sep=',', header=TRUE)\n",
    "plots(missplof_uniq_info)"
   ]
  }
 ],
 "metadata": {
  "kernelspec": {
   "display_name": "Python 3 (ipykernel)",
   "language": "python",
   "name": "python3"
  },
  "language_info": {
   "codemirror_mode": {
    "name": "ipython",
    "version": 3
   },
   "file_extension": ".py",
   "mimetype": "text/x-python",
   "name": "python",
   "nbconvert_exporter": "python",
   "pygments_lexer": "ipython3",
   "version": "3.11.5"
  }
 },
 "nbformat": 4,
 "nbformat_minor": 5
}
