{
 "cells": [
  {
   "cell_type": "markdown",
   "id": "509fe4fe",
   "metadata": {},
   "source": [
    "\n",
    "\n",
    "# Content"
   ]
  },
  {
   "cell_type": "raw",
   "id": "ad78fbaf",
   "metadata": {},
   "source": [
    "1. Library\n",
    "2. Load data\n",
    "3. Number of GMDs\n",
    "4. Number of 2+ associated variants and asssesment of data quality\n",
    "5. Comparision of Tissue Expression data of assoiated with GMDs and GSDs\n",
    "6. Consatraint Metrics\n",
    "  5.1 pLI\n",
    "  5.2 LOEUF\n",
    "7. Comparision of set of HPO Upper-Terms assoiated with GMDs and GSDs\n",
    "8. Enrichment analysis\n",
    "  8.1 Canonical Pathways\n",
    "  8.2 C5.HPO"
   ]
  },
  {
   "cell_type": "markdown",
   "id": "6e950a57",
   "metadata": {},
   "source": [
    "# Library"
   ]
  },
  {
   "cell_type": "code",
   "execution_count": 26,
   "id": "df59d570",
   "metadata": {},
   "outputs": [],
   "source": [
    "import pandas as pd\n",
    "import numpy as np\n",
    "import seaborn as sns\n",
    "import matplotlib.pyplot as plt\n",
    "import rpy2"
   ]
  },
  {
   "cell_type": "code",
   "execution_count": 27,
   "id": "d4579260",
   "metadata": {},
   "outputs": [],
   "source": [
    "%load_ext rpy2.ipython\n",
    "#%reload_ext rpy2.ipython"
   ]
  },
  {
   "cell_type": "code",
   "execution_count": 28,
   "id": "582b5c2c",
   "metadata": {},
   "outputs": [
    {
     "name": "stderr",
     "output_type": "stream",
     "text": [
      "R[write to console]: \n",
      "Присоединяю пакет: ‘dplyr’\n",
      "\n",
      "\n",
      "R[write to console]: Следующие объекты скрыты от ‘package:stats’:\n",
      "\n",
      "    filter, lag\n",
      "\n",
      "\n",
      "R[write to console]: Следующие объекты скрыты от ‘package:base’:\n",
      "\n",
      "    intersect, setdiff, setequal, union\n",
      "\n",
      "\n"
     ]
    }
   ],
   "source": [
    "%%R\n",
    "library(dplyr)\n",
    "library(tidyr)\n",
    "library(ggplot2)\n",
    "library(scales)\n",
    "library(RColorBrewer)\n",
    "library(enrichplot)\n",
    "library(clusterProfiler)\n",
    "library(msigdbr)\n",
    "library(gridExtra)"
   ]
  },
  {
   "cell_type": "markdown",
   "id": "82988404",
   "metadata": {},
   "source": [
    "# Load data"
   ]
  },
  {
   "cell_type": "code",
   "execution_count": 40,
   "id": "da515847",
   "metadata": {
    "scrolled": true
   },
   "outputs": [
    {
     "data": {
      "text/html": [
       "<div>\n",
       "<style scoped>\n",
       "    .dataframe tbody tr th:only-of-type {\n",
       "        vertical-align: middle;\n",
       "    }\n",
       "\n",
       "    .dataframe tbody tr th {\n",
       "        vertical-align: top;\n",
       "    }\n",
       "\n",
       "    .dataframe thead th {\n",
       "        text-align: right;\n",
       "    }\n",
       "</style>\n",
       "<table border=\"1\" class=\"dataframe\">\n",
       "  <thead>\n",
       "    <tr style=\"text-align: right;\">\n",
       "      <th></th>\n",
       "      <th>CHROM</th>\n",
       "      <th>POS</th>\n",
       "      <th>ID</th>\n",
       "      <th>REF</th>\n",
       "      <th>ALT</th>\n",
       "      <th>QUAL</th>\n",
       "      <th>FILTER</th>\n",
       "      <th>AF_EXAC</th>\n",
       "      <th>CLNREVSTAT</th>\n",
       "      <th>CLNSIG</th>\n",
       "      <th>CLNVC</th>\n",
       "      <th>GENEINFO</th>\n",
       "      <th>OMIM</th>\n",
       "      <th>ORPHA</th>\n",
       "      <th>ncbi_gene_id</th>\n",
       "      <th>Inheritance</th>\n",
       "      <th>Ensembl</th>\n",
       "    </tr>\n",
       "  </thead>\n",
       "  <tbody>\n",
       "    <tr>\n",
       "      <th>0</th>\n",
       "      <td>chr1</td>\n",
       "      <td>1013983</td>\n",
       "      <td>1028857</td>\n",
       "      <td>G</td>\n",
       "      <td>A</td>\n",
       "      <td>-10.0</td>\n",
       "      <td>PASS</td>\n",
       "      <td>NaN</td>\n",
       "      <td>criteria_provided,_single_submitter</td>\n",
       "      <td>Pathogenic</td>\n",
       "      <td>single_nucleotide_variant</td>\n",
       "      <td>ISG15</td>\n",
       "      <td>OMIM:616126</td>\n",
       "      <td>Orphanet:319563</td>\n",
       "      <td>9636</td>\n",
       "      <td>AR</td>\n",
       "      <td>ENSG00000187608</td>\n",
       "    </tr>\n",
       "    <tr>\n",
       "      <th>1</th>\n",
       "      <td>chr1</td>\n",
       "      <td>1014143</td>\n",
       "      <td>183381</td>\n",
       "      <td>C</td>\n",
       "      <td>T</td>\n",
       "      <td>-10.0</td>\n",
       "      <td>PASS</td>\n",
       "      <td>NaN</td>\n",
       "      <td>no_assertion_criteria_provided</td>\n",
       "      <td>Pathogenic</td>\n",
       "      <td>single_nucleotide_variant</td>\n",
       "      <td>ISG15</td>\n",
       "      <td>OMIM:616126</td>\n",
       "      <td>Orphanet:319563</td>\n",
       "      <td>9636</td>\n",
       "      <td>AR</td>\n",
       "      <td>ENSG00000187608</td>\n",
       "    </tr>\n",
       "  </tbody>\n",
       "</table>\n",
       "</div>"
      ],
      "text/plain": [
       "  CHROM      POS       ID REF ALT  QUAL FILTER  AF_EXAC  \\\n",
       "0  chr1  1013983  1028857   G   A -10.0   PASS      NaN   \n",
       "1  chr1  1014143   183381   C   T -10.0   PASS      NaN   \n",
       "\n",
       "                            CLNREVSTAT      CLNSIG                      CLNVC  \\\n",
       "0  criteria_provided,_single_submitter  Pathogenic  single_nucleotide_variant   \n",
       "1       no_assertion_criteria_provided  Pathogenic  single_nucleotide_variant   \n",
       "\n",
       "  GENEINFO         OMIM            ORPHA  ncbi_gene_id Inheritance  \\\n",
       "0    ISG15  OMIM:616126  Orphanet:319563          9636          AR   \n",
       "1    ISG15  OMIM:616126  Orphanet:319563          9636          AR   \n",
       "\n",
       "           Ensembl  \n",
       "0  ENSG00000187608  \n",
       "1  ENSG00000187608  "
      ]
     },
     "execution_count": 40,
     "metadata": {},
     "output_type": "execute_result"
    }
   ],
   "source": [
    "df = pd.read_csv('clinvar_hpo_merged_data.csv', sep='\\t')\n",
    "df.head(2)"
   ]
  },
  {
   "cell_type": "code",
   "execution_count": 42,
   "id": "a27b836f",
   "metadata": {},
   "outputs": [
    {
     "data": {
      "text/html": [
       "<div>\n",
       "<style scoped>\n",
       "    .dataframe tbody tr th:only-of-type {\n",
       "        vertical-align: middle;\n",
       "    }\n",
       "\n",
       "    .dataframe tbody tr th {\n",
       "        vertical-align: top;\n",
       "    }\n",
       "\n",
       "    .dataframe thead th {\n",
       "        text-align: right;\n",
       "    }\n",
       "</style>\n",
       "<table border=\"1\" class=\"dataframe\">\n",
       "  <thead>\n",
       "    <tr style=\"text-align: right;\">\n",
       "      <th></th>\n",
       "      <th>GENEINFO</th>\n",
       "      <th>MIMs_per_Gene</th>\n",
       "    </tr>\n",
       "  </thead>\n",
       "  <tbody>\n",
       "    <tr>\n",
       "      <th>0</th>\n",
       "      <td>A2ML1</td>\n",
       "      <td>1</td>\n",
       "    </tr>\n",
       "    <tr>\n",
       "      <th>1</th>\n",
       "      <td>AAAS</td>\n",
       "      <td>1</td>\n",
       "    </tr>\n",
       "  </tbody>\n",
       "</table>\n",
       "</div>"
      ],
      "text/plain": [
       "  GENEINFO  MIMs_per_Gene\n",
       "0    A2ML1              1\n",
       "1     AAAS              1"
      ]
     },
     "execution_count": 42,
     "metadata": {},
     "output_type": "execute_result"
    }
   ],
   "source": [
    "# count MIMs associated with each gene\n",
    "\n",
    "gene_mim = df[['GENEINFO', 'OMIM']].drop_duplicates()\n",
    "gene_mim = gene_mim.groupby(['GENEINFO']).size().reset_index(name='MIMs_per_Gene')"
   ]
  },
  {
   "cell_type": "code",
   "execution_count": 43,
   "id": "ed012c34",
   "metadata": {},
   "outputs": [
    {
     "name": "stdout",
     "output_type": "stream",
     "text": [
      "N of genes: 4211\n",
      "N of genes with 2+ associated diseases: 1035\n",
      "N of genes with 2 associated diseases: 670\n"
     ]
    }
   ],
   "source": [
    "print('N of genes:', gene_mim.drop_duplicates().shape[0])\n",
    "print('N of genes with 2+ associated diseases:', gene_mim[gene_mim['MIMs_per_Gene'] > 1].drop_duplicates().shape[0])\n",
    "print('N of genes with 2 associated diseases:', gene_mim[gene_mim['MIMs_per_Gene'] == 2].drop_duplicates().shape[0])"
   ]
  },
  {
   "cell_type": "code",
   "execution_count": 44,
   "id": "52c8d6c8",
   "metadata": {},
   "outputs": [
    {
     "data": {
      "text/html": [
       "<div>\n",
       "<style scoped>\n",
       "    .dataframe tbody tr th:only-of-type {\n",
       "        vertical-align: middle;\n",
       "    }\n",
       "\n",
       "    .dataframe tbody tr th {\n",
       "        vertical-align: top;\n",
       "    }\n",
       "\n",
       "    .dataframe thead th {\n",
       "        text-align: right;\n",
       "    }\n",
       "</style>\n",
       "<table border=\"1\" class=\"dataframe\">\n",
       "  <thead>\n",
       "    <tr style=\"text-align: right;\">\n",
       "      <th></th>\n",
       "      <th>CHROM</th>\n",
       "      <th>POS</th>\n",
       "      <th>ID</th>\n",
       "      <th>REF</th>\n",
       "      <th>ALT</th>\n",
       "      <th>QUAL</th>\n",
       "      <th>FILTER</th>\n",
       "      <th>AF_EXAC</th>\n",
       "      <th>CLNREVSTAT</th>\n",
       "      <th>CLNSIG</th>\n",
       "      <th>CLNVC</th>\n",
       "      <th>GENEINFO</th>\n",
       "      <th>OMIM</th>\n",
       "      <th>ORPHA</th>\n",
       "      <th>ncbi_gene_id</th>\n",
       "      <th>Inheritance</th>\n",
       "      <th>Ensembl</th>\n",
       "      <th>MIMs_per_Gene</th>\n",
       "    </tr>\n",
       "  </thead>\n",
       "  <tbody>\n",
       "    <tr>\n",
       "      <th>0</th>\n",
       "      <td>chr1</td>\n",
       "      <td>1013983</td>\n",
       "      <td>1028857</td>\n",
       "      <td>G</td>\n",
       "      <td>A</td>\n",
       "      <td>-10.0</td>\n",
       "      <td>PASS</td>\n",
       "      <td>NaN</td>\n",
       "      <td>criteria_provided,_single_submitter</td>\n",
       "      <td>Pathogenic</td>\n",
       "      <td>single_nucleotide_variant</td>\n",
       "      <td>ISG15</td>\n",
       "      <td>OMIM:616126</td>\n",
       "      <td>Orphanet:319563</td>\n",
       "      <td>9636</td>\n",
       "      <td>AR</td>\n",
       "      <td>ENSG00000187608</td>\n",
       "      <td>1</td>\n",
       "    </tr>\n",
       "    <tr>\n",
       "      <th>1</th>\n",
       "      <td>chr1</td>\n",
       "      <td>1014143</td>\n",
       "      <td>183381</td>\n",
       "      <td>C</td>\n",
       "      <td>T</td>\n",
       "      <td>-10.0</td>\n",
       "      <td>PASS</td>\n",
       "      <td>NaN</td>\n",
       "      <td>no_assertion_criteria_provided</td>\n",
       "      <td>Pathogenic</td>\n",
       "      <td>single_nucleotide_variant</td>\n",
       "      <td>ISG15</td>\n",
       "      <td>OMIM:616126</td>\n",
       "      <td>Orphanet:319563</td>\n",
       "      <td>9636</td>\n",
       "      <td>AR</td>\n",
       "      <td>ENSG00000187608</td>\n",
       "      <td>1</td>\n",
       "    </tr>\n",
       "    <tr>\n",
       "      <th>2</th>\n",
       "      <td>chr1</td>\n",
       "      <td>1014316</td>\n",
       "      <td>161455</td>\n",
       "      <td>C</td>\n",
       "      <td>CG</td>\n",
       "      <td>-10.0</td>\n",
       "      <td>PASS</td>\n",
       "      <td>NaN</td>\n",
       "      <td>no_assertion_criteria_provided</td>\n",
       "      <td>Pathogenic</td>\n",
       "      <td>Duplication</td>\n",
       "      <td>ISG15</td>\n",
       "      <td>OMIM:616126</td>\n",
       "      <td>Orphanet:319563</td>\n",
       "      <td>9636</td>\n",
       "      <td>AR</td>\n",
       "      <td>ENSG00000187608</td>\n",
       "      <td>1</td>\n",
       "    </tr>\n",
       "  </tbody>\n",
       "</table>\n",
       "</div>"
      ],
      "text/plain": [
       "  CHROM      POS       ID REF ALT  QUAL FILTER  AF_EXAC  \\\n",
       "0  chr1  1013983  1028857   G   A -10.0   PASS      NaN   \n",
       "1  chr1  1014143   183381   C   T -10.0   PASS      NaN   \n",
       "2  chr1  1014316   161455   C  CG -10.0   PASS      NaN   \n",
       "\n",
       "                            CLNREVSTAT      CLNSIG                      CLNVC  \\\n",
       "0  criteria_provided,_single_submitter  Pathogenic  single_nucleotide_variant   \n",
       "1       no_assertion_criteria_provided  Pathogenic  single_nucleotide_variant   \n",
       "2       no_assertion_criteria_provided  Pathogenic                Duplication   \n",
       "\n",
       "  GENEINFO         OMIM            ORPHA  ncbi_gene_id Inheritance  \\\n",
       "0    ISG15  OMIM:616126  Orphanet:319563          9636          AR   \n",
       "1    ISG15  OMIM:616126  Orphanet:319563          9636          AR   \n",
       "2    ISG15  OMIM:616126  Orphanet:319563          9636          AR   \n",
       "\n",
       "           Ensembl  MIMs_per_Gene  \n",
       "0  ENSG00000187608              1  \n",
       "1  ENSG00000187608              1  \n",
       "2  ENSG00000187608              1  "
      ]
     },
     "execution_count": 44,
     "metadata": {},
     "output_type": "execute_result"
    }
   ],
   "source": [
    "# add number of associated diseases to initial df\n",
    "\n",
    "df_m = df.merge(gene_mim, how='inner')\n",
    "df_m.head(3)"
   ]
  },
  {
   "cell_type": "code",
   "execution_count": 45,
   "id": "26ac6476",
   "metadata": {},
   "outputs": [],
   "source": [
    "df_m.to_csv('clinvar_grch38_plp_hpo_MIMcount.csv', sep='\\t', index=False)"
   ]
  },
  {
   "cell_type": "markdown",
   "id": "39e4d2d6",
   "metadata": {},
   "source": [
    "## Description of variants linkef to  2+ phenotypes "
   ]
  },
  {
   "cell_type": "code",
   "execution_count": 53,
   "id": "8cf109ce",
   "metadata": {},
   "outputs": [],
   "source": [
    "df_m = pd.read_csv('clinvar_grch38_plp_hpo_MIMcount.csv', sep='\\t')"
   ]
  },
  {
   "cell_type": "code",
   "execution_count": 55,
   "id": "cc3dff70",
   "metadata": {},
   "outputs": [
    {
     "data": {
      "text/html": [
       "<div>\n",
       "<style scoped>\n",
       "    .dataframe tbody tr th:only-of-type {\n",
       "        vertical-align: middle;\n",
       "    }\n",
       "\n",
       "    .dataframe tbody tr th {\n",
       "        vertical-align: top;\n",
       "    }\n",
       "\n",
       "    .dataframe thead th {\n",
       "        text-align: right;\n",
       "    }\n",
       "</style>\n",
       "<table border=\"1\" class=\"dataframe\">\n",
       "  <thead>\n",
       "    <tr style=\"text-align: right;\">\n",
       "      <th></th>\n",
       "      <th>MIMs_per_Gene</th>\n",
       "      <th>GENEINFO</th>\n",
       "      <th>ID</th>\n",
       "      <th>OMIM</th>\n",
       "    </tr>\n",
       "  </thead>\n",
       "  <tbody>\n",
       "    <tr>\n",
       "      <th>45</th>\n",
       "      <td>3</td>\n",
       "      <td>B3GALT6</td>\n",
       "      <td>60484</td>\n",
       "      <td>OMIM:271640</td>\n",
       "    </tr>\n",
       "    <tr>\n",
       "      <th>46</th>\n",
       "      <td>3</td>\n",
       "      <td>B3GALT6</td>\n",
       "      <td>60488</td>\n",
       "      <td>OMIM:271640</td>\n",
       "    </tr>\n",
       "  </tbody>\n",
       "</table>\n",
       "</div>"
      ],
      "text/plain": [
       "    MIMs_per_Gene GENEINFO     ID         OMIM\n",
       "45              3  B3GALT6  60484  OMIM:271640\n",
       "46              3  B3GALT6  60488  OMIM:271640"
      ]
     },
     "execution_count": 55,
     "metadata": {},
     "output_type": "execute_result"
    }
   ],
   "source": [
    "# Count variants associated with 2+ phenotypes\n",
    "\n",
    "var_multipheno = df_m[df_m['MIMs_per_Gene'] > 1]\n",
    "var_multipheno = var_multipheno[['MIMs_per_Gene','GENEINFO', 'ID', 'OMIM']].drop_duplicates()"
   ]
  },
  {
   "cell_type": "code",
   "execution_count": 56,
   "id": "1682abac",
   "metadata": {},
   "outputs": [
    {
     "data": {
      "text/html": [
       "<div>\n",
       "<style scoped>\n",
       "    .dataframe tbody tr th:only-of-type {\n",
       "        vertical-align: middle;\n",
       "    }\n",
       "\n",
       "    .dataframe tbody tr th {\n",
       "        vertical-align: top;\n",
       "    }\n",
       "\n",
       "    .dataframe thead th {\n",
       "        text-align: right;\n",
       "    }\n",
       "</style>\n",
       "<table border=\"1\" class=\"dataframe\">\n",
       "  <thead>\n",
       "    <tr style=\"text-align: right;\">\n",
       "      <th></th>\n",
       "      <th>GENEINFO</th>\n",
       "      <th>ID</th>\n",
       "      <th>Variants_with_MultiMIMs</th>\n",
       "    </tr>\n",
       "  </thead>\n",
       "  <tbody>\n",
       "    <tr>\n",
       "      <th>0</th>\n",
       "      <td>AARS1</td>\n",
       "      <td>8466</td>\n",
       "      <td>1</td>\n",
       "    </tr>\n",
       "    <tr>\n",
       "      <th>1</th>\n",
       "      <td>AARS1</td>\n",
       "      <td>190102</td>\n",
       "      <td>2</td>\n",
       "    </tr>\n",
       "  </tbody>\n",
       "</table>\n",
       "</div>"
      ],
      "text/plain": [
       "  GENEINFO      ID  Variants_with_MultiMIMs\n",
       "0    AARS1    8466                        1\n",
       "1    AARS1  190102                        2"
      ]
     },
     "execution_count": 56,
     "metadata": {},
     "output_type": "execute_result"
    }
   ],
   "source": [
    "var_multipheno_c = var_multipheno.groupby(['GENEINFO','ID']).size().reset_index(name='Variants_with_MultiMIMs')\n",
    "var_multipheno_c.head(2)"
   ]
  },
  {
   "cell_type": "code",
   "execution_count": 57,
   "id": "23c03791",
   "metadata": {},
   "outputs": [
    {
     "data": {
      "text/html": [
       "<div>\n",
       "<style scoped>\n",
       "    .dataframe tbody tr th:only-of-type {\n",
       "        vertical-align: middle;\n",
       "    }\n",
       "\n",
       "    .dataframe tbody tr th {\n",
       "        vertical-align: top;\n",
       "    }\n",
       "\n",
       "    .dataframe thead th {\n",
       "        text-align: right;\n",
       "    }\n",
       "</style>\n",
       "<table border=\"1\" class=\"dataframe\">\n",
       "  <thead>\n",
       "    <tr style=\"text-align: right;\">\n",
       "      <th></th>\n",
       "      <th>MIMs_per_Gene</th>\n",
       "      <th>GENEINFO</th>\n",
       "      <th>ID</th>\n",
       "      <th>OMIM</th>\n",
       "      <th>Variants_with_MultiMIMs</th>\n",
       "    </tr>\n",
       "  </thead>\n",
       "  <tbody>\n",
       "    <tr>\n",
       "      <th>0</th>\n",
       "      <td>3</td>\n",
       "      <td>B3GALT6</td>\n",
       "      <td>60484</td>\n",
       "      <td>OMIM:271640</td>\n",
       "      <td>2</td>\n",
       "    </tr>\n",
       "    <tr>\n",
       "      <th>2</th>\n",
       "      <td>3</td>\n",
       "      <td>B3GALT6</td>\n",
       "      <td>60488</td>\n",
       "      <td>OMIM:271640</td>\n",
       "      <td>1</td>\n",
       "    </tr>\n",
       "    <tr>\n",
       "      <th>3</th>\n",
       "      <td>3</td>\n",
       "      <td>B3GALT6</td>\n",
       "      <td>60489</td>\n",
       "      <td>OMIM:271640</td>\n",
       "      <td>2</td>\n",
       "    </tr>\n",
       "    <tr>\n",
       "      <th>5</th>\n",
       "      <td>3</td>\n",
       "      <td>B3GALT6</td>\n",
       "      <td>60486</td>\n",
       "      <td>OMIM:271640</td>\n",
       "      <td>1</td>\n",
       "    </tr>\n",
       "    <tr>\n",
       "      <th>6</th>\n",
       "      <td>3</td>\n",
       "      <td>B3GALT6</td>\n",
       "      <td>522415</td>\n",
       "      <td>OMIM:271640</td>\n",
       "      <td>2</td>\n",
       "    </tr>\n",
       "    <tr>\n",
       "      <th>...</th>\n",
       "      <td>...</td>\n",
       "      <td>...</td>\n",
       "      <td>...</td>\n",
       "      <td>...</td>\n",
       "      <td>...</td>\n",
       "    </tr>\n",
       "    <tr>\n",
       "      <th>93208</th>\n",
       "      <td>2</td>\n",
       "      <td>RAB39B</td>\n",
       "      <td>156532</td>\n",
       "      <td>OMIM:311510</td>\n",
       "      <td>1</td>\n",
       "    </tr>\n",
       "    <tr>\n",
       "      <th>93209</th>\n",
       "      <td>2</td>\n",
       "      <td>RAB39B</td>\n",
       "      <td>1210217</td>\n",
       "      <td>OMIM:311510</td>\n",
       "      <td>1</td>\n",
       "    </tr>\n",
       "    <tr>\n",
       "      <th>93210</th>\n",
       "      <td>2</td>\n",
       "      <td>RAB39B</td>\n",
       "      <td>436462</td>\n",
       "      <td>OMIM:300271</td>\n",
       "      <td>1</td>\n",
       "    </tr>\n",
       "    <tr>\n",
       "      <th>93211</th>\n",
       "      <td>2</td>\n",
       "      <td>RAB39B</td>\n",
       "      <td>10542</td>\n",
       "      <td>OMIM:300271</td>\n",
       "      <td>1</td>\n",
       "    </tr>\n",
       "    <tr>\n",
       "      <th>93212</th>\n",
       "      <td>2</td>\n",
       "      <td>RAB39B</td>\n",
       "      <td>10543</td>\n",
       "      <td>OMIM:300271</td>\n",
       "      <td>1</td>\n",
       "    </tr>\n",
       "  </tbody>\n",
       "</table>\n",
       "<p>69519 rows × 5 columns</p>\n",
       "</div>"
      ],
      "text/plain": [
       "       MIMs_per_Gene GENEINFO       ID         OMIM  Variants_with_MultiMIMs\n",
       "0                  3  B3GALT6    60484  OMIM:271640                        2\n",
       "2                  3  B3GALT6    60488  OMIM:271640                        1\n",
       "3                  3  B3GALT6    60489  OMIM:271640                        2\n",
       "5                  3  B3GALT6    60486  OMIM:271640                        1\n",
       "6                  3  B3GALT6   522415  OMIM:271640                        2\n",
       "...              ...      ...      ...          ...                      ...\n",
       "93208              2   RAB39B   156532  OMIM:311510                        1\n",
       "93209              2   RAB39B  1210217  OMIM:311510                        1\n",
       "93210              2   RAB39B   436462  OMIM:300271                        1\n",
       "93211              2   RAB39B    10542  OMIM:300271                        1\n",
       "93212              2   RAB39B    10543  OMIM:300271                        1\n",
       "\n",
       "[69519 rows x 5 columns]"
      ]
     },
     "execution_count": 57,
     "metadata": {},
     "output_type": "execute_result"
    }
   ],
   "source": [
    "var_mulph_c = var_multipheno.merge(var_multipheno_c, on=['GENEINFO', 'ID'], how='inner')\n",
    "var_mulph_c = var_mulph_c.drop_duplicates(subset=['GENEINFO', 'ID'])\n",
    "var_mulph_c"
   ]
  },
  {
   "cell_type": "code",
   "execution_count": 58,
   "id": "f7da2d1e",
   "metadata": {},
   "outputs": [
    {
     "data": {
      "text/html": [
       "<div>\n",
       "<style scoped>\n",
       "    .dataframe tbody tr th:only-of-type {\n",
       "        vertical-align: middle;\n",
       "    }\n",
       "\n",
       "    .dataframe tbody tr th {\n",
       "        vertical-align: top;\n",
       "    }\n",
       "\n",
       "    .dataframe thead th {\n",
       "        text-align: right;\n",
       "    }\n",
       "</style>\n",
       "<table border=\"1\" class=\"dataframe\">\n",
       "  <thead>\n",
       "    <tr style=\"text-align: right;\">\n",
       "      <th></th>\n",
       "      <th>MIMs_per_Gene</th>\n",
       "      <th>GENEINFO</th>\n",
       "      <th>Variants_with_MultiMIMs</th>\n",
       "      <th>N_variants</th>\n",
       "    </tr>\n",
       "  </thead>\n",
       "  <tbody>\n",
       "    <tr>\n",
       "      <th>0</th>\n",
       "      <td>2</td>\n",
       "      <td>ABCA1</td>\n",
       "      <td>1</td>\n",
       "      <td>20</td>\n",
       "    </tr>\n",
       "    <tr>\n",
       "      <th>1</th>\n",
       "      <td>2</td>\n",
       "      <td>ABCA1</td>\n",
       "      <td>2</td>\n",
       "      <td>1</td>\n",
       "    </tr>\n",
       "    <tr>\n",
       "      <th>2</th>\n",
       "      <td>2</td>\n",
       "      <td>ABCA12</td>\n",
       "      <td>1</td>\n",
       "      <td>24</td>\n",
       "    </tr>\n",
       "    <tr>\n",
       "      <th>3</th>\n",
       "      <td>2</td>\n",
       "      <td>ABCA12</td>\n",
       "      <td>2</td>\n",
       "      <td>4</td>\n",
       "    </tr>\n",
       "    <tr>\n",
       "      <th>4</th>\n",
       "      <td>2</td>\n",
       "      <td>ABCB11</td>\n",
       "      <td>1</td>\n",
       "      <td>39</td>\n",
       "    </tr>\n",
       "    <tr>\n",
       "      <th>...</th>\n",
       "      <td>...</td>\n",
       "      <td>...</td>\n",
       "      <td>...</td>\n",
       "      <td>...</td>\n",
       "    </tr>\n",
       "    <tr>\n",
       "      <th>2190</th>\n",
       "      <td>16</td>\n",
       "      <td>COL2A1</td>\n",
       "      <td>3</td>\n",
       "      <td>2</td>\n",
       "    </tr>\n",
       "    <tr>\n",
       "      <th>2191</th>\n",
       "      <td>16</td>\n",
       "      <td>COL2A1</td>\n",
       "      <td>5</td>\n",
       "      <td>1</td>\n",
       "    </tr>\n",
       "    <tr>\n",
       "      <th>2192</th>\n",
       "      <td>16</td>\n",
       "      <td>COL2A1</td>\n",
       "      <td>6</td>\n",
       "      <td>1</td>\n",
       "    </tr>\n",
       "    <tr>\n",
       "      <th>2193</th>\n",
       "      <td>16</td>\n",
       "      <td>COL2A1</td>\n",
       "      <td>13</td>\n",
       "      <td>3</td>\n",
       "    </tr>\n",
       "    <tr>\n",
       "      <th>2194</th>\n",
       "      <td>16</td>\n",
       "      <td>COL2A1</td>\n",
       "      <td>16</td>\n",
       "      <td>2</td>\n",
       "    </tr>\n",
       "  </tbody>\n",
       "</table>\n",
       "<p>2195 rows × 4 columns</p>\n",
       "</div>"
      ],
      "text/plain": [
       "      MIMs_per_Gene GENEINFO  Variants_with_MultiMIMs  N_variants\n",
       "0                 2    ABCA1                        1          20\n",
       "1                 2    ABCA1                        2           1\n",
       "2                 2   ABCA12                        1          24\n",
       "3                 2   ABCA12                        2           4\n",
       "4                 2   ABCB11                        1          39\n",
       "...             ...      ...                      ...         ...\n",
       "2190             16   COL2A1                        3           2\n",
       "2191             16   COL2A1                        5           1\n",
       "2192             16   COL2A1                        6           1\n",
       "2193             16   COL2A1                       13           3\n",
       "2194             16   COL2A1                       16           2\n",
       "\n",
       "[2195 rows x 4 columns]"
      ]
     },
     "execution_count": 58,
     "metadata": {},
     "output_type": "execute_result"
    }
   ],
   "source": [
    "var_mulph_c =  var_mulph_c.drop(columns=['OMIM'])\n",
    "var_mulph_c= var_mulph_c.groupby(['MIMs_per_Gene','GENEINFO','Variants_with_MultiMIMs']).size().reset_index(name='N_variants')\n",
    "var_mulph_c"
   ]
  },
  {
   "cell_type": "code",
   "execution_count": 59,
   "id": "e5cf01a7",
   "metadata": {},
   "outputs": [
    {
     "data": {
      "text/html": [
       "<div>\n",
       "<style scoped>\n",
       "    .dataframe tbody tr th:only-of-type {\n",
       "        vertical-align: middle;\n",
       "    }\n",
       "\n",
       "    .dataframe tbody tr th {\n",
       "        vertical-align: top;\n",
       "    }\n",
       "\n",
       "    .dataframe thead th {\n",
       "        text-align: right;\n",
       "    }\n",
       "</style>\n",
       "<table border=\"1\" class=\"dataframe\">\n",
       "  <thead>\n",
       "    <tr style=\"text-align: right;\">\n",
       "      <th></th>\n",
       "      <th>MIMs_per_Gene</th>\n",
       "      <th>GENEINFO</th>\n",
       "      <th>Variants_with_MultiMIMs</th>\n",
       "      <th>N_variants</th>\n",
       "      <th>Percent</th>\n",
       "    </tr>\n",
       "  </thead>\n",
       "  <tbody>\n",
       "    <tr>\n",
       "      <th>0</th>\n",
       "      <td>2</td>\n",
       "      <td>ABCA1</td>\n",
       "      <td>1</td>\n",
       "      <td>20</td>\n",
       "      <td>95.238095</td>\n",
       "    </tr>\n",
       "    <tr>\n",
       "      <th>1</th>\n",
       "      <td>2</td>\n",
       "      <td>ABCA1</td>\n",
       "      <td>2</td>\n",
       "      <td>1</td>\n",
       "      <td>4.761905</td>\n",
       "    </tr>\n",
       "    <tr>\n",
       "      <th>2</th>\n",
       "      <td>2</td>\n",
       "      <td>ABCA12</td>\n",
       "      <td>1</td>\n",
       "      <td>24</td>\n",
       "      <td>85.714286</td>\n",
       "    </tr>\n",
       "    <tr>\n",
       "      <th>3</th>\n",
       "      <td>2</td>\n",
       "      <td>ABCA12</td>\n",
       "      <td>2</td>\n",
       "      <td>4</td>\n",
       "      <td>14.285714</td>\n",
       "    </tr>\n",
       "    <tr>\n",
       "      <th>4</th>\n",
       "      <td>2</td>\n",
       "      <td>ABCB11</td>\n",
       "      <td>1</td>\n",
       "      <td>39</td>\n",
       "      <td>78.000000</td>\n",
       "    </tr>\n",
       "    <tr>\n",
       "      <th>...</th>\n",
       "      <td>...</td>\n",
       "      <td>...</td>\n",
       "      <td>...</td>\n",
       "      <td>...</td>\n",
       "      <td>...</td>\n",
       "    </tr>\n",
       "    <tr>\n",
       "      <th>2190</th>\n",
       "      <td>16</td>\n",
       "      <td>COL2A1</td>\n",
       "      <td>3</td>\n",
       "      <td>2</td>\n",
       "      <td>0.917431</td>\n",
       "    </tr>\n",
       "    <tr>\n",
       "      <th>2191</th>\n",
       "      <td>16</td>\n",
       "      <td>COL2A1</td>\n",
       "      <td>5</td>\n",
       "      <td>1</td>\n",
       "      <td>0.458716</td>\n",
       "    </tr>\n",
       "    <tr>\n",
       "      <th>2192</th>\n",
       "      <td>16</td>\n",
       "      <td>COL2A1</td>\n",
       "      <td>6</td>\n",
       "      <td>1</td>\n",
       "      <td>0.458716</td>\n",
       "    </tr>\n",
       "    <tr>\n",
       "      <th>2193</th>\n",
       "      <td>16</td>\n",
       "      <td>COL2A1</td>\n",
       "      <td>13</td>\n",
       "      <td>3</td>\n",
       "      <td>1.376147</td>\n",
       "    </tr>\n",
       "    <tr>\n",
       "      <th>2194</th>\n",
       "      <td>16</td>\n",
       "      <td>COL2A1</td>\n",
       "      <td>16</td>\n",
       "      <td>2</td>\n",
       "      <td>0.917431</td>\n",
       "    </tr>\n",
       "  </tbody>\n",
       "</table>\n",
       "<p>2195 rows × 5 columns</p>\n",
       "</div>"
      ],
      "text/plain": [
       "      MIMs_per_Gene GENEINFO  Variants_with_MultiMIMs  N_variants    Percent\n",
       "0                 2    ABCA1                        1          20  95.238095\n",
       "1                 2    ABCA1                        2           1   4.761905\n",
       "2                 2   ABCA12                        1          24  85.714286\n",
       "3                 2   ABCA12                        2           4  14.285714\n",
       "4                 2   ABCB11                        1          39  78.000000\n",
       "...             ...      ...                      ...         ...        ...\n",
       "2190             16   COL2A1                        3           2   0.917431\n",
       "2191             16   COL2A1                        5           1   0.458716\n",
       "2192             16   COL2A1                        6           1   0.458716\n",
       "2193             16   COL2A1                       13           3   1.376147\n",
       "2194             16   COL2A1                       16           2   0.917431\n",
       "\n",
       "[2195 rows x 5 columns]"
      ]
     },
     "execution_count": 59,
     "metadata": {},
     "output_type": "execute_result"
    }
   ],
   "source": [
    "var_mulph_c['Percent'] = 100 * var_mulph_c['N_variants'] / var_mulph_c.groupby('GENEINFO')['N_variants'].transform('sum')\n",
    "var_mulph_c"
   ]
  },
  {
   "cell_type": "code",
   "execution_count": 60,
   "id": "e910f44b",
   "metadata": {},
   "outputs": [],
   "source": [
    "var_mulph_c.to_csv('SumVarPheno.csv', sep='\\t', index=False)"
   ]
  },
  {
   "cell_type": "code",
   "execution_count": 63,
   "id": "14ff55eb",
   "metadata": {},
   "outputs": [
    {
     "data": {
      "image/png": "[encoded data removed]",
      "text/plain": [
       "<IPython.core.display.Image object>"
      ]
     },
     "metadata": {},
     "output_type": "display_data"
    }
   ],
   "source": [
    "%%R -i var_mulph_c\n",
    "\n",
    "var_mulph_pl <- var_mulph_c[var_mulph_c$Variants_with_MultiMIMs == 1, ]\n",
    "\n",
    "ggplot(var_mulph_pl, aes(x=as.factor(MIMs_per_Gene), y=100-Percent)) +\n",
    "geom_boxplot(fill='blue', alpha=0.25) + xlab('Disease per gene') +\n",
    "ylab('% of variants with 2+ associated syndromes') + \n",
    "theme_set(theme_gray(base_family = \"DejaVu\")) +\n",
    "theme(axis.text = element_text(size = 10), axis.title =  element_text(size=14)) + theme_bw()"
   ]
  },
  {
   "cell_type": "markdown",
   "id": "4aefe387",
   "metadata": {},
   "source": [
    "### Review Status of variants associated with 2 MIMs  (based on ClinVar data)"
   ]
  },
  {
   "cell_type": "code",
   "execution_count": 130,
   "id": "5c381640",
   "metadata": {},
   "outputs": [
    {
     "data": {
      "text/html": [
       "<div>\n",
       "<style scoped>\n",
       "    .dataframe tbody tr th:only-of-type {\n",
       "        vertical-align: middle;\n",
       "    }\n",
       "\n",
       "    .dataframe tbody tr th {\n",
       "        vertical-align: top;\n",
       "    }\n",
       "\n",
       "    .dataframe thead th {\n",
       "        text-align: right;\n",
       "    }\n",
       "</style>\n",
       "<table border=\"1\" class=\"dataframe\">\n",
       "  <thead>\n",
       "    <tr style=\"text-align: right;\">\n",
       "      <th></th>\n",
       "      <th>GENEINFO</th>\n",
       "      <th>ID</th>\n",
       "      <th>Variants_with_MultiMIMs</th>\n",
       "    </tr>\n",
       "  </thead>\n",
       "  <tbody>\n",
       "    <tr>\n",
       "      <th>0</th>\n",
       "      <td>AARS1</td>\n",
       "      <td>8466</td>\n",
       "      <td>1</td>\n",
       "    </tr>\n",
       "    <tr>\n",
       "      <th>1</th>\n",
       "      <td>AARS1</td>\n",
       "      <td>190102</td>\n",
       "      <td>2</td>\n",
       "    </tr>\n",
       "    <tr>\n",
       "      <th>2</th>\n",
       "      <td>AARS1</td>\n",
       "      <td>549673</td>\n",
       "      <td>1</td>\n",
       "    </tr>\n",
       "    <tr>\n",
       "      <th>3</th>\n",
       "      <td>AARS1</td>\n",
       "      <td>549676</td>\n",
       "      <td>1</td>\n",
       "    </tr>\n",
       "    <tr>\n",
       "      <th>4</th>\n",
       "      <td>AARS1</td>\n",
       "      <td>1164091</td>\n",
       "      <td>1</td>\n",
       "    </tr>\n",
       "    <tr>\n",
       "      <th>...</th>\n",
       "      <td>...</td>\n",
       "      <td>...</td>\n",
       "      <td>...</td>\n",
       "    </tr>\n",
       "    <tr>\n",
       "      <th>69514</th>\n",
       "      <td>ZNF408</td>\n",
       "      <td>931150</td>\n",
       "      <td>1</td>\n",
       "    </tr>\n",
       "    <tr>\n",
       "      <th>69515</th>\n",
       "      <td>ZSWIM6</td>\n",
       "      <td>155772</td>\n",
       "      <td>1</td>\n",
       "    </tr>\n",
       "    <tr>\n",
       "      <th>69516</th>\n",
       "      <td>ZSWIM6</td>\n",
       "      <td>431797</td>\n",
       "      <td>1</td>\n",
       "    </tr>\n",
       "    <tr>\n",
       "      <th>69517</th>\n",
       "      <td>ZSWIM7</td>\n",
       "      <td>1013608</td>\n",
       "      <td>2</td>\n",
       "    </tr>\n",
       "    <tr>\n",
       "      <th>69518</th>\n",
       "      <td>ZSWIM7</td>\n",
       "      <td>1676297</td>\n",
       "      <td>1</td>\n",
       "    </tr>\n",
       "  </tbody>\n",
       "</table>\n",
       "<p>69519 rows × 3 columns</p>\n",
       "</div>"
      ],
      "text/plain": [
       "      GENEINFO       ID  Variants_with_MultiMIMs\n",
       "0        AARS1     8466                        1\n",
       "1        AARS1   190102                        2\n",
       "2        AARS1   549673                        1\n",
       "3        AARS1   549676                        1\n",
       "4        AARS1  1164091                        1\n",
       "...        ...      ...                      ...\n",
       "69514   ZNF408   931150                        1\n",
       "69515   ZSWIM6   155772                        1\n",
       "69516   ZSWIM6   431797                        1\n",
       "69517   ZSWIM7  1013608                        2\n",
       "69518   ZSWIM7  1676297                        1\n",
       "\n",
       "[69519 rows x 3 columns]"
      ]
     },
     "execution_count": 130,
     "metadata": {},
     "output_type": "execute_result"
    }
   ],
   "source": [
    "var_multipheno_c"
   ]
  },
  {
   "cell_type": "code",
   "execution_count": 144,
   "id": "c96b6220",
   "metadata": {},
   "outputs": [
    {
     "data": {
      "text/html": [
       "<div>\n",
       "<style scoped>\n",
       "    .dataframe tbody tr th:only-of-type {\n",
       "        vertical-align: middle;\n",
       "    }\n",
       "\n",
       "    .dataframe tbody tr th {\n",
       "        vertical-align: top;\n",
       "    }\n",
       "\n",
       "    .dataframe thead th {\n",
       "        text-align: right;\n",
       "    }\n",
       "</style>\n",
       "<table border=\"1\" class=\"dataframe\">\n",
       "  <thead>\n",
       "    <tr style=\"text-align: right;\">\n",
       "      <th></th>\n",
       "      <th>CHROM</th>\n",
       "      <th>POS</th>\n",
       "      <th>ID</th>\n",
       "      <th>REF</th>\n",
       "      <th>ALT</th>\n",
       "      <th>QUAL</th>\n",
       "      <th>FILTER</th>\n",
       "      <th>AF_EXAC</th>\n",
       "      <th>CLNREVSTAT</th>\n",
       "      <th>CLNSIG</th>\n",
       "      <th>CLNVC</th>\n",
       "      <th>GENEINFO_x</th>\n",
       "      <th>OMIM</th>\n",
       "      <th>ORPHA</th>\n",
       "      <th>ncbi_gene_id</th>\n",
       "      <th>Inheritance</th>\n",
       "      <th>Ensembl</th>\n",
       "      <th>MIMs_per_Gene</th>\n",
       "      <th>GENEINFO_y</th>\n",
       "      <th>Variants_with_MultiMIMs</th>\n",
       "    </tr>\n",
       "  </thead>\n",
       "  <tbody>\n",
       "    <tr>\n",
       "      <th>45</th>\n",
       "      <td>chr1</td>\n",
       "      <td>1232279</td>\n",
       "      <td>60484</td>\n",
       "      <td>A</td>\n",
       "      <td>G</td>\n",
       "      <td>-10.0</td>\n",
       "      <td>PASS</td>\n",
       "      <td>NaN</td>\n",
       "      <td>criteria_provided,_multiple_submitters,_no_con...</td>\n",
       "      <td>Pathogenic</td>\n",
       "      <td>single_nucleotide_variant</td>\n",
       "      <td>B3GALT6</td>\n",
       "      <td>OMIM:271640</td>\n",
       "      <td>Orphanet:93359</td>\n",
       "      <td>126792</td>\n",
       "      <td>AR</td>\n",
       "      <td>ENSG00000176022</td>\n",
       "      <td>3</td>\n",
       "      <td>B3GALT6</td>\n",
       "      <td>2.0</td>\n",
       "    </tr>\n",
       "    <tr>\n",
       "      <th>46</th>\n",
       "      <td>chr1</td>\n",
       "      <td>1232471</td>\n",
       "      <td>60488</td>\n",
       "      <td>A</td>\n",
       "      <td>G</td>\n",
       "      <td>-10.0</td>\n",
       "      <td>PASS</td>\n",
       "      <td>NaN</td>\n",
       "      <td>no_assertion_criteria_provided</td>\n",
       "      <td>Pathogenic</td>\n",
       "      <td>single_nucleotide_variant</td>\n",
       "      <td>B3GALT6</td>\n",
       "      <td>OMIM:271640</td>\n",
       "      <td>Orphanet:93359</td>\n",
       "      <td>126792</td>\n",
       "      <td>AR</td>\n",
       "      <td>ENSG00000176022</td>\n",
       "      <td>3</td>\n",
       "      <td>B3GALT6</td>\n",
       "      <td>1.0</td>\n",
       "    </tr>\n",
       "    <tr>\n",
       "      <th>47</th>\n",
       "      <td>chr1</td>\n",
       "      <td>1232478</td>\n",
       "      <td>60489</td>\n",
       "      <td>C</td>\n",
       "      <td>T</td>\n",
       "      <td>-10.0</td>\n",
       "      <td>PASS</td>\n",
       "      <td>NaN</td>\n",
       "      <td>criteria_provided,_single_submitter</td>\n",
       "      <td>Pathogenic</td>\n",
       "      <td>single_nucleotide_variant</td>\n",
       "      <td>B3GALT6</td>\n",
       "      <td>OMIM:271640</td>\n",
       "      <td>Orphanet:93359</td>\n",
       "      <td>126792</td>\n",
       "      <td>AR</td>\n",
       "      <td>ENSG00000176022</td>\n",
       "      <td>3</td>\n",
       "      <td>B3GALT6</td>\n",
       "      <td>2.0</td>\n",
       "    </tr>\n",
       "    <tr>\n",
       "      <th>48</th>\n",
       "      <td>chr1</td>\n",
       "      <td>1232744</td>\n",
       "      <td>60486</td>\n",
       "      <td>G</td>\n",
       "      <td>A</td>\n",
       "      <td>-10.0</td>\n",
       "      <td>PASS</td>\n",
       "      <td>NaN</td>\n",
       "      <td>no_assertion_criteria_provided</td>\n",
       "      <td>Pathogenic</td>\n",
       "      <td>single_nucleotide_variant</td>\n",
       "      <td>B3GALT6</td>\n",
       "      <td>OMIM:271640</td>\n",
       "      <td>Orphanet:93359</td>\n",
       "      <td>126792</td>\n",
       "      <td>AR</td>\n",
       "      <td>ENSG00000176022</td>\n",
       "      <td>3</td>\n",
       "      <td>B3GALT6</td>\n",
       "      <td>1.0</td>\n",
       "    </tr>\n",
       "    <tr>\n",
       "      <th>49</th>\n",
       "      <td>chr1</td>\n",
       "      <td>1232834</td>\n",
       "      <td>522415</td>\n",
       "      <td>T</td>\n",
       "      <td>C</td>\n",
       "      <td>-10.0</td>\n",
       "      <td>PASS</td>\n",
       "      <td>NaN</td>\n",
       "      <td>criteria_provided,_single_submitter</td>\n",
       "      <td>Pathogenic</td>\n",
       "      <td>single_nucleotide_variant</td>\n",
       "      <td>B3GALT6</td>\n",
       "      <td>OMIM:271640</td>\n",
       "      <td>Orphanet:93359</td>\n",
       "      <td>126792</td>\n",
       "      <td>AR</td>\n",
       "      <td>ENSG00000176022</td>\n",
       "      <td>3</td>\n",
       "      <td>B3GALT6</td>\n",
       "      <td>2.0</td>\n",
       "    </tr>\n",
       "  </tbody>\n",
       "</table>\n",
       "</div>"
      ],
      "text/plain": [
       "   CHROM      POS      ID REF ALT  QUAL FILTER  AF_EXAC  \\\n",
       "45  chr1  1232279   60484   A   G -10.0   PASS      NaN   \n",
       "46  chr1  1232471   60488   A   G -10.0   PASS      NaN   \n",
       "47  chr1  1232478   60489   C   T -10.0   PASS      NaN   \n",
       "48  chr1  1232744   60486   G   A -10.0   PASS      NaN   \n",
       "49  chr1  1232834  522415   T   C -10.0   PASS      NaN   \n",
       "\n",
       "                                           CLNREVSTAT      CLNSIG  \\\n",
       "45  criteria_provided,_multiple_submitters,_no_con...  Pathogenic   \n",
       "46                     no_assertion_criteria_provided  Pathogenic   \n",
       "47                criteria_provided,_single_submitter  Pathogenic   \n",
       "48                     no_assertion_criteria_provided  Pathogenic   \n",
       "49                criteria_provided,_single_submitter  Pathogenic   \n",
       "\n",
       "                        CLNVC GENEINFO_x         OMIM           ORPHA  \\\n",
       "45  single_nucleotide_variant    B3GALT6  OMIM:271640  Orphanet:93359   \n",
       "46  single_nucleotide_variant    B3GALT6  OMIM:271640  Orphanet:93359   \n",
       "47  single_nucleotide_variant    B3GALT6  OMIM:271640  Orphanet:93359   \n",
       "48  single_nucleotide_variant    B3GALT6  OMIM:271640  Orphanet:93359   \n",
       "49  single_nucleotide_variant    B3GALT6  OMIM:271640  Orphanet:93359   \n",
       "\n",
       "    ncbi_gene_id Inheritance          Ensembl  MIMs_per_Gene GENEINFO_y  \\\n",
       "45        126792          AR  ENSG00000176022              3    B3GALT6   \n",
       "46        126792          AR  ENSG00000176022              3    B3GALT6   \n",
       "47        126792          AR  ENSG00000176022              3    B3GALT6   \n",
       "48        126792          AR  ENSG00000176022              3    B3GALT6   \n",
       "49        126792          AR  ENSG00000176022              3    B3GALT6   \n",
       "\n",
       "    Variants_with_MultiMIMs  \n",
       "45                      2.0  \n",
       "46                      1.0  \n",
       "47                      2.0  \n",
       "48                      1.0  \n",
       "49                      2.0  "
      ]
     },
     "execution_count": 144,
     "metadata": {},
     "output_type": "execute_result"
    }
   ],
   "source": [
    "df_m1 = df_m.merge(var_multipheno_c, on='ID', how='left')\n",
    "df_m1 = df_m1[df_m1['MIMs_per_Gene'] > 1]\n",
    "df_m1.head()"
   ]
  },
  {
   "cell_type": "code",
   "execution_count": 146,
   "id": "cdf521fb",
   "metadata": {},
   "outputs": [],
   "source": [
    "df_m1.to_csv('/interm/Variants_with_MultiMims.csv', sep='\\t', index=False)"
   ]
  },
  {
   "cell_type": "code",
   "execution_count": 132,
   "id": "c7672f6b",
   "metadata": {},
   "outputs": [
    {
     "data": {
      "text/html": [
       "<div>\n",
       "<style scoped>\n",
       "    .dataframe tbody tr th:only-of-type {\n",
       "        vertical-align: middle;\n",
       "    }\n",
       "\n",
       "    .dataframe tbody tr th {\n",
       "        vertical-align: top;\n",
       "    }\n",
       "\n",
       "    .dataframe thead th {\n",
       "        text-align: right;\n",
       "    }\n",
       "</style>\n",
       "<table border=\"1\" class=\"dataframe\">\n",
       "  <thead>\n",
       "    <tr style=\"text-align: right;\">\n",
       "      <th></th>\n",
       "      <th>MIMs_per_Gene</th>\n",
       "      <th>CLNREVSTAT</th>\n",
       "      <th>Variants_with_MultiMIMs</th>\n",
       "    </tr>\n",
       "  </thead>\n",
       "  <tbody>\n",
       "    <tr>\n",
       "      <th>45</th>\n",
       "      <td>3</td>\n",
       "      <td>criteria_provided,_multiple_submitters,_no_con...</td>\n",
       "      <td>2.0</td>\n",
       "    </tr>\n",
       "    <tr>\n",
       "      <th>46</th>\n",
       "      <td>3</td>\n",
       "      <td>no_assertion_criteria_provided</td>\n",
       "      <td>1.0</td>\n",
       "    </tr>\n",
       "    <tr>\n",
       "      <th>47</th>\n",
       "      <td>3</td>\n",
       "      <td>criteria_provided,_single_submitter</td>\n",
       "      <td>2.0</td>\n",
       "    </tr>\n",
       "    <tr>\n",
       "      <th>48</th>\n",
       "      <td>3</td>\n",
       "      <td>no_assertion_criteria_provided</td>\n",
       "      <td>1.0</td>\n",
       "    </tr>\n",
       "    <tr>\n",
       "      <th>49</th>\n",
       "      <td>3</td>\n",
       "      <td>criteria_provided,_single_submitter</td>\n",
       "      <td>2.0</td>\n",
       "    </tr>\n",
       "  </tbody>\n",
       "</table>\n",
       "</div>"
      ],
      "text/plain": [
       "    MIMs_per_Gene                                         CLNREVSTAT  \\\n",
       "45              3  criteria_provided,_multiple_submitters,_no_con...   \n",
       "46              3                     no_assertion_criteria_provided   \n",
       "47              3                criteria_provided,_single_submitter   \n",
       "48              3                     no_assertion_criteria_provided   \n",
       "49              3                criteria_provided,_single_submitter   \n",
       "\n",
       "    Variants_with_MultiMIMs  \n",
       "45                      2.0  \n",
       "46                      1.0  \n",
       "47                      2.0  \n",
       "48                      1.0  \n",
       "49                      2.0  "
      ]
     },
     "execution_count": 132,
     "metadata": {},
     "output_type": "execute_result"
    }
   ],
   "source": [
    "df_m1 = df_m1[['MIMs_per_Gene', 'CLNREVSTAT', 'Variants_with_MultiMIMs']]\n",
    "df_m1.head()"
   ]
  },
  {
   "cell_type": "code",
   "execution_count": null,
   "id": "5890067d",
   "metadata": {},
   "outputs": [],
   "source": [
    "df_m1 = df_m1[['MIMs_per_Gene', 'CLNREVSTAT', 'Variants_with_MultiMIMs']]\n",
    "df_m1_2ph = df_m1[df_m1['MIMs_per_Gene'] == 2]\n",
    "df_m1_2ph.head()"
   ]
  },
  {
   "cell_type": "code",
   "execution_count": null,
   "id": "e0a56401",
   "metadata": {},
   "outputs": [],
   "source": [
    "%%R -i df_m1_2ph\n",
    "df_m1_2ph <- df_m1_2ph %>%\n",
    "    mutate(CLNREVSTAT = recode(CLNREVSTAT, \"reviewed_by_expert_panel\" = 'expert_panel', \"practice_guideline\" = 'guideline', \n",
    "                               \"no_assertion_criteria_provided\" =  'no_criteria', \n",
    "                              \"criteria_provided,_single_submitter\" = 'single_subm', \n",
    "                              \"criteria_provided,_multiple_submitters,_no_conflicts\" = 'multi_subm'))"
   ]
  },
  {
   "cell_type": "code",
   "execution_count": null,
   "id": "861e60a8",
   "metadata": {},
   "outputs": [],
   "source": [
    "%%R\n",
    "\n",
    "df_m1_2ph_stat <- na.omit(df_m1_2ph)%>%\n",
    "  group_by(Variants_with_MultiMIMs, CLNREVSTAT) %>%\n",
    "  summarize(count = n()) %>%\n",
    "  mutate(prop = (count/sum(count)))\n",
    "\n",
    "df_m1_2ph_stat"
   ]
  },
  {
   "cell_type": "code",
   "execution_count": 141,
   "id": "aa98f58f",
   "metadata": {},
   "outputs": [
    {
     "data": {
      "image/png": "[encoded data removed]",
      "text/plain": [
       "<IPython.core.display.Image object>"
      ]
     },
     "metadata": {},
     "output_type": "display_data"
    }
   ],
   "source": [
    "%%R\n",
    "\n",
    "# stacked barchat\n",
    "df_m1_bar <- ggplot(df_m1_2ph_stat, aes(y=prop, x=as.factor(Variants_with_MultiMIMs),\n",
    "                               fill=factor(CLNREVSTAT))) +\n",
    "    geom_bar(position=\"stack\", stat=\"identity\")+\n",
    "    theme_bw() + \n",
    "    theme(axis.text = element_text(size = 12), axis.title =  element_text(size=14), \n",
    "    legend.text=element_text(size=14)) + \n",
    "    xlab('N of linked MIMs') +  \n",
    "    ylab(NULL)\n",
    "\n",
    "df_m1_bar <- df_m1_bar + guides(fill=guide_legend(title=NULL, nrow=2, byrow=TRUE)) + theme(legend.position=\"bottom\")#+ scale_fill_brewer(palette='RdBu')\n",
    "df_m1_bar <- df_m1_bar + theme(aspect.ratio = 1/2)  + coord_flip()\n",
    "df_m1_bar"
   ]
  },
  {
   "cell_type": "markdown",
   "id": "925bbe2c",
   "metadata": {},
   "source": [
    "# Analysis of Tissue Expression  of GMDs"
   ]
  },
  {
   "cell_type": "code",
   "execution_count": null,
   "id": "1b144a51",
   "metadata": {},
   "outputs": [],
   "source": [
    "import hail as hl\n",
    "hl.init()"
   ]
  },
  {
   "cell_type": "code",
   "execution_count": null,
   "id": "e8777044",
   "metadata": {},
   "outputs": [],
   "source": [
    "! gsutil cp -r gs://gcp-public-data--gnomad/papers/2019-tx-annotation/data/GRCH38/GTEx.V8.tx_medians.021620.ht ./"
   ]
  },
  {
   "cell_type": "code",
   "execution_count": null,
   "id": "38539ef9",
   "metadata": {},
   "outputs": [],
   "source": [
    "gtex = hl.read_table('GTEx.V8.tx_medians.021620.ht')"
   ]
  },
  {
   "cell_type": "code",
   "execution_count": null,
   "id": "56c278d8",
   "metadata": {},
   "outputs": [],
   "source": [
    "df_gtex = gtex.to_pandas()"
   ]
  },
  {
   "cell_type": "code",
   "execution_count": null,
   "id": "93ebca55",
   "metadata": {},
   "outputs": [],
   "source": [
    "df_gtex.head()"
   ]
  },
  {
   "cell_type": "code",
   "execution_count": null,
   "id": "b102e95e",
   "metadata": {},
   "outputs": [],
   "source": [
    "df_gtex_m = pd.concat([df_gtex['agg_expression'].apply(pd.Series), df_gtex['transcript_id'], df_gtex['gene_id']], axis = 1)"
   ]
  },
  {
   "cell_type": "code",
   "execution_count": null,
   "id": "936cb0cf",
   "metadata": {},
   "outputs": [],
   "source": [
    "df_gtex_m.columns = [\"ADPSBQ\", \"ADPVSC\",\"ADRNLG\", \"ARTAORT\", \"ARTCRN\",\"ARTTBL\",\"BLDDER\",\"BRNAMY\",\"BRNACC\",\"BRNCDT\",\"BRNCHB\",\"BRNCHA\",\"BRNCTXA\",\"BRNCTXB\",\"BRNHPP\",\"BRNHPT\",\"BRNNCC\", \"BRNPTM\",\"BRNSPC\",\"BRNSNG\",\"BREAST\",\"LCL\",\"FIBRBLS\",\"CVXECT\",\"CVSEND\",\"CLNSGM\", \"CLNTRN\",\"ESPGEJ\",\"ESPMCS\",\"ESPMSL\",\"FLLPNT\",\"HRTAA\",\"HRTLV\",\"KDNCTX\",\"KDNMDL\",\"LIVER\",\"LUNG\",\"SLVRYG\",\"MSCLSK\",\"NERVET\",\"OVARY\",\"PNCREAS\",\"PTTARY\",\"PRSTTE\",\"SKINNS\",\"SKINS\",\"SNTTRM\",\"SPLEEN\",\"STMACH\",\"TESTIS\",\"THYROID\",\"UTERUS\",\"VAGINA\",\"WHLBLD\", \"transcript_id\", \"gene_id\"]"
   ]
  },
  {
   "cell_type": "code",
   "execution_count": null,
   "id": "2e706591",
   "metadata": {},
   "outputs": [],
   "source": [
    "df_gtex.to_csv('GTEx.V8.tx_medians.021620.csv', sep='\\t', index=False)"
   ]
  },
  {
   "cell_type": "code",
   "execution_count": null,
   "id": "c1319ec2",
   "metadata": {},
   "outputs": [],
   "source": [
    "tx_medians = pd.read_csv('GTEx.V8.tx_medians.021620.csv', sep='\\t')\n",
    "print(tx_medians.shape)\n",
    "print(tx_medians.head())"
   ]
  },
  {
   "cell_type": "code",
   "execution_count": null,
   "id": "9c3b88bc",
   "metadata": {},
   "outputs": [],
   "source": [
    "cols = tx_medians.columns.tolist()\n",
    "cols = cols[-1:] + cols[:-1]\n",
    "cols = cols[-1:] + cols[:-1]\n",
    "tx_medians = tx_medians[cols]\n",
    "tx_medians.head()"
   ]
  },
  {
   "cell_type": "code",
   "execution_count": null,
   "id": "a28966e6",
   "metadata": {},
   "outputs": [],
   "source": [
    "gene_mim_info = df_m[['Ensembl', 'MIMs_per_Gene']].drop_duplicates()\n",
    "gene_mim_info.shape"
   ]
  },
  {
   "cell_type": "code",
   "execution_count": null,
   "id": "6850fb6e",
   "metadata": {},
   "outputs": [],
   "source": [
    "tx_medians = pd.merge(gene_mim_info, tx_medians, how='inner', left_on='Ensembl', right_on='gene_id')\n",
    "print(tx_medians.shape)\n",
    "print(tx_medians.head(3))"
   ]
  },
  {
   "cell_type": "code",
   "execution_count": null,
   "id": "9fd9bd0b",
   "metadata": {},
   "outputs": [],
   "source": [
    "tx_medians = tx_medians.drop(columns=['Ensembl'])"
   ]
  },
  {
   "cell_type": "code",
   "execution_count": null,
   "id": "c46c5a7b",
   "metadata": {},
   "outputs": [],
   "source": [
    "cols = tx_medians.columns.tolist()\n",
    "cols = cols[-1:] + cols[:-1]\n",
    "cols = cols[-1:] + cols[:-1]\n",
    "tx_medians = tx_medians[cols]\n",
    "tx_medians.head()"
   ]
  },
  {
   "cell_type": "code",
   "execution_count": null,
   "id": "c5849254",
   "metadata": {},
   "outputs": [],
   "source": [
    "def gene_class(df):\n",
    "    if df['MIMs_per_Gene'] == 1:\n",
    "        return 'GSD'\n",
    "    else:\n",
    "        return 'GMD'"
   ]
  },
  {
   "cell_type": "code",
   "execution_count": null,
   "id": "736349cb",
   "metadata": {},
   "outputs": [],
   "source": [
    "tx_medians['GeneClass'] = tx_medians.apply(gene_class, axis = 1)\n",
    "cols = tx_medians.columns.tolist()\n",
    "cols = cols[-1:] + cols[:-1]\n",
    "tx_medians = tx_medians[cols]\n",
    "tx_medians.head()"
   ]
  },
  {
   "cell_type": "code",
   "execution_count": null,
   "id": "1eb7b93d",
   "metadata": {},
   "outputs": [],
   "source": [
    "# check if any value in a row is bigger than 5\n",
    "def check_row(row):\n",
    "    row_to_filter = row[4:]\n",
    "    return any(row_to_filter > 5)"
   ]
  },
  {
   "cell_type": "code",
   "execution_count": null,
   "id": "02c1a063",
   "metadata": {},
   "outputs": [],
   "source": [
    "# Apply the function to each row and filter the DataFrame\n",
    "tx_medians_flt = tx_medians[tx_medians.apply(check_row, axis=1)]\n",
    "\n",
    "\n",
    "print(tx_medians_flt.shape)\n",
    "print(tx_medians.shape)\n",
    "\n",
    "tx_medians_flt.head()"
   ]
  },
  {
   "cell_type": "code",
   "execution_count": null,
   "id": "9e518302",
   "metadata": {},
   "outputs": [],
   "source": [
    "gene_tx_flt = tx_medians_flt[['gene_id', 'transcript_id']]\n",
    "tx_medians_flt_per_gene= gene_tx_flt.groupby(['gene_id']).size().reset_index(name = 'tx_per_gene')\n",
    "tx_medians_flt_per_gene.head()"
   ]
  },
  {
   "cell_type": "code",
   "execution_count": null,
   "id": "b618f183",
   "metadata": {},
   "outputs": [],
   "source": [
    "tx_medians_flt_per_gene = tx_medians_flt_per_gene.merge(tx_medians_flt, on='gene_id')"
   ]
  },
  {
   "cell_type": "code",
   "execution_count": null,
   "id": "07e20189",
   "metadata": {},
   "outputs": [],
   "source": [
    "tx_number = tx_medians_flt_per_gene[['GeneClass', 'tx_per_gene']]"
   ]
  },
  {
   "cell_type": "code",
   "execution_count": null,
   "id": "c94c6e6b",
   "metadata": {},
   "outputs": [],
   "source": [
    "%%R -i tx_number\n",
    "\n",
    "tx_number <- as.data.frame(tx_number)\n",
    "head(tx_number)"
   ]
  },
  {
   "cell_type": "code",
   "execution_count": null,
   "id": "5ce241ba",
   "metadata": {},
   "outputs": [],
   "source": [
    "%%R\n",
    "\n",
    "wilcox.test(tx_number$tx_per_gene[tx_number$GeneClass == 'GSD'], tx_number$tx_per_gene[tx_number$GeneClass == 'GMD'], alternative=\"less\")"
   ]
  },
  {
   "cell_type": "code",
   "execution_count": null,
   "id": "2b43ccf1",
   "metadata": {},
   "outputs": [],
   "source": [
    "%%R \n",
    "\n",
    "ggplot(tx_number, aes(x=tx_per_gene, fill=GeneClass)) + \n",
    "geom_histogram(aes(y=..density..),binwidth=1) + geom_density(alpha=.2) + facet_wrap(~GeneClass,nrow=2)"
   ]
  },
  {
   "cell_type": "code",
   "execution_count": null,
   "id": "c080a762",
   "metadata": {},
   "outputs": [],
   "source": [
    "%%R\n",
    "\n",
    "write.csv(tx_number, 'tx_number.csv', quote=FALSE)"
   ]
  },
  {
   "cell_type": "markdown",
   "id": "8ed9e23f",
   "metadata": {},
   "source": [
    "# Constraint metrics of GMDs"
   ]
  },
  {
   "cell_type": "markdown",
   "id": "c042c8b8",
   "metadata": {},
   "source": [
    "source: https://gnomad.broadinstitute.org/"
   ]
  },
  {
   "cell_type": "code",
   "execution_count": 66,
   "id": "502c82d2",
   "metadata": {},
   "outputs": [
    {
     "name": "stdout",
     "output_type": "stream",
     "text": [
      "--2023-09-25 10:18:18--  https://storage.googleapis.com/gcp-public-data--gnomad/release/2.1.1/constraint/gnomad.v2.1.1.lof_metrics.by_gene.txt.bgz\n",
      "Распознаётся storage.googleapis.com (storage.googleapis.com)… 64.233.161.207, 173.194.221.207, 64.233.165.207, ...\n",
      "Подключение к storage.googleapis.com (storage.googleapis.com)|64.233.161.207|:443... соединение установлено.\n",
      "HTTP-запрос отправлен. Ожидание ответа… 200 OK\n",
      "Длина: 4609488 (4,4M) [application/octet-stream]\n",
      "Сохранение в: «gnomad.v2.1.1.lof_metrics.by_gene.txt.bgz»\n",
      "\n",
      "gnomad.v2.1.1.lof_m 100%[===================>]   4,40M  4,34MB/s    за 1,0s    \n",
      "\n",
      "2023-09-25 10:18:19 (4,34 MB/s) - «gnomad.v2.1.1.lof_metrics.by_gene.txt.bgz» сохранён [4609488/4609488]\n",
      "\n"
     ]
    }
   ],
   "source": [
    "! wget https://storage.googleapis.com/gcp-public-data--gnomad/release/2.1.1/constraint/gnomad.v2.1.1.lof_metrics.by_gene.txt.bgz\n",
    "    \n",
    "! gunzip -c  gnomad.v2.1.1.lof_metrics.by_gene.txt.bgz  | cut -f1,21,30,36 > ./data/gnomad.v2.1.1.pli_loeuf.txt"
   ]
  },
  {
   "cell_type": "code",
   "execution_count": 67,
   "id": "1f067e70",
   "metadata": {},
   "outputs": [
    {
     "data": {
      "text/html": [
       "<div>\n",
       "<style scoped>\n",
       "    .dataframe tbody tr th:only-of-type {\n",
       "        vertical-align: middle;\n",
       "    }\n",
       "\n",
       "    .dataframe tbody tr th {\n",
       "        vertical-align: top;\n",
       "    }\n",
       "\n",
       "    .dataframe thead th {\n",
       "        text-align: right;\n",
       "    }\n",
       "</style>\n",
       "<table border=\"1\" class=\"dataframe\">\n",
       "  <thead>\n",
       "    <tr style=\"text-align: right;\">\n",
       "      <th></th>\n",
       "      <th>gene</th>\n",
       "      <th>pLI</th>\n",
       "      <th>oe_lof_upper</th>\n",
       "      <th>oe_lof_upper_bin</th>\n",
       "    </tr>\n",
       "  </thead>\n",
       "  <tbody>\n",
       "    <tr>\n",
       "      <th>0</th>\n",
       "      <td>MED13</td>\n",
       "      <td>1.0</td>\n",
       "      <td>0.030</td>\n",
       "      <td>0.0</td>\n",
       "    </tr>\n",
       "    <tr>\n",
       "      <th>1</th>\n",
       "      <td>NIPBL</td>\n",
       "      <td>1.0</td>\n",
       "      <td>0.032</td>\n",
       "      <td>0.0</td>\n",
       "    </tr>\n",
       "  </tbody>\n",
       "</table>\n",
       "</div>"
      ],
      "text/plain": [
       "    gene  pLI  oe_lof_upper  oe_lof_upper_bin\n",
       "0  MED13  1.0         0.030               0.0\n",
       "1  NIPBL  1.0         0.032               0.0"
      ]
     },
     "execution_count": 67,
     "metadata": {},
     "output_type": "execute_result"
    }
   ],
   "source": [
    "# pLI & loeuf data from gnomAD\n",
    "\n",
    "gnomad = pd.read_csv('gnomad.v2.1.1.pli_loeuf.txt', sep='\\t')\n",
    "gnomad.head(2)"
   ]
  },
  {
   "cell_type": "code",
   "execution_count": 68,
   "id": "e6bd2136",
   "metadata": {},
   "outputs": [
    {
     "data": {
      "text/plain": [
       "(4211, 1)"
      ]
     },
     "execution_count": 68,
     "metadata": {},
     "output_type": "execute_result"
    }
   ],
   "source": [
    "# select genes that are in df (merged data)\n",
    "\n",
    "genes = df_m[['GENEINFO']].drop_duplicates()\n",
    "genes.shape"
   ]
  },
  {
   "cell_type": "code",
   "execution_count": 86,
   "id": "0352914f",
   "metadata": {},
   "outputs": [
    {
     "name": "stdout",
     "output_type": "stream",
     "text": [
      "(4004, 5)\n",
      "    gene  pLI  oe_lof_upper  oe_lof_upper_bin GENEINFO\n",
      "0  MED13  1.0         0.030               0.0    MED13\n",
      "1  NIPBL  1.0         0.032               0.0    NIPBL\n",
      "2   SMC3  1.0         0.037               0.0     SMC3\n",
      "3  CNOT1  1.0         0.038               0.0    CNOT1\n",
      "4   TAF1  1.0         0.043               0.0     TAF1\n"
     ]
    }
   ],
   "source": [
    "gnomad_flt = pd.merge(gnomad, genes, left_on=['gene'], right_on=['GENEINFO'], how='inner')\n",
    "\n",
    "print(gnomad_flt.shape)\n",
    "print(gnomad_flt.head())"
   ]
  },
  {
   "cell_type": "code",
   "execution_count": 87,
   "id": "07fbb15d",
   "metadata": {},
   "outputs": [],
   "source": [
    "# select genes with 2+ pheno (merged data)\n",
    "\n",
    "genesMulPh = df_m[df_m['MIMs_per_Gene'] > 1]\n",
    "genesMulPh = genesMulPh[['GENEINFO']].drop_duplicates()"
   ]
  },
  {
   "cell_type": "markdown",
   "id": "de3435ad",
   "metadata": {},
   "source": [
    "### pLI "
   ]
  },
  {
   "cell_type": "code",
   "execution_count": 88,
   "id": "eb203c5b",
   "metadata": {},
   "outputs": [],
   "source": [
    "# select pLI\n",
    "\n",
    "gn_pLI = gnomad_flt[['GENEINFO', 'pLI']]"
   ]
  },
  {
   "cell_type": "code",
   "execution_count": 89,
   "id": "ccfe5f74",
   "metadata": {},
   "outputs": [
    {
     "data": {
      "text/html": [
       "<div>\n",
       "<style scoped>\n",
       "    .dataframe tbody tr th:only-of-type {\n",
       "        vertical-align: middle;\n",
       "    }\n",
       "\n",
       "    .dataframe tbody tr th {\n",
       "        vertical-align: top;\n",
       "    }\n",
       "\n",
       "    .dataframe thead th {\n",
       "        text-align: right;\n",
       "    }\n",
       "</style>\n",
       "<table border=\"1\" class=\"dataframe\">\n",
       "  <thead>\n",
       "    <tr style=\"text-align: right;\">\n",
       "      <th></th>\n",
       "      <th>GENEINFO</th>\n",
       "      <th>pLI</th>\n",
       "      <th>Multiple_phenotypes</th>\n",
       "    </tr>\n",
       "  </thead>\n",
       "  <tbody>\n",
       "    <tr>\n",
       "      <th>0</th>\n",
       "      <td>MED13</td>\n",
       "      <td>1.0</td>\n",
       "      <td>False</td>\n",
       "    </tr>\n",
       "    <tr>\n",
       "      <th>1</th>\n",
       "      <td>NIPBL</td>\n",
       "      <td>1.0</td>\n",
       "      <td>False</td>\n",
       "    </tr>\n",
       "    <tr>\n",
       "      <th>2</th>\n",
       "      <td>SMC3</td>\n",
       "      <td>1.0</td>\n",
       "      <td>False</td>\n",
       "    </tr>\n",
       "    <tr>\n",
       "      <th>3</th>\n",
       "      <td>CNOT1</td>\n",
       "      <td>1.0</td>\n",
       "      <td>False</td>\n",
       "    </tr>\n",
       "    <tr>\n",
       "      <th>4</th>\n",
       "      <td>TAF1</td>\n",
       "      <td>1.0</td>\n",
       "      <td>True</td>\n",
       "    </tr>\n",
       "  </tbody>\n",
       "</table>\n",
       "</div>"
      ],
      "text/plain": [
       "  GENEINFO  pLI  Multiple_phenotypes\n",
       "0    MED13  1.0                False\n",
       "1    NIPBL  1.0                False\n",
       "2     SMC3  1.0                False\n",
       "3    CNOT1  1.0                False\n",
       "4     TAF1  1.0                 True"
      ]
     },
     "execution_count": 89,
     "metadata": {},
     "output_type": "execute_result"
    }
   ],
   "source": [
    "# mark genes with 1 and 2+ associated diseases\n",
    "\n",
    "pLI = pd.merge(gn_pLI, genesMulPh, on=['GENEINFO'], how='left', indicator='Multiple_phenotypes')\n",
    "pLI['Multiple_phenotypes'] = np.where(pLI.Multiple_phenotypes == 'both', True, False)\n",
    "pLI.shape\n",
    "pLI.head()"
   ]
  },
  {
   "cell_type": "code",
   "execution_count": 90,
   "id": "75665431",
   "metadata": {},
   "outputs": [],
   "source": [
    "pLI.to_csv('pLI_dfgenes.csv', sep='\\t', index=False)"
   ]
  },
  {
   "cell_type": "code",
   "execution_count": 91,
   "id": "3126f647",
   "metadata": {},
   "outputs": [],
   "source": [
    "pLI = pd.read_csv('pLI_dfgenes.csv', sep='\\t')"
   ]
  },
  {
   "cell_type": "code",
   "execution_count": 92,
   "id": "5658669c",
   "metadata": {},
   "outputs": [
    {
     "name": "stdout",
     "output_type": "stream",
     "text": [
      "[1] 1002\n",
      "[1] 3002\n"
     ]
    }
   ],
   "source": [
    "%%R -i pLI\n",
    "\n",
    "pLI$pLI <- as.character(pLI$pLI)\n",
    "pLI$pLI <- as.numeric(pLI$pLI)\n",
    "\n",
    "print(nrow(pLI[pLI$Multiple_phenotypes == 'TRUE', ]))\n",
    "print(nrow(pLI[pLI$Multiple_phenotypes == 'FALSE', ]))"
   ]
  },
  {
   "cell_type": "code",
   "execution_count": 93,
   "id": "980bf863",
   "metadata": {},
   "outputs": [
    {
     "name": "stdout",
     "output_type": "stream",
     "text": [
      "\n",
      "\tWilcoxon rank sum test with continuity correction\n",
      "\n",
      "data:  pLI$pLI[pLI$Multiple_phenotypes == \"FALSE\"] and pLI$pLI[pLI$Multiple_phenotypes == \"TRUE\"]\n",
      "W = 1469023, p-value = 0.1451\n",
      "alternative hypothesis: true location shift is less than 0\n",
      "\n"
     ]
    }
   ],
   "source": [
    "%%R\n",
    "\n",
    "wilcox.test(pLI$pLI[pLI$Multiple_phenotypes == 'FALSE'], pLI$pLI[pLI$Multiple_phenotypes == 'TRUE'], alternative=\"less\")"
   ]
  },
  {
   "cell_type": "code",
   "execution_count": 117,
   "id": "df72a7b2",
   "metadata": {},
   "outputs": [
    {
     "name": "stdout",
     "output_type": "stream",
     "text": [
      "`summarise()` has grouped output by 'Multiple_phenotypes'. You can override\n",
      "using the `.groups` argument.\n"
     ]
    }
   ],
   "source": [
    "%%R\n",
    "\n",
    "# classify pLI value \n",
    "\n",
    "pLI <- pLI %>% \n",
    "  mutate(class = case_when(\n",
    "    pLI <= 0.1 ~ 'pLOF tolerant (pLI <=0.1)',\n",
    "    pLI >= 0.9 ~ 'pLOF intolerant (pLI >=0.9)',\n",
    "    pLI > 0.1 & pLI < 0.9 ~ 'intermediate tolerance'))\n",
    "\n",
    "# count\n",
    "stat_pli <- na.omit(pLI)%>%\n",
    "  group_by(Multiple_phenotypes, class) %>%\n",
    "  summarize(count = n()) %>%\n",
    "  mutate(prop = (count/sum(count)))\n",
    "\n",
    "\n",
    "stat_pli\n",
    "write.csv(stat_pli, 'pli_dfgenes.csv', sep='\\t', quote=FALSE)"
   ]
  },
  {
   "cell_type": "code",
   "execution_count": 95,
   "id": "670b09cf",
   "metadata": {},
   "outputs": [
    {
     "name": "stdout",
     "output_type": "stream",
     "text": [
      "  Multiple_phenotypes                       class count      prop\n",
      "2               FALSE pLOF intolerant (pLI >=0.9)   698 0.2327442\n",
      "3               FALSE   pLOF tolerant (pLI <=0.1)  1865 0.6218740\n",
      "5                TRUE pLOF intolerant (pLI >=0.9)   287 0.2864271\n",
      "6                TRUE   pLOF tolerant (pLI <=0.1)   570 0.5688623\n"
     ]
    }
   ],
   "source": [
    "%%R\n",
    "\n",
    "test <- as.data.frame(stat_pli)\n",
    "test <- test[test$class != \"intermediate tolerance\", ]\n",
    "as.data.frame(test)"
   ]
  },
  {
   "cell_type": "code",
   "execution_count": 96,
   "id": "d8a4a5f7",
   "metadata": {},
   "outputs": [],
   "source": [
    "%%R\n",
    "\n",
    "dat <- data.frame(pli=c(rep(\"Tol\", 2435),rep(\"InT\", 985)), MPh=c(rep('FALSE', 1865), rep('TRUE',570 ), rep('FALSE', 698), rep('TRUE', 287)))"
   ]
  },
  {
   "cell_type": "code",
   "execution_count": 97,
   "id": "00c6e0a7",
   "metadata": {},
   "outputs": [
    {
     "name": "stdout",
     "output_type": "stream",
     "text": [
      "     MPh\n",
      "pli   FALSE TRUE\n",
      "  InT   698  287\n",
      "  Tol  1865  570\n"
     ]
    }
   ],
   "source": [
    "%%R\n",
    "table(dat)"
   ]
  },
  {
   "cell_type": "code",
   "execution_count": 98,
   "id": "49a32ac3",
   "metadata": {},
   "outputs": [
    {
     "name": "stdout",
     "output_type": "stream",
     "text": [
      "\n",
      "\tPearson's Chi-squared test with Yates' continuity correction\n",
      "\n",
      "data:  dat$MPh and dat$pli\n",
      "X-squared = 11.952, df = 1, p-value = 0.000546\n",
      "\n"
     ]
    }
   ],
   "source": [
    "%%R \n",
    "chisq.test(dat$MPh, dat$pli)"
   ]
  },
  {
   "cell_type": "code",
   "execution_count": 99,
   "id": "db6b95f5",
   "metadata": {},
   "outputs": [
    {
     "data": {
      "image/png": "[encoded data removed]",
      "text/plain": [
       "<IPython.core.display.Image object>"
      ]
     },
     "metadata": {},
     "output_type": "display_data"
    }
   ],
   "source": [
    "%%R\n",
    "\n",
    "pli_bar <- ggplot(na.omit(stat_pli), aes(y=prop, x=Multiple_phenotypes, label=count,\n",
    "                               fill=factor(class, levels=c(\"pLOF intolerant (pLI >=0.9)\",\n",
    "                                                           \"intermediate tolerance\",\n",
    "                                                           \"pLOF tolerant (pLI <=0.1)\", 'NA')))) +\n",
    "    geom_bar(position=\"stack\", stat=\"identity\")+\n",
    "    theme_bw() + \n",
    "    theme(axis.text = element_text(size = 12), axis.title =  element_text(size=14), \n",
    "    legend.text=element_text(size=14)) + \n",
    "    xlab('Genes with multiple phenotypes') +  \n",
    "    ylab(NULL) + \n",
    "    scale_y_continuous(labels = percent_format()) + theme_set(theme_gray(base_family = \"DejaVu\")) + geom_text(size = 4, position = position_stack(vjust = 0.5), family='DejaVu')\n",
    "\n",
    "pli_bar <- pli_bar + guides(fill=guide_legend(title=NULL, nrow=2, byrow=TRUE)) + theme(legend.position=\"bottom\") + scale_fill_brewer(palette = \"RdBu\")\n",
    "pli_bar <- pli_bar + theme(aspect.ratio = 1/2)  + coord_flip() \n",
    "pli_bar\n"
   ]
  },
  {
   "cell_type": "markdown",
   "id": "052c56fc",
   "metadata": {},
   "source": [
    "### LOEUF "
   ]
  },
  {
   "cell_type": "code",
   "execution_count": 101,
   "id": "498cd443",
   "metadata": {},
   "outputs": [],
   "source": [
    "# select loeuf\n",
    "\n",
    "gn_loeuf = gnomad_flt[['GENEINFO', 'oe_lof_upper', 'oe_lof_upper_bin']]"
   ]
  },
  {
   "cell_type": "code",
   "execution_count": 102,
   "id": "95916718",
   "metadata": {},
   "outputs": [
    {
     "data": {
      "text/plain": [
       "(4004, 4)"
      ]
     },
     "execution_count": 102,
     "metadata": {},
     "output_type": "execute_result"
    }
   ],
   "source": [
    "loeuf = pd.merge(gn_loeuf, genesMulPh, on=['GENEINFO'], how='left', indicator='Multiple_phenotypes')\n",
    "loeuf['Multiple_phenotypes'] = np.where(loeuf.Multiple_phenotypes == 'both', True, False)\n",
    "loeuf.shape"
   ]
  },
  {
   "cell_type": "code",
   "execution_count": 121,
   "id": "f8ae18cd",
   "metadata": {},
   "outputs": [],
   "source": [
    "loeuf.to_csv('LOEUF_dfgenes.csv', sep='\\t', index=False)"
   ]
  },
  {
   "cell_type": "code",
   "execution_count": 122,
   "id": "b8fc4105",
   "metadata": {},
   "outputs": [],
   "source": [
    "loeuf = pd.read_csv('LOEUF_dfgenes.csv', sep='\\t')"
   ]
  },
  {
   "cell_type": "code",
   "execution_count": 123,
   "id": "dfd76519",
   "metadata": {},
   "outputs": [
    {
     "data": {
      "image/png": "[encoded data removed]",
      "text/plain": [
       "<IPython.core.display.Image object>"
      ]
     },
     "metadata": {},
     "output_type": "display_data"
    }
   ],
   "source": [
    "%%R -i loeuf\n",
    "\n",
    "loeuf_violin <- ggplot(na.omit(loeuf), aes(x=Multiple_phenotypes, y=oe_lof_upper)) + \n",
    "                geom_violin(fill='blue', alpha=0.25, trim=FALSE) + theme_bw() + \n",
    "                theme(axis.text = element_text(size = 10), axis.title =  element_text(size=14, face=\"bold\")) + \n",
    "                xlab('Genes associated with multiple phenotypes') + ylab('LOEUF') + theme_set(theme_gray(base_family = \"DejaVu\"))\n",
    "\n",
    "loeuf_violin <- loeuf_violin + geom_boxplot(width=0.1, outlier.shape = NA)\n",
    "\n",
    "loeuf_violin"
   ]
  },
  {
   "cell_type": "code",
   "execution_count": 124,
   "id": "399eebd5",
   "metadata": {},
   "outputs": [
    {
     "name": "stdout",
     "output_type": "stream",
     "text": [
      "\n",
      "\tWilcoxon rank sum test with continuity correction\n",
      "\n",
      "data:  loeuf$oe_lof_upper[loeuf$Multiple_phenotypes == \"FALSE\"] and loeuf$oe_lof_upper[loeuf$Multiple_phenotypes == \"TRUE\"]\n",
      "W = 1682081, p-value = 7.027e-09\n",
      "alternative hypothesis: true location shift is greater than 0\n",
      "\n"
     ]
    }
   ],
   "source": [
    "%%R\n",
    "\n",
    "wilcox.test(loeuf$oe_lof_upper[loeuf$Multiple_phenotypes == 'FALSE'],\n",
    "            loeuf$oe_lof_upper[loeuf$Multiple_phenotypes == 'TRUE'], alternative='greater')"
   ]
  },
  {
   "cell_type": "code",
   "execution_count": 127,
   "id": "2f22ef8b",
   "metadata": {},
   "outputs": [
    {
     "name": "stdout",
     "output_type": "stream",
     "text": [
      "`summarise()` has grouped output by 'Multiple_phenotypes'. You can override\n",
      "using the `.groups` argument.\n"
     ]
    }
   ],
   "source": [
    "%%R\n",
    "\n",
    "# count\n",
    "loeuf_dec <- na.omit(loeuf)%>%\n",
    "  group_by(Multiple_phenotypes, oe_lof_upper_bin) %>%\n",
    "  summarize(count = n()) %>%\n",
    "  mutate(prop = (count/sum(count)))\n",
    "\n",
    "head(loeuf_dec)\n",
    "write.csv(loeuf_dec, 'loeuf_dec.csv', sep='\\t', quote=FALSE)"
   ]
  },
  {
   "cell_type": "code",
   "execution_count": 112,
   "id": "1d61e064",
   "metadata": {},
   "outputs": [
    {
     "data": {
      "image/png": "[encoded data removed]",
      "text/plain": [
       "<IPython.core.display.Image object>"
      ]
     },
     "metadata": {},
     "output_type": "display_data"
    }
   ],
   "source": [
    "%%R\n",
    "\n",
    "loeuf_dec_pl <- ggplot(na.omit(loeuf_dec), aes(x=as.factor(oe_lof_upper_bin), y=prop)) + geom_bar(stat='identity')+\n",
    " geom_bar(position=\"stack\", stat=\"identity\", fill='blue', alpha=0.4)+\n",
    "    theme_bw() + \n",
    "    theme(axis.text = element_text(size = 12), axis.title =  element_text(size=14), \n",
    "    legend.text=element_text(size=10)) + \n",
    "    xlab('LOEUF decile') +  \n",
    "    ylab(NULL) + \n",
    "    scale_y_continuous(labels = percent_format()) + theme_set(theme_gray(base_family = \"DejaVu\"))\n",
    "\n",
    "genes.labs <- c(\"Genes with \\n 1 associated disease\", \"Genes with \\n 2+ associated diseases\")\n",
    "names(genes.labs) <- c(\"FALSE\", \"TRUE\")\n",
    "                      \n",
    "loeuf_dec_pl <- loeuf_dec_pl + facet_grid(. ~ Multiple_phenotypes, labeller = labeller(Multiple_phenotypes = genes.labs)) + \n",
    "                theme(strip.text.x = element_text(size = 12, face = \"bold\")) \n",
    "\n",
    "loeuf_dec_pl"
   ]
  },
  {
   "cell_type": "code",
   "execution_count": 113,
   "id": "fad936f5",
   "metadata": {},
   "outputs": [
    {
     "name": "stdout",
     "output_type": "stream",
     "text": [
      "\n",
      "\tWilcoxon rank sum test with continuity correction\n",
      "\n",
      "data:  loeuf$oe_lof_upper_bin[loeuf$Multiple_phenotypes == \"FALSE\"] and loeuf$oe_lof_upper_bin[loeuf$Multiple_phenotypes == \"TRUE\"]\n",
      "W = 1676811, p-value = 2.886e-08\n",
      "alternative hypothesis: true location shift is not equal to 0\n",
      "\n"
     ]
    }
   ],
   "source": [
    "%%R\n",
    "\n",
    "wilcox.test(loeuf$oe_lof_upper_bin[loeuf$Multiple_phenotypes == 'FALSE'], loeuf$oe_lof_upper_bin[loeuf$Multiple_phenotypes == 'TRUE'])"
   ]
  },
  {
   "cell_type": "markdown",
   "id": "1fe8cf82",
   "metadata": {},
   "source": [
    "## HPO Upper Terms linked to GMDs"
   ]
  },
  {
   "cell_type": "code",
   "execution_count": null,
   "id": "fa621707",
   "metadata": {},
   "outputs": [],
   "source": [
    "# select genes  with 2 associated syndromes\n",
    "\n",
    "genes2pheno_to_mim = df_m[df_m['MIMs_per_Gene'] == 2]\n",
    "genes2pheno_to_mim = genes2pheno_to_mim[['GENEINFO', 'OMIM']].drop_duplicates()\n",
    "genes2pheno_to_mim"
   ]
  },
  {
   "cell_type": "code",
   "execution_count": null,
   "id": "f4ff87fe",
   "metadata": {},
   "outputs": [],
   "source": [
    "# list of genes - MIM associations for genes with 2 diseases \n",
    "\n",
    "genes2pheno_to_mim.to_csv('G2Ph_MIM.csv', sep='\\t', index=False)\n",
    "\n",
    "! sed -i 1d G2Ph_MIM.csv"
   ]
  },
  {
   "cell_type": "code",
   "execution_count": null,
   "id": "04515ffe",
   "metadata": {},
   "outputs": [],
   "source": [
    "# list of genes with 2 associated diseases\n",
    "\n",
    "genes2pheno_to_mim['GENEINFO'].drop_duplicates().to_csv('G2Ph_genes.txt', sep='\\t', index=False)\n",
    "\n",
    "! sed -i 1d G2Ph_genes.txt"
   ]
  },
  {
   "cell_type": "code",
   "execution_count": null,
   "id": "a0efd900",
   "metadata": {},
   "outputs": [],
   "source": [
    "# run script for similarity scores estimation\n",
    "\n",
    "! bash /script/g2ph_simscore.sh"
   ]
  },
  {
   "cell_type": "code",
   "execution_count": null,
   "id": "2a084c40",
   "metadata": {},
   "outputs": [],
   "source": [
    "gsd_terms = pd.read_csv('GSD_nterms.csv', sep=',')\n",
    "gsd_terms.head()\n",
    "\n",
    "gsd_terms['N_MIMs'] = \"GSD\""
   ]
  },
  {
   "cell_type": "code",
   "execution_count": null,
   "id": "ed3819ee",
   "metadata": {},
   "outputs": [],
   "source": [
    "gmd_terms = pd.read_csv('GMD_nterms.csv', sep=',')\n",
    "gmd_terms.head()\n",
    "\n",
    "gmd_terms['N_MIMs'] = \"GMD\""
   ]
  },
  {
   "cell_type": "code",
   "execution_count": null,
   "id": "00f8b1bc",
   "metadata": {},
   "outputs": [],
   "source": [
    "top_terms = pd.concat([gsd_terms, gmd_terms], axis=0)"
   ]
  },
  {
   "cell_type": "code",
   "execution_count": null,
   "id": "5972dbc4",
   "metadata": {},
   "outputs": [],
   "source": [
    "%%R -i top_terms\n",
    "top_terms <- as.data.frame(top_terms)"
   ]
  },
  {
   "cell_type": "code",
   "execution_count": null,
   "id": "a5dd234d",
   "metadata": {},
   "outputs": [],
   "source": [
    "%%R\n",
    "\n",
    "wilcox.test(top_terms$N_upperterms[top_terms$N_MIMs == 'GSD'], top_terms$N_upperterms[top_terms$N_MIMs == 'GMD'] )"
   ]
  },
  {
   "cell_type": "code",
   "execution_count": null,
   "id": "d1663978",
   "metadata": {},
   "outputs": [],
   "source": [
    "%%R\n",
    "\n",
    "ggplot(top_terms, aes(x=N_MIMs, y=N_upperterms)) + geom_boxplot()"
   ]
  },
  {
   "cell_type": "markdown",
   "id": "314c7994",
   "metadata": {},
   "source": [
    "# Enrichment Analysis"
   ]
  },
  {
   "cell_type": "markdown",
   "id": "5011bc5f",
   "metadata": {},
   "source": [
    "### collect genes with 2+ phenotypes "
   ]
  },
  {
   "cell_type": "code",
   "execution_count": 115,
   "id": "505e5d4c",
   "metadata": {},
   "outputs": [],
   "source": [
    "# List of genes with multiple associated phenotypes for Enrichment Analysis (merged data)\n",
    "\n",
    "genesmultipheno_for_EA = df_m[df_m['MIMs_per_Gene'] > 1]\n",
    "genesmultipheno_for_EA = genesmultipheno_for_EA[['GENEINFO', 'Ensembl']].drop_duplicates()\n",
    "genesmultipheno_for_EA.to_csv('GeneMultiPheno_ensg_for_EA.csv', sep='\\t', index=False)"
   ]
  },
  {
   "cell_type": "code",
   "execution_count": 116,
   "id": "ab17278b",
   "metadata": {},
   "outputs": [
    {
     "name": "stdout",
     "output_type": "stream",
     "text": [
      "[1] 1035\n"
     ]
    }
   ],
   "source": [
    "%%R -i genesmultipheno_for_EA\n",
    "\n",
    "mgene <- unique(genesmultipheno_for_EA$Ensembl)\n",
    "length(mgene)"
   ]
  },
  {
   "cell_type": "markdown",
   "id": "a173b1a7",
   "metadata": {},
   "source": [
    "### universe = genes from custom dataframe"
   ]
  },
  {
   "cell_type": "code",
   "execution_count": 119,
   "id": "0182501b",
   "metadata": {},
   "outputs": [
    {
     "data": {
      "text/plain": [
       "4210"
      ]
     },
     "execution_count": 119,
     "metadata": {},
     "output_type": "execute_result"
    }
   ],
   "source": [
    "# merged data\n",
    "\n",
    "universe = df_m[['Ensembl']].drop_duplicates()\n",
    "universe.shape[0]"
   ]
  },
  {
   "cell_type": "code",
   "execution_count": 120,
   "id": "111e7ee3",
   "metadata": {},
   "outputs": [],
   "source": [
    "universe.to_csv('df_genelist.txt', index=False)"
   ]
  },
  {
   "cell_type": "markdown",
   "id": "90b58d75",
   "metadata": {},
   "source": [
    "### 9.1. C2.Canonical Pathways collection "
   ]
  },
  {
   "cell_type": "code",
   "execution_count": 60,
   "id": "1e28c567",
   "metadata": {},
   "outputs": [
    {
     "name": "stdout",
     "output_type": "stream",
     "text": [
      "[1] 130371\n",
      "[1] 33699\n"
     ]
    }
   ],
   "source": [
    "%%R -i universe\n",
    "\n",
    "### load collection\n",
    "C2.CP <- as.data.frame(msigdbr(species = \"Homo sapiens\", \n",
    "                               category = \"C2\",\n",
    "                               subcategory = \"CP:BIOCARTA\")) %>% \n",
    "  bind_rows(as.data.frame(msigdbr(species = \"Homo sapiens\", \n",
    "                                  category = \"C2\",\n",
    "                                  subcategory = \"CP:KEGG\"))) %>% \n",
    "  bind_rows(as.data.frame(msigdbr(species = \"Homo sapiens\", \n",
    "                                  category = \"C2\",\n",
    "                                  subcategory = \"CP:PID\"))) %>% \n",
    "  bind_rows(as.data.frame(msigdbr(species = \"Homo sapiens\", \n",
    "                                  category = \"C2\",\n",
    "                                  subcategory = \"CP:REACTOME\")))\n",
    "\n",
    "\n",
    "## subset collection based on OMIM genes for enrichment\n",
    "\n",
    "C2.CP <- C2.CP %>% \n",
    "  dplyr::select(gs_name, ensembl_gene)\n",
    "\n",
    "C2CP_t2g <-C2.CP %>%\n",
    "  filter(ensembl_gene %in% universe$Ensembl)\n",
    "\n",
    "print(nrow(C2.CP))\n",
    "print(nrow(C2CP_t2g))"
   ]
  },
  {
   "cell_type": "code",
   "execution_count": 61,
   "id": "778aba37",
   "metadata": {},
   "outputs": [
    {
     "data": {
      "image/png": "[encoded data removed]"
     },
     "metadata": {},
     "output_type": "display_data"
    }
   ],
   "source": [
    "%%R\n",
    "\n",
    "mres_C2CP <- enricher(mgene, TERM2GENE = C2CP_t2g)\n",
    "\n",
    "dotplot(mres_C2CP, showCategory = 20,font.size = 7)+ ggtitle(' Genes with 2+ associated diseases \\n C2:СР')"
   ]
  },
  {
   "cell_type": "markdown",
   "id": "21204154",
   "metadata": {},
   "source": [
    "### 9.2 C5.HPO collection"
   ]
  },
  {
   "cell_type": "code",
   "execution_count": 62,
   "id": "7fc80ffb",
   "metadata": {},
   "outputs": [
    {
     "name": "stdout",
     "output_type": "stream",
     "text": [
      "[1] 464649\n",
      "[1] 337013\n"
     ]
    }
   ],
   "source": [
    "%%R -i universe\n",
    "\n",
    "C5.HPO <- msigdbr(species = \"Homo sapiens\", category = \"C5\", subcategory = \"HPO\")\n",
    "\n",
    "HPO <- C5.HPO %>% \n",
    "  dplyr::select(gs_name, ensembl_gene)\n",
    "\n",
    "C5HPO_t2g <-HPO %>%\n",
    "  filter(ensembl_gene %in% universe$Ensembl)\n",
    "\n",
    "print(nrow(HPO))\n",
    "print(nrow(C5HPO_t2g))"
   ]
  },
  {
   "cell_type": "code",
   "execution_count": 63,
   "id": "cdd2a76b",
   "metadata": {},
   "outputs": [
    {
     "data": {
      "image/png": "[encoded data removed]"
     },
     "metadata": {},
     "output_type": "display_data"
    }
   ],
   "source": [
    "%%R\n",
    "\n",
    "mres_C5 <- enricher(mgene, TERM2GENE = C5HPO_t2g)\n",
    "\n",
    "dotplot(mres_C5, showCategory = 20,font.size = 7) + ggtitle(' Genes with 2+ associated diseases \\n C5:HPO')\n"
   ]
  }
 ],
 "metadata": {
  "kernelspec": {
   "display_name": "Python 3 (ipykernel)",
   "language": "python",
   "name": "python3"
  },
  "language_info": {
   "codemirror_mode": {
    "name": "ipython",
    "version": 3
   },
   "file_extension": ".py",
   "mimetype": "text/x-python",
   "name": "python",
   "nbconvert_exporter": "python",
   "pygments_lexer": "ipython3",
   "version": "3.11.5"
  }
 },
 "nbformat": 4,
 "nbformat_minor": 5
}
